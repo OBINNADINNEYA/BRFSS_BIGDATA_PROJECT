{
 "cells": [
  {
   "cell_type": "code",
   "execution_count": 1,
   "id": "ddbaa07d",
   "metadata": {},
   "outputs": [],
   "source": [
    "import warnings\n",
    "warnings.filterwarnings(\"ignore\")"
   ]
  },
  {
   "cell_type": "markdown",
   "id": "67e7873d",
   "metadata": {},
   "source": [
    "### MODEL DEVELOPMENT"
   ]
  },
  {
   "cell_type": "code",
   "execution_count": 2,
   "id": "bd976c79",
   "metadata": {},
   "outputs": [],
   "source": [
    "import pandas as pd \n",
    "import seaborn as sns \n",
    "import statistics\n",
    "import numpy as np\n",
    "import matplotlib.pyplot as plt"
   ]
  },
  {
   "cell_type": "code",
   "execution_count": 3,
   "id": "0b20dce9",
   "metadata": {},
   "outputs": [],
   "source": [
    "%matplotlib inline"
   ]
  },
  {
   "cell_type": "code",
   "execution_count": 4,
   "id": "46c8853a",
   "metadata": {},
   "outputs": [],
   "source": [
    "#Read in cleaned 2019 and 2021 Dataframes with numerical outliers removed\n",
    "model_train = pd.read_csv('mydata/MMSA2019_Cleaned_2.csv')\n",
    "model_valid = pd.read_csv('mydata/MMSA2021_Cleaned_2.csv')"
   ]
  },
  {
   "cell_type": "code",
   "execution_count": 5,
   "id": "7fb884eb",
   "metadata": {
    "scrolled": true
   },
   "outputs": [
    {
     "name": "stdout",
     "output_type": "stream",
     "text": [
      "<class 'pandas.core.frame.DataFrame'>\n",
      "RangeIndex: 83666 entries, 0 to 83665\n",
      "Data columns (total 97 columns):\n",
      " #   Column    Non-Null Count  Dtype  \n",
      "---  ------    --------------  -----  \n",
      " 0   DISPCODE  83666 non-null  int64  \n",
      " 1   HHADULT   83666 non-null  float64\n",
      " 2   SEXVAR    83666 non-null  object \n",
      " 3   GENHLTH   83666 non-null  object \n",
      " 4   PHYSHLTH  83666 non-null  float64\n",
      " 5   MENTHLTH  83666 non-null  float64\n",
      " 6   _HLTHPLN  83666 non-null  object \n",
      " 7   MEDCOST1  83666 non-null  object \n",
      " 8   CHECKUP1  83666 non-null  object \n",
      " 9   CVDINFR4  83666 non-null  object \n",
      " 10  CVDCRHD4  83666 non-null  object \n",
      " 11  CVDSTRK3  83666 non-null  object \n",
      " 12  ASTHMA3   83666 non-null  object \n",
      " 13  CHCSCNCR  83666 non-null  object \n",
      " 14  CHCOCNCR  83666 non-null  object \n",
      " 15  ADDEPEV3  83666 non-null  object \n",
      " 16  CHCKDNY2  83666 non-null  object \n",
      " 17  DIABETE4  83666 non-null  object \n",
      " 18  MARITAL   83666 non-null  object \n",
      " 19  EDUCA     83666 non-null  object \n",
      " 20  RENTHOM1  83666 non-null  object \n",
      " 21  CPDEMO1B  83666 non-null  float64\n",
      " 22  VETERAN3  83666 non-null  object \n",
      " 23  EMPLOY1   83666 non-null  object \n",
      " 24  CHILDREN  83666 non-null  float64\n",
      " 25  WEIGHT2   83666 non-null  float64\n",
      " 26  HEIGHT3   83666 non-null  float64\n",
      " 27  DEAF      83666 non-null  object \n",
      " 28  BLIND     83666 non-null  object \n",
      " 29  DECIDE    83666 non-null  object \n",
      " 30  DIFFWALK  83666 non-null  object \n",
      " 31  DIFFDRES  83666 non-null  object \n",
      " 32  DIFFALON  83666 non-null  object \n",
      " 33  SMOKE100  83666 non-null  object \n",
      " 34  USENOW3   83666 non-null  object \n",
      " 35  EXERANY2  83666 non-null  object \n",
      " 36  FLUSHOT7  83666 non-null  object \n",
      " 37  PNEUVAC4  83666 non-null  object \n",
      " 38  HIVTST7   83666 non-null  object \n",
      " 39  _STSTR    83666 non-null  int64  \n",
      " 40  _IMPSEX   83666 non-null  object \n",
      " 41  _RFHLTH   83666 non-null  object \n",
      " 42  _PHYS14D  83666 non-null  int64  \n",
      " 43  _MENT14D  83666 non-null  int64  \n",
      " 44  _RFHYPE6  83666 non-null  object \n",
      " 45  _RFCHOL3  83666 non-null  object \n",
      " 46  _MICHD    83666 non-null  object \n",
      " 47  _LTASTH1  83666 non-null  object \n",
      " 48  _CASTHM1  83666 non-null  object \n",
      " 49  _ASTHMS1  83666 non-null  object \n",
      " 50  _PRACE1   83666 non-null  object \n",
      " 51  _MRACE1   83666 non-null  object \n",
      " 52  _HISPANC  83666 non-null  object \n",
      " 53  _RACE     83666 non-null  object \n",
      " 54  _RACEG21  83666 non-null  object \n",
      " 55  _RACEGR3  83666 non-null  object \n",
      " 56  _SEX      83666 non-null  object \n",
      " 57  _AGEG5YR  83666 non-null  object \n",
      " 58  _AGE65YR  83666 non-null  object \n",
      " 59  _AGE80    83666 non-null  int64  \n",
      " 60  _AGE_G    83666 non-null  object \n",
      " 61  WTKG3     83666 non-null  float64\n",
      " 62  _BMI5     83666 non-null  float64\n",
      " 63  _BMI5CAT  83666 non-null  object \n",
      " 64  _RFBMI5   83666 non-null  object \n",
      " 65  _EDUCAG   83666 non-null  object \n",
      " 66  _INCOMG1  83666 non-null  object \n",
      " 67  _SMOKER3  83666 non-null  object \n",
      " 68  _RFSMOK3  83666 non-null  object \n",
      " 69  DRNKANY5  83666 non-null  int64  \n",
      " 70  _RFBING5  83666 non-null  object \n",
      " 71  _DRNKWK1  83666 non-null  float64\n",
      " 72  _RFDRHV7  83666 non-null  object \n",
      " 73  _TOTINDA  83666 non-null  object \n",
      " 74  FTJUDA2_  83666 non-null  float64\n",
      " 75  FRUTDA2_  83666 non-null  float64\n",
      " 76  GRENDA1_  83666 non-null  float64\n",
      " 77  FRNCHDA_  83666 non-null  float64\n",
      " 78  POTADA1_  83666 non-null  float64\n",
      " 79  VEGEDA2_  83666 non-null  float64\n",
      " 80  _MISFRT1  83666 non-null  int64  \n",
      " 81  _MISVEG1  83666 non-null  int64  \n",
      " 82  _FRTRES1  83666 non-null  int64  \n",
      " 83  _VEGRES1  83666 non-null  int64  \n",
      " 84  _FRUTSU1  83666 non-null  float64\n",
      " 85  _VEGESU1  83666 non-null  float64\n",
      " 86  _FRTLT1A  83666 non-null  int64  \n",
      " 87  _VEGLT1A  83666 non-null  int64  \n",
      " 88  _FRT16A   83666 non-null  int64  \n",
      " 89  _VEG23A   83666 non-null  int64  \n",
      " 90  _FRUITE1  83666 non-null  int64  \n",
      " 91  _VEGETE1  83666 non-null  int64  \n",
      " 92  _AIDTST4  83666 non-null  object \n",
      " 93  _MMSA     83666 non-null  int64  \n",
      " 94  _MMSAWT   83666 non-null  float64\n",
      " 95  STATE     83666 non-null  object \n",
      " 96  DROCDY3_  83666 non-null  float64\n",
      "dtypes: float64(20), int64(17), object(60)\n",
      "memory usage: 61.9+ MB\n"
     ]
    }
   ],
   "source": [
    "model_train.info()"
   ]
  },
  {
   "cell_type": "code",
   "execution_count": 6,
   "id": "8885d291",
   "metadata": {
    "scrolled": true
   },
   "outputs": [
    {
     "name": "stdout",
     "output_type": "stream",
     "text": [
      "<class 'pandas.core.frame.DataFrame'>\n",
      "RangeIndex: 104619 entries, 0 to 104618\n",
      "Data columns (total 97 columns):\n",
      " #   Column    Non-Null Count   Dtype  \n",
      "---  ------    --------------   -----  \n",
      " 0   DISPCODE  104619 non-null  int64  \n",
      " 1   HHADULT   104619 non-null  float64\n",
      " 2   SEXVAR    104619 non-null  object \n",
      " 3   GENHLTH   104619 non-null  object \n",
      " 4   PHYSHLTH  104619 non-null  float64\n",
      " 5   MENTHLTH  104619 non-null  float64\n",
      " 6   _HLTHPLN  104619 non-null  object \n",
      " 7   MEDCOST1  104619 non-null  object \n",
      " 8   CHECKUP1  104619 non-null  object \n",
      " 9   CVDINFR4  104619 non-null  object \n",
      " 10  CVDCRHD4  104619 non-null  object \n",
      " 11  CVDSTRK3  104619 non-null  object \n",
      " 12  ASTHMA3   104619 non-null  object \n",
      " 13  CHCSCNCR  104619 non-null  object \n",
      " 14  CHCOCNCR  104619 non-null  object \n",
      " 15  ADDEPEV3  104619 non-null  object \n",
      " 16  CHCKDNY2  104619 non-null  object \n",
      " 17  DIABETE4  104619 non-null  object \n",
      " 18  MARITAL   104619 non-null  object \n",
      " 19  EDUCA     104619 non-null  object \n",
      " 20  RENTHOM1  104619 non-null  object \n",
      " 21  CPDEMO1B  104619 non-null  float64\n",
      " 22  VETERAN3  104619 non-null  object \n",
      " 23  EMPLOY1   104619 non-null  object \n",
      " 24  CHILDREN  104619 non-null  float64\n",
      " 25  WEIGHT2   104619 non-null  float64\n",
      " 26  HEIGHT3   104619 non-null  float64\n",
      " 27  DEAF      104619 non-null  object \n",
      " 28  BLIND     104619 non-null  object \n",
      " 29  DECIDE    104619 non-null  object \n",
      " 30  DIFFWALK  104619 non-null  object \n",
      " 31  DIFFDRES  104619 non-null  object \n",
      " 32  DIFFALON  104619 non-null  object \n",
      " 33  SMOKE100  104619 non-null  object \n",
      " 34  USENOW3   104619 non-null  object \n",
      " 35  EXERANY2  104619 non-null  object \n",
      " 36  FLUSHOT7  104619 non-null  object \n",
      " 37  PNEUVAC4  104619 non-null  object \n",
      " 38  HIVTST7   104619 non-null  object \n",
      " 39  _STSTR    104619 non-null  int64  \n",
      " 40  _IMPSEX   104619 non-null  object \n",
      " 41  _RFHLTH   104619 non-null  object \n",
      " 42  _PHYS14D  104619 non-null  int64  \n",
      " 43  _MENT14D  104619 non-null  int64  \n",
      " 44  _RFHYPE6  104619 non-null  object \n",
      " 45  _RFCHOL3  104619 non-null  object \n",
      " 46  _MICHD    104619 non-null  object \n",
      " 47  _LTASTH1  104619 non-null  object \n",
      " 48  _CASTHM1  104619 non-null  object \n",
      " 49  _ASTHMS1  104619 non-null  object \n",
      " 50  _PRACE1   104619 non-null  object \n",
      " 51  _MRACE1   104619 non-null  object \n",
      " 52  _HISPANC  104619 non-null  object \n",
      " 53  _RACE     104619 non-null  object \n",
      " 54  _RACEG21  104619 non-null  object \n",
      " 55  _RACEGR3  104619 non-null  object \n",
      " 56  _SEX      104619 non-null  object \n",
      " 57  _AGEG5YR  104619 non-null  object \n",
      " 58  _AGE65YR  104619 non-null  object \n",
      " 59  _AGE80    104619 non-null  int64  \n",
      " 60  _AGE_G    104619 non-null  object \n",
      " 61  WTKG3     104619 non-null  float64\n",
      " 62  _BMI5     104619 non-null  float64\n",
      " 63  _BMI5CAT  104619 non-null  object \n",
      " 64  _RFBMI5   104619 non-null  object \n",
      " 65  _EDUCAG   104619 non-null  object \n",
      " 66  _INCOMG1  104619 non-null  object \n",
      " 67  _SMOKER3  104619 non-null  object \n",
      " 68  _RFSMOK3  104619 non-null  object \n",
      " 69  DRNKANY5  104619 non-null  int64  \n",
      " 70  _RFBING5  104619 non-null  object \n",
      " 71  _DRNKWK1  104619 non-null  float64\n",
      " 72  _RFDRHV7  104619 non-null  object \n",
      " 73  _TOTINDA  104619 non-null  object \n",
      " 74  FTJUDA2_  104619 non-null  float64\n",
      " 75  FRUTDA2_  104619 non-null  float64\n",
      " 76  GRENDA1_  104619 non-null  float64\n",
      " 77  FRNCHDA_  104619 non-null  float64\n",
      " 78  POTADA1_  104619 non-null  float64\n",
      " 79  VEGEDA2_  104619 non-null  float64\n",
      " 80  _MISFRT1  104619 non-null  int64  \n",
      " 81  _MISVEG1  104619 non-null  int64  \n",
      " 82  _FRTRES1  104619 non-null  int64  \n",
      " 83  _VEGRES1  104619 non-null  int64  \n",
      " 84  _FRUTSU1  104619 non-null  float64\n",
      " 85  _VEGESU1  104619 non-null  float64\n",
      " 86  _FRTLT1A  104619 non-null  int64  \n",
      " 87  _VEGLT1A  104619 non-null  int64  \n",
      " 88  _FRT16A   104619 non-null  int64  \n",
      " 89  _VEG23A   104619 non-null  int64  \n",
      " 90  _FRUITE1  104619 non-null  int64  \n",
      " 91  _VEGETE1  104619 non-null  int64  \n",
      " 92  _AIDTST4  104619 non-null  object \n",
      " 93  _MMSA     104619 non-null  int64  \n",
      " 94  _MMSAWT   104619 non-null  float64\n",
      " 95  STATE     104619 non-null  object \n",
      " 96  DROCDY3_  104619 non-null  float64\n",
      "dtypes: float64(20), int64(17), object(60)\n",
      "memory usage: 77.4+ MB\n"
     ]
    }
   ],
   "source": [
    "model_valid.info()"
   ]
  },
  {
   "cell_type": "code",
   "execution_count": 7,
   "id": "562b0be2",
   "metadata": {},
   "outputs": [
    {
     "data": {
      "text/plain": [
       "<Axes: xlabel='_RFHLTH', ylabel='count'>"
      ]
     },
     "execution_count": 7,
     "metadata": {},
     "output_type": "execute_result"
    },
    {
     "data": {
      "image/png": "[encoded data removed]",
      "text/plain": [
       "<Figure size 640x480 with 1 Axes>"
      ]
     },
     "metadata": {},
     "output_type": "display_data"
    }
   ],
   "source": [
    "#Balance of the Dataset \n",
    "sns.set_style('darkgrid')\n",
    "sns.countplot(x=model_train['_RFHLTH'])"
   ]
  },
  {
   "cell_type": "markdown",
   "id": "19f36600",
   "metadata": {},
   "source": [
    "We can see that the ratio of those who percieve their health to be good vs those who do not is 7:1 an indication of a highly imbalanced Dataset. We can apply SMOTE technique to introduced randomn samples of the lower class in order to balance out the samples for model training."
   ]
  },
  {
   "cell_type": "code",
   "execution_count": 8,
   "id": "ada8ad4b",
   "metadata": {},
   "outputs": [
    {
     "data": {
      "text/plain": [
       "_RFHLTH\n",
       "Good or Better Health    70370\n",
       "fair or poor health      13296\n",
       "Name: count, dtype: int64"
      ]
     },
     "execution_count": 8,
     "metadata": {},
     "output_type": "execute_result"
    }
   ],
   "source": [
    "model_train['_RFHLTH'].value_counts()"
   ]
  },
  {
   "cell_type": "markdown",
   "id": "e625f370",
   "metadata": {},
   "source": [
    "**MODEL DEVELOPMENT**"
   ]
  },
  {
   "cell_type": "code",
   "execution_count": 9,
   "id": "d647a2c4",
   "metadata": {},
   "outputs": [],
   "source": [
    "from sklearn.model_selection import train_test_split\n",
    "from sklearn.model_selection import cross_validate,cross_val_predict,StratifiedKFold,GridSearchCV\n",
    "from sklearn.metrics import make_scorer, precision_score, recall_score\n",
    "from imblearn.over_sampling import SMOTE\n",
    "from sklearn.tree import DecisionTreeClassifier\n",
    "from sklearn.ensemble import RandomForestClassifier\n",
    "from sklearn.naive_bayes import GaussianNB\n",
    "from sklearn.metrics import classification_report,confusion_matrix"
   ]
  },
  {
   "cell_type": "code",
   "execution_count": 10,
   "id": "1966a382",
   "metadata": {},
   "outputs": [
    {
     "data": {
      "text/html": [
       "<div>\n",
       "<style scoped>\n",
       "    .dataframe tbody tr th:only-of-type {\n",
       "        vertical-align: middle;\n",
       "    }\n",
       "\n",
       "    .dataframe tbody tr th {\n",
       "        vertical-align: top;\n",
       "    }\n",
       "\n",
       "    .dataframe thead th {\n",
       "        text-align: right;\n",
       "    }\n",
       "</style>\n",
       "<table border=\"1\" class=\"dataframe\">\n",
       "  <thead>\n",
       "    <tr style=\"text-align: right;\">\n",
       "      <th></th>\n",
       "      <th>DISPCODE</th>\n",
       "      <th>HHADULT</th>\n",
       "      <th>PHYSHLTH</th>\n",
       "      <th>MENTHLTH</th>\n",
       "      <th>CPDEMO1B</th>\n",
       "      <th>CHILDREN</th>\n",
       "      <th>WEIGHT2</th>\n",
       "      <th>HEIGHT3</th>\n",
       "      <th>_STSTR</th>\n",
       "      <th>_PHYS14D</th>\n",
       "      <th>...</th>\n",
       "      <th>STATE_South Carolina</th>\n",
       "      <th>STATE_South Dakota</th>\n",
       "      <th>STATE_Tennessee</th>\n",
       "      <th>STATE_Texas</th>\n",
       "      <th>STATE_Utah</th>\n",
       "      <th>STATE_Vermont</th>\n",
       "      <th>STATE_Virginia</th>\n",
       "      <th>STATE_Washington</th>\n",
       "      <th>STATE_West Virginia</th>\n",
       "      <th>STATE_Wisconsin</th>\n",
       "    </tr>\n",
       "  </thead>\n",
       "  <tbody>\n",
       "    <tr>\n",
       "      <th>0</th>\n",
       "      <td>1200</td>\n",
       "      <td>2.0</td>\n",
       "      <td>0.0</td>\n",
       "      <td>0.0</td>\n",
       "      <td>2.0</td>\n",
       "      <td>3.0</td>\n",
       "      <td>180.0</td>\n",
       "      <td>1.7780</td>\n",
       "      <td>16049</td>\n",
       "      <td>1</td>\n",
       "      <td>...</td>\n",
       "      <td>False</td>\n",
       "      <td>True</td>\n",
       "      <td>False</td>\n",
       "      <td>False</td>\n",
       "      <td>False</td>\n",
       "      <td>False</td>\n",
       "      <td>False</td>\n",
       "      <td>False</td>\n",
       "      <td>False</td>\n",
       "      <td>False</td>\n",
       "    </tr>\n",
       "    <tr>\n",
       "      <th>1</th>\n",
       "      <td>1200</td>\n",
       "      <td>3.0</td>\n",
       "      <td>20.0</td>\n",
       "      <td>0.0</td>\n",
       "      <td>1.0</td>\n",
       "      <td>0.0</td>\n",
       "      <td>265.0</td>\n",
       "      <td>1.8034</td>\n",
       "      <td>16049</td>\n",
       "      <td>3</td>\n",
       "      <td>...</td>\n",
       "      <td>False</td>\n",
       "      <td>True</td>\n",
       "      <td>False</td>\n",
       "      <td>False</td>\n",
       "      <td>False</td>\n",
       "      <td>False</td>\n",
       "      <td>False</td>\n",
       "      <td>False</td>\n",
       "      <td>False</td>\n",
       "      <td>False</td>\n",
       "    </tr>\n",
       "    <tr>\n",
       "      <th>2</th>\n",
       "      <td>1200</td>\n",
       "      <td>1.0</td>\n",
       "      <td>1.0</td>\n",
       "      <td>0.0</td>\n",
       "      <td>1.0</td>\n",
       "      <td>0.0</td>\n",
       "      <td>170.0</td>\n",
       "      <td>1.7272</td>\n",
       "      <td>16049</td>\n",
       "      <td>2</td>\n",
       "      <td>...</td>\n",
       "      <td>False</td>\n",
       "      <td>True</td>\n",
       "      <td>False</td>\n",
       "      <td>False</td>\n",
       "      <td>False</td>\n",
       "      <td>False</td>\n",
       "      <td>False</td>\n",
       "      <td>False</td>\n",
       "      <td>False</td>\n",
       "      <td>False</td>\n",
       "    </tr>\n",
       "    <tr>\n",
       "      <th>3</th>\n",
       "      <td>1100</td>\n",
       "      <td>2.0</td>\n",
       "      <td>0.0</td>\n",
       "      <td>0.0</td>\n",
       "      <td>1.0</td>\n",
       "      <td>4.0</td>\n",
       "      <td>280.0</td>\n",
       "      <td>1.8288</td>\n",
       "      <td>16039</td>\n",
       "      <td>1</td>\n",
       "      <td>...</td>\n",
       "      <td>False</td>\n",
       "      <td>True</td>\n",
       "      <td>False</td>\n",
       "      <td>False</td>\n",
       "      <td>False</td>\n",
       "      <td>False</td>\n",
       "      <td>False</td>\n",
       "      <td>False</td>\n",
       "      <td>False</td>\n",
       "      <td>False</td>\n",
       "    </tr>\n",
       "    <tr>\n",
       "      <th>4</th>\n",
       "      <td>1100</td>\n",
       "      <td>2.0</td>\n",
       "      <td>0.0</td>\n",
       "      <td>0.0</td>\n",
       "      <td>1.0</td>\n",
       "      <td>0.0</td>\n",
       "      <td>270.0</td>\n",
       "      <td>1.9304</td>\n",
       "      <td>16049</td>\n",
       "      <td>1</td>\n",
       "      <td>...</td>\n",
       "      <td>False</td>\n",
       "      <td>True</td>\n",
       "      <td>False</td>\n",
       "      <td>False</td>\n",
       "      <td>False</td>\n",
       "      <td>False</td>\n",
       "      <td>False</td>\n",
       "      <td>False</td>\n",
       "      <td>False</td>\n",
       "      <td>False</td>\n",
       "    </tr>\n",
       "  </tbody>\n",
       "</table>\n",
       "<p>5 rows × 203 columns</p>\n",
       "</div>"
      ],
      "text/plain": [
       "   DISPCODE  HHADULT  PHYSHLTH  MENTHLTH  CPDEMO1B  CHILDREN  WEIGHT2  \\\n",
       "0      1200      2.0       0.0       0.0       2.0       3.0    180.0   \n",
       "1      1200      3.0      20.0       0.0       1.0       0.0    265.0   \n",
       "2      1200      1.0       1.0       0.0       1.0       0.0    170.0   \n",
       "3      1100      2.0       0.0       0.0       1.0       4.0    280.0   \n",
       "4      1100      2.0       0.0       0.0       1.0       0.0    270.0   \n",
       "\n",
       "   HEIGHT3  _STSTR  _PHYS14D  ...  STATE_South Carolina  STATE_South Dakota  \\\n",
       "0   1.7780   16049         1  ...                 False                True   \n",
       "1   1.8034   16049         3  ...                 False                True   \n",
       "2   1.7272   16049         2  ...                 False                True   \n",
       "3   1.8288   16039         1  ...                 False                True   \n",
       "4   1.9304   16049         1  ...                 False                True   \n",
       "\n",
       "   STATE_Tennessee  STATE_Texas  STATE_Utah  STATE_Vermont  STATE_Virginia  \\\n",
       "0            False        False       False          False           False   \n",
       "1            False        False       False          False           False   \n",
       "2            False        False       False          False           False   \n",
       "3            False        False       False          False           False   \n",
       "4            False        False       False          False           False   \n",
       "\n",
       "   STATE_Washington  STATE_West Virginia  STATE_Wisconsin  \n",
       "0             False                False            False  \n",
       "1             False                False            False  \n",
       "2             False                False            False  \n",
       "3             False                False            False  \n",
       "4             False                False            False  \n",
       "\n",
       "[5 rows x 203 columns]"
      ]
     },
     "execution_count": 10,
     "metadata": {},
     "output_type": "execute_result"
    }
   ],
   "source": [
    "#lets create a new data frame with only dummmy categorical data and num columns \n",
    "num_cols = list(model_train.select_dtypes(exclude='object').columns)\n",
    "cat_cols = list(model_train.select_dtypes(include='object').columns)\n",
    "\n",
    "dummies_df = model_train[num_cols]\n",
    "cat_cols = list(cat_cols)\n",
    "\n",
    "for i in ['GENHLTH','_RFHLTH']:\n",
    "    cat_cols.remove(i)\n",
    "\n",
    "\n",
    "for i in cat_cols:\n",
    "    temp = pd.get_dummies(model_train[i],drop_first=True,prefix=i)\n",
    "    dummies_df = pd.concat([dummies_df,temp],axis=1)\n",
    "\n",
    "dummies_df.head()"
   ]
  },
  {
   "cell_type": "code",
   "execution_count": 11,
   "id": "68e282c5",
   "metadata": {},
   "outputs": [],
   "source": [
    "dummies_df.columns = dummies_df.columns.astype(str)\n",
    "model_train.columns = model_train.columns.astype(str)"
   ]
  },
  {
   "cell_type": "code",
   "execution_count": 12,
   "id": "846d96c2",
   "metadata": {},
   "outputs": [],
   "source": [
    "# Your 2019 dataset\n",
    "X = dummies_df\n",
    "y = model_train['_RFHLTH']"
   ]
  },
  {
   "cell_type": "code",
   "execution_count": 13,
   "id": "ea1f17da",
   "metadata": {},
   "outputs": [],
   "source": [
    "#!pip install --upgrade scikit-learn imbalanced-learn threadpoolctl"
   ]
  },
  {
   "cell_type": "code",
   "execution_count": 14,
   "id": "0c202dfc",
   "metadata": {
    "scrolled": false
   },
   "outputs": [
    {
     "name": "stdout",
     "output_type": "stream",
     "text": [
      "\n",
      "System:\n",
      "    python: 3.11.5 (main, Sep 11 2023, 08:31:25) [Clang 14.0.6 ]\n",
      "executable: /Users/obinnadinneya/anaconda3/bin/python\n",
      "   machine: macOS-13.4.1-arm64-arm-64bit\n",
      "\n",
      "Python dependencies:\n",
      "      sklearn: 1.3.2\n",
      "          pip: 23.1.2\n",
      "   setuptools: 67.8.0\n",
      "        numpy: 1.26.1\n",
      "        scipy: 1.11.3\n",
      "       Cython: None\n",
      "       pandas: 1.3.5\n",
      "   matplotlib: 3.7.1\n",
      "       joblib: 1.2.0\n",
      "threadpoolctl: 3.2.0\n",
      "\n",
      "Built with OpenMP: True\n",
      "\n",
      "threadpoolctl info:\n",
      "       user_api: blas\n",
      "   internal_api: openblas\n",
      "    num_threads: 8\n",
      "         prefix: libopenblas\n",
      "       filepath: /Users/obinnadinneya/anaconda3/lib/libopenblasp-r0.3.21.dylib\n",
      "        version: 0.3.21\n",
      "threading_layer: pthreads\n",
      "   architecture: armv8\n",
      "\n",
      "       user_api: blas\n",
      "   internal_api: openblas\n",
      "    num_threads: 8\n",
      "         prefix: libopenblas\n",
      "       filepath: /Users/obinnadinneya/anaconda3/lib/python3.11/site-packages/scipy/.dylibs/libopenblas.0.dylib\n",
      "        version: 0.3.21.dev\n",
      "threading_layer: pthreads\n",
      "   architecture: armv8\n",
      "\n",
      "       user_api: openmp\n",
      "   internal_api: openmp\n",
      "    num_threads: 8\n",
      "         prefix: libomp\n",
      "       filepath: /Users/obinnadinneya/anaconda3/lib/python3.11/site-packages/sklearn/.dylibs/libomp.dylib\n",
      "        version: None\n",
      "None\n"
     ]
    }
   ],
   "source": [
    "import sklearn\n",
    "print(sklearn.show_versions())"
   ]
  },
  {
   "cell_type": "markdown",
   "id": "eab29b1b",
   "metadata": {},
   "source": [
    "**BASE MODELS**"
   ]
  },
  {
   "cell_type": "code",
   "execution_count": 16,
   "id": "e0196378",
   "metadata": {},
   "outputs": [
    {
     "name": "stdout",
     "output_type": "stream",
     "text": [
      "                       precision    recall  f1-score   support\n",
      "\n",
      "Good or Better Health       0.90      0.90      0.90     70370\n",
      "  fair or poor health       0.48      0.50      0.49     13296\n",
      "\n",
      "             accuracy                           0.84     83666\n",
      "            macro avg       0.69      0.70      0.70     83666\n",
      "         weighted avg       0.84      0.84      0.84     83666\n",
      "\n",
      "---------------------------------------\n",
      "[[63298  7072]\n",
      " [ 6659  6637]]\n"
     ]
    }
   ],
   "source": [
    "#Base Decision tree without gridsearch or smote\n",
    "\n",
    "# Initialize the Decision Tree Classifier\n",
    "dtree = DecisionTreeClassifier(random_state=42)\n",
    "\n",
    "# Setup cross-validation\n",
    "stratified_kfold = StratifiedKFold(n_splits=5, shuffle=True, random_state=42)\n",
    "\n",
    "# Perform cross-validation\n",
    "# This will give you out-of-sample predictions for each part of your data\n",
    "predictions = cross_val_predict(dtree, X, y, cv=stratified_kfold)\n",
    "\n",
    "# Print classification report and confusion matrix\n",
    "print(classification_report(y, predictions))\n",
    "print('---------------------------------------')\n",
    "print(confusion_matrix(y, predictions))\n"
   ]
  },
  {
   "cell_type": "code",
   "execution_count": 17,
   "id": "d358fe69",
   "metadata": {
    "scrolled": true
   },
   "outputs": [
    {
     "name": "stdout",
     "output_type": "stream",
     "text": [
      "Best parameters: {'max_depth': 10, 'min_samples_leaf': 1, 'min_samples_split': 2}\n",
      "Best score: 0.8781703377745529\n",
      "                       precision    recall  f1-score   support\n",
      "\n",
      "Good or Better Health       0.92      0.97      0.95     70370\n",
      "  fair or poor health       0.81      0.57      0.67     13296\n",
      "\n",
      "             accuracy                           0.91     83666\n",
      "            macro avg       0.86      0.77      0.81     83666\n",
      "         weighted avg       0.90      0.91      0.90     83666\n",
      "\n",
      "---------------------------------------\n",
      "[[68522  1848]\n",
      " [ 5654  7642]]\n"
     ]
    }
   ],
   "source": [
    "#Base Decision with gridsearch\n",
    "\n",
    "# Decision tree classifier\n",
    "dtree = DecisionTreeClassifier(random_state=42)\n",
    "\n",
    "# Define the parameter grid\n",
    "param_grid = {\n",
    "    'max_depth': [None, 10, 20, 30, 40],\n",
    "    'min_samples_split': [2, 5, 10],\n",
    "    'min_samples_leaf': [1, 2, 4],\n",
    "    # Add other parameters here if you want\n",
    "}\n",
    "\n",
    "# Setup cross-validation\n",
    "stratified_kfold = StratifiedKFold(n_splits=5, shuffle=True, random_state=42)\n",
    "\n",
    "# Setup grid search\n",
    "grid_search = GridSearchCV(dtree, param_grid, cv=stratified_kfold, scoring='accuracy', n_jobs=-1)\n",
    "\n",
    "# Fit grid search\n",
    "grid_search.fit(X, y)\n",
    "\n",
    "# Best parameters and score\n",
    "print(f\"Best parameters: {grid_search.best_params_}\")\n",
    "print(f\"Best score: {grid_search.best_score_}\")\n",
    "\n",
    "# Predictions with the best estimator\n",
    "best_dtree = grid_search.best_estimator_\n",
    "predictions = best_dtree.predict(X)\n",
    "\n",
    "# Print classification report and confusion matrix\n",
    "print(classification_report(y, predictions))\n",
    "print('---------------------------------------')\n",
    "print(confusion_matrix(y, predictions))\n"
   ]
  },
  {
   "cell_type": "code",
   "execution_count": 18,
   "id": "7eea1303",
   "metadata": {
    "scrolled": true
   },
   "outputs": [
    {
     "name": "stdout",
     "output_type": "stream",
     "text": [
      "                       precision    recall  f1-score   support\n",
      "\n",
      "Good or Better Health       0.92      0.93      0.93     70370\n",
      "  fair or poor health       0.61      0.56      0.59     13296\n",
      "\n",
      "             accuracy                           0.87     83666\n",
      "            macro avg       0.76      0.75      0.76     83666\n",
      "         weighted avg       0.87      0.87      0.87     83666\n",
      "\n",
      "---------------------------------------\n",
      "[[65598  4772]\n",
      " [ 5826  7470]]\n"
     ]
    }
   ],
   "source": [
    "#Base Decision tree with gridsearch and Smote\n",
    "\n",
    "from imblearn.pipeline import Pipeline as IMBPipeline\n",
    "from imblearn.over_sampling import SMOTE\n",
    "\n",
    "from sklearn.preprocessing import LabelEncoder\n",
    "\n",
    "# 2. Setting up the pipeline with SMOTE and Decision Tree\n",
    "pipeline = IMBPipeline([\n",
    "    ('smote', SMOTE(random_state=42)),\n",
    "    ('classifier', DecisionTreeClassifier(random_state=42))\n",
    "])\n",
    "\n",
    "# Parameters for grid search (just an example, you might want to adjust or add more parameters)\n",
    "param_grid = {\n",
    "    'classifier__max_depth': [None, 10, 20, 30],\n",
    "    'classifier__min_samples_split': [2, 10, 20],\n",
    "    'classifier__min_samples_leaf': [1, 5, 10]\n",
    "}\n",
    "\n",
    "# 3. Performing cross-validation and grid search\n",
    "stratified_kfold = StratifiedKFold(n_splits=5, shuffle=True, random_state=42)\n",
    "\n",
    "grid_search = GridSearchCV(estimator=pipeline,\n",
    "                           param_grid=param_grid,\n",
    "                           scoring='accuracy',  # you can adjust this\n",
    "                           cv=stratified_kfold,\n",
    "                           n_jobs=-1)\n",
    "\n",
    "# This will give you out-of-sample predictions for each part of your data\n",
    "predictions = cross_val_predict(grid_search, X, y, cv=stratified_kfold)\n",
    "\n",
    "# Print classification report and confusion matrix\n",
    "print(classification_report(y, predictions))\n",
    "print('---------------------------------------')\n",
    "print(confusion_matrix(y, predictions))\n",
    "\n",
    "# If you want to train the best model found during the grid search on the entire dataset:\n",
    "# grid_search.fit(X, y)\n"
   ]
  },
  {
   "cell_type": "code",
   "execution_count": null,
   "id": "5057fc56",
   "metadata": {},
   "outputs": [],
   "source": [
    "# Once the best model is selected, use it to make predictions on the 2021 dataset\n",
    "# Assuming X_2021 and y_2021 are your 2021 dataset\n",
    "# test_score = roc_auc_score(y_2021, grid_search.predict(X_2021))\n",
    "# print(f'Test score on 2021 data: {test_score}')"
   ]
  },
  {
   "cell_type": "code",
   "execution_count": null,
   "id": "a68b61ac",
   "metadata": {},
   "outputs": [],
   "source": [
    "#Running Cross Validation on base Decision tree with SMOTE\n",
    "\n",
    "\n"
   ]
  },
  {
   "cell_type": "code",
   "execution_count": null,
   "id": "1d4f77eb",
   "metadata": {},
   "outputs": [],
   "source": []
  },
  {
   "cell_type": "code",
   "execution_count": null,
   "id": "8c66816e",
   "metadata": {},
   "outputs": [],
   "source": []
  },
  {
   "cell_type": "code",
   "execution_count": null,
   "id": "02f2b2d9",
   "metadata": {},
   "outputs": [],
   "source": [
    "#Naive Bayes Using all features"
   ]
  },
  {
   "cell_type": "code",
   "execution_count": null,
   "id": "cfadef62",
   "metadata": {},
   "outputs": [],
   "source": [
    "#RandomForestClassifier Using all features"
   ]
  },
  {
   "cell_type": "code",
   "execution_count": null,
   "id": "067d1ca3",
   "metadata": {},
   "outputs": [],
   "source": []
  },
  {
   "cell_type": "code",
   "execution_count": null,
   "id": "f55217ec",
   "metadata": {},
   "outputs": [],
   "source": [
    "#Applying SMOTE To the dataset "
   ]
  },
  {
   "cell_type": "code",
   "execution_count": null,
   "id": "1efa1872",
   "metadata": {},
   "outputs": [],
   "source": []
  },
  {
   "cell_type": "code",
   "execution_count": null,
   "id": "03302bc1",
   "metadata": {},
   "outputs": [],
   "source": []
  },
  {
   "cell_type": "code",
   "execution_count": null,
   "id": "5e74d468",
   "metadata": {},
   "outputs": [],
   "source": []
  },
  {
   "cell_type": "code",
   "execution_count": null,
   "id": "4afc1fbf",
   "metadata": {},
   "outputs": [],
   "source": []
  },
  {
   "cell_type": "markdown",
   "id": "263cd113",
   "metadata": {},
   "source": [
    "### Can perceived health be accurately predicted using dietary habits, socioeconomic indicators, lifestyle choices, and individual metrics?"
   ]
  },
  {
   "cell_type": "code",
   "execution_count": null,
   "id": "5c137448",
   "metadata": {},
   "outputs": [],
   "source": []
  }
 ],
 "metadata": {
  "kernelspec": {
   "display_name": "Python 3 (ipykernel)",
   "language": "python",
   "name": "python3"
  },
  "language_info": {
   "codemirror_mode": {
    "name": "ipython",
    "version": 3
   },
   "file_extension": ".py",
   "mimetype": "text/x-python",
   "name": "python",
   "nbconvert_exporter": "python",
   "pygments_lexer": "ipython3",
   "version": "3.11.5"
  }
 },
 "nbformat": 4,
 "nbformat_minor": 5
}

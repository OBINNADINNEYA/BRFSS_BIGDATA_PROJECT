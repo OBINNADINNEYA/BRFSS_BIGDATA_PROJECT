{
 "cells": [
  {
   "cell_type": "code",
   "execution_count": 1,
   "id": "35d465c9",
   "metadata": {},
   "outputs": [],
   "source": [
    "import warnings\n",
    "warnings.filterwarnings(\"ignore\")"
   ]
  },
  {
   "cell_type": "code",
   "execution_count": 2,
   "id": "bac36da0",
   "metadata": {},
   "outputs": [],
   "source": [
    "import pandas as pd \n",
    "import seaborn as sns \n",
    "import statistics\n",
    "import numpy as np\n",
    "import matplotlib.pyplot as plt\n",
    "from ydata_profiling import ProfileReport"
   ]
  },
  {
   "cell_type": "code",
   "execution_count": 3,
   "id": "9d738c06",
   "metadata": {},
   "outputs": [],
   "source": [
    "model_build_df = pd.read_csv('mydata/MMSA2021_train.csv')"
   ]
  },
  {
   "cell_type": "code",
   "execution_count": 4,
   "id": "bca4d8f6",
   "metadata": {},
   "outputs": [],
   "source": [
    "#pd.set_option('display.max_columns', None)"
   ]
  },
  {
   "cell_type": "code",
   "execution_count": 5,
   "id": "31e66f7f",
   "metadata": {},
   "outputs": [],
   "source": [
    "pd.set_option('display.max_info_columns', 1000)\n",
    "pd.set_option('display.max_info_rows', 1000000)"
   ]
  },
  {
   "cell_type": "code",
   "execution_count": 6,
   "id": "fa194659",
   "metadata": {
    "scrolled": false
   },
   "outputs": [],
   "source": [
    "import io\n",
    "buffer = io.StringIO()\n",
    "model_build_df.info(buf=buffer)\n",
    "info_str = buffer.getvalue()\n",
    "#print(info_str)"
   ]
  },
  {
   "cell_type": "code",
   "execution_count": 7,
   "id": "1181a88c",
   "metadata": {},
   "outputs": [
    {
     "data": {
      "text/html": [
       "<div>\n",
       "<style scoped>\n",
       "    .dataframe tbody tr th:only-of-type {\n",
       "        vertical-align: middle;\n",
       "    }\n",
       "\n",
       "    .dataframe tbody tr th {\n",
       "        vertical-align: top;\n",
       "    }\n",
       "\n",
       "    .dataframe thead th {\n",
       "        text-align: right;\n",
       "    }\n",
       "</style>\n",
       "<table border=\"1\" class=\"dataframe\">\n",
       "  <thead>\n",
       "    <tr style=\"text-align: right;\">\n",
       "      <th></th>\n",
       "      <th>DISPCODE</th>\n",
       "      <th>STATERE1</th>\n",
       "      <th>CELPHON1</th>\n",
       "      <th>LADULT1</th>\n",
       "      <th>COLGSEX</th>\n",
       "      <th>LANDSEX</th>\n",
       "      <th>RESPSLCT</th>\n",
       "      <th>SAFETIME</th>\n",
       "      <th>CADULT1</th>\n",
       "      <th>CELLSEX</th>\n",
       "      <th>...</th>\n",
       "      <th>_FRTLT1A</th>\n",
       "      <th>_VEGLT1A</th>\n",
       "      <th>_FRT16A</th>\n",
       "      <th>_VEG23A</th>\n",
       "      <th>_FRUITE1</th>\n",
       "      <th>_VEGETE1</th>\n",
       "      <th>_MMSA</th>\n",
       "      <th>_MMSAWT</th>\n",
       "      <th>SEQNO</th>\n",
       "      <th>MMSANAME</th>\n",
       "    </tr>\n",
       "  </thead>\n",
       "  <tbody>\n",
       "    <tr>\n",
       "      <th>33258</th>\n",
       "      <td>1200.0</td>\n",
       "      <td>NaN</td>\n",
       "      <td>NaN</td>\n",
       "      <td>NaN</td>\n",
       "      <td>NaN</td>\n",
       "      <td>NaN</td>\n",
       "      <td>NaN</td>\n",
       "      <td>1.0</td>\n",
       "      <td>1.0</td>\n",
       "      <td>1.0</td>\n",
       "      <td>...</td>\n",
       "      <td>1.0</td>\n",
       "      <td>9.0</td>\n",
       "      <td>1.0</td>\n",
       "      <td>1.0</td>\n",
       "      <td>5.397605e-79</td>\n",
       "      <td>1.000000e+00</td>\n",
       "      <td>33460.0</td>\n",
       "      <td>535.124363</td>\n",
       "      <td>2.021007e+09</td>\n",
       "      <td>b'Minneapolis-St. Paul-Bloomington, MN-WI, Met...</td>\n",
       "    </tr>\n",
       "    <tr>\n",
       "      <th>117151</th>\n",
       "      <td>1100.0</td>\n",
       "      <td>NaN</td>\n",
       "      <td>NaN</td>\n",
       "      <td>NaN</td>\n",
       "      <td>NaN</td>\n",
       "      <td>NaN</td>\n",
       "      <td>NaN</td>\n",
       "      <td>1.0</td>\n",
       "      <td>1.0</td>\n",
       "      <td>2.0</td>\n",
       "      <td>...</td>\n",
       "      <td>2.0</td>\n",
       "      <td>2.0</td>\n",
       "      <td>1.0</td>\n",
       "      <td>1.0</td>\n",
       "      <td>5.397605e-79</td>\n",
       "      <td>5.397605e-79</td>\n",
       "      <td>13220.0</td>\n",
       "      <td>224.977002</td>\n",
       "      <td>2.021000e+09</td>\n",
       "      <td>b'Beckley, WV, Metropolitan Statistical Area'</td>\n",
       "    </tr>\n",
       "    <tr>\n",
       "      <th>29619</th>\n",
       "      <td>1100.0</td>\n",
       "      <td>NaN</td>\n",
       "      <td>NaN</td>\n",
       "      <td>NaN</td>\n",
       "      <td>NaN</td>\n",
       "      <td>NaN</td>\n",
       "      <td>NaN</td>\n",
       "      <td>1.0</td>\n",
       "      <td>1.0</td>\n",
       "      <td>2.0</td>\n",
       "      <td>...</td>\n",
       "      <td>2.0</td>\n",
       "      <td>1.0</td>\n",
       "      <td>1.0</td>\n",
       "      <td>1.0</td>\n",
       "      <td>5.397605e-79</td>\n",
       "      <td>5.397605e-79</td>\n",
       "      <td>41700.0</td>\n",
       "      <td>5527.104477</td>\n",
       "      <td>2.021000e+09</td>\n",
       "      <td>b'San Antonio-New Braunfels, TX, Metropolitan ...</td>\n",
       "    </tr>\n",
       "    <tr>\n",
       "      <th>4680</th>\n",
       "      <td>1100.0</td>\n",
       "      <td>NaN</td>\n",
       "      <td>NaN</td>\n",
       "      <td>NaN</td>\n",
       "      <td>NaN</td>\n",
       "      <td>NaN</td>\n",
       "      <td>NaN</td>\n",
       "      <td>1.0</td>\n",
       "      <td>1.0</td>\n",
       "      <td>2.0</td>\n",
       "      <td>...</td>\n",
       "      <td>1.0</td>\n",
       "      <td>1.0</td>\n",
       "      <td>1.0</td>\n",
       "      <td>1.0</td>\n",
       "      <td>5.397605e-79</td>\n",
       "      <td>5.397605e-79</td>\n",
       "      <td>29180.0</td>\n",
       "      <td>1611.619466</td>\n",
       "      <td>2.021001e+09</td>\n",
       "      <td>b'Lafayette, LA, Metropolitan Statistical Area'</td>\n",
       "    </tr>\n",
       "    <tr>\n",
       "      <th>2715</th>\n",
       "      <td>1100.0</td>\n",
       "      <td>NaN</td>\n",
       "      <td>NaN</td>\n",
       "      <td>NaN</td>\n",
       "      <td>NaN</td>\n",
       "      <td>NaN</td>\n",
       "      <td>NaN</td>\n",
       "      <td>1.0</td>\n",
       "      <td>1.0</td>\n",
       "      <td>2.0</td>\n",
       "      <td>...</td>\n",
       "      <td>2.0</td>\n",
       "      <td>9.0</td>\n",
       "      <td>1.0</td>\n",
       "      <td>1.0</td>\n",
       "      <td>5.397605e-79</td>\n",
       "      <td>1.000000e+00</td>\n",
       "      <td>19780.0</td>\n",
       "      <td>281.731869</td>\n",
       "      <td>2.021001e+09</td>\n",
       "      <td>b'Des Moines-West Des Moines, IA, Metropolitan...</td>\n",
       "    </tr>\n",
       "  </tbody>\n",
       "</table>\n",
       "<p>5 rows × 152 columns</p>\n",
       "</div>"
      ],
      "text/plain": [
       "        DISPCODE  STATERE1  CELPHON1  LADULT1  COLGSEX  LANDSEX  RESPSLCT  \\\n",
       "33258     1200.0       NaN       NaN      NaN      NaN      NaN       NaN   \n",
       "117151    1100.0       NaN       NaN      NaN      NaN      NaN       NaN   \n",
       "29619     1100.0       NaN       NaN      NaN      NaN      NaN       NaN   \n",
       "4680      1100.0       NaN       NaN      NaN      NaN      NaN       NaN   \n",
       "2715      1100.0       NaN       NaN      NaN      NaN      NaN       NaN   \n",
       "\n",
       "        SAFETIME  CADULT1  CELLSEX  ...  _FRTLT1A  _VEGLT1A  _FRT16A  _VEG23A  \\\n",
       "33258        1.0      1.0      1.0  ...       1.0       9.0      1.0      1.0   \n",
       "117151       1.0      1.0      2.0  ...       2.0       2.0      1.0      1.0   \n",
       "29619        1.0      1.0      2.0  ...       2.0       1.0      1.0      1.0   \n",
       "4680         1.0      1.0      2.0  ...       1.0       1.0      1.0      1.0   \n",
       "2715         1.0      1.0      2.0  ...       2.0       9.0      1.0      1.0   \n",
       "\n",
       "            _FRUITE1      _VEGETE1    _MMSA      _MMSAWT         SEQNO  \\\n",
       "33258   5.397605e-79  1.000000e+00  33460.0   535.124363  2.021007e+09   \n",
       "117151  5.397605e-79  5.397605e-79  13220.0   224.977002  2.021000e+09   \n",
       "29619   5.397605e-79  5.397605e-79  41700.0  5527.104477  2.021000e+09   \n",
       "4680    5.397605e-79  5.397605e-79  29180.0  1611.619466  2.021001e+09   \n",
       "2715    5.397605e-79  1.000000e+00  19780.0   281.731869  2.021001e+09   \n",
       "\n",
       "                                                 MMSANAME  \n",
       "33258   b'Minneapolis-St. Paul-Bloomington, MN-WI, Met...  \n",
       "117151      b'Beckley, WV, Metropolitan Statistical Area'  \n",
       "29619   b'San Antonio-New Braunfels, TX, Metropolitan ...  \n",
       "4680      b'Lafayette, LA, Metropolitan Statistical Area'  \n",
       "2715    b'Des Moines-West Des Moines, IA, Metropolitan...  \n",
       "\n",
       "[5 rows x 152 columns]"
      ]
     },
     "execution_count": 7,
     "metadata": {},
     "output_type": "execute_result"
    }
   ],
   "source": [
    "model_build_df.sample(5)"
   ]
  },
  {
   "cell_type": "code",
   "execution_count": 8,
   "id": "78366a0c",
   "metadata": {},
   "outputs": [
    {
     "data": {
      "text/plain": [
       "151861"
      ]
     },
     "execution_count": 8,
     "metadata": {},
     "output_type": "execute_result"
    }
   ],
   "source": [
    "len(model_build_df)"
   ]
  },
  {
   "cell_type": "markdown",
   "id": "65fadf75",
   "metadata": {},
   "source": [
    "### Data Dictionary"
   ]
  },
  {
   "cell_type": "code",
   "execution_count": 10,
   "id": "e15143dd",
   "metadata": {},
   "outputs": [],
   "source": [
    "from Extraction_module import description_dict"
   ]
  },
  {
   "cell_type": "code",
   "execution_count": 11,
   "id": "9d3275a9",
   "metadata": {},
   "outputs": [],
   "source": [
    "#Any variable with value counts below 14 with be turned to a categorical nominal datatype:\n",
    "# Convert 'col1' from float to categorical\n",
    "for col in model_build_df.columns:\n",
    "    if len(model_build_df[col].value_counts()) < 15:\n",
    "        model_build_df[col] = model_build_df[col].astype('category')\n"
   ]
  },
  {
   "cell_type": "code",
   "execution_count": 12,
   "id": "c1d88286",
   "metadata": {},
   "outputs": [],
   "source": [
    "##Extract state from MMSANAME\n",
    "def get_state(col):\n",
    "    return col.split(',')[1]\n",
    "\n",
    "model_build_df['STATE'] = model_build_df['MMSANAME'].apply(get_state)"
   ]
  },
  {
   "cell_type": "code",
   "execution_count": 13,
   "id": "9c247efd",
   "metadata": {
    "scrolled": false
   },
   "outputs": [
    {
     "name": "stdout",
     "output_type": "stream",
     "text": [
      "<class 'pandas.core.frame.DataFrame'>\n",
      "RangeIndex: 151861 entries, 0 to 151860\n",
      "Data columns (total 153 columns):\n",
      " #    Column    Non-Null Count   Dtype   \n",
      "---   ------    --------------   -----   \n",
      " 0    DISPCODE  151861 non-null  category\n",
      " 1    STATERE1  37094 non-null   category\n",
      " 2    CELPHON1  37094 non-null   category\n",
      " 3    LADULT1   37094 non-null   category\n",
      " 4    COLGSEX   13 non-null      category\n",
      " 5    LANDSEX   15568 non-null   category\n",
      " 6    RESPSLCT  20603 non-null   category\n",
      " 7    SAFETIME  114767 non-null  category\n",
      " 8    CADULT1   114767 non-null  category\n",
      " 9    CELLSEX   114766 non-null  category\n",
      " 10   HHADULT   114766 non-null  float64 \n",
      " 11   SEXVAR    151861 non-null  category\n",
      " 12   GENHLTH   151860 non-null  category\n",
      " 13   PHYSHLTH  151859 non-null  float64 \n",
      " 14   MENTHLTH  151861 non-null  float64 \n",
      " 15   POORHLTH  81991 non-null   float64 \n",
      " 16   PRIMINSR  151860 non-null  category\n",
      " 17   PERSDOC3  151861 non-null  category\n",
      " 18   MEDCOST1  151860 non-null  category\n",
      " 19   CHECKUP1  151861 non-null  category\n",
      " 20   EXERANY2  151861 non-null  category\n",
      " 21   BPHIGH6   151861 non-null  category\n",
      " 22   BPMEDS    56562 non-null   category\n",
      " 23   CHOLCHK3  151861 non-null  category\n",
      " 24   TOLDHI3   131964 non-null  category\n",
      " 25   CHOLMED3  131786 non-null  category\n",
      " 26   CVDINFR4  151861 non-null  category\n",
      " 27   CVDCRHD4  151861 non-null  category\n",
      " 28   CVDSTRK3  151861 non-null  category\n",
      " 29   ASTHMA3   151861 non-null  category\n",
      " 30   ASTHNOW   21562 non-null   category\n",
      " 31   CHCSCNCR  151861 non-null  category\n",
      " 32   CHCOCNCR  151861 non-null  category\n",
      " 33   CHCCOPD3  151861 non-null  category\n",
      " 34   ADDEPEV3  151861 non-null  category\n",
      " 35   CHCKDNY2  151861 non-null  category\n",
      " 36   DIABETE4  151861 non-null  category\n",
      " 37   DIABAGE3  18689 non-null   float64 \n",
      " 38   HAVARTH5  151861 non-null  category\n",
      " 39   ARTHEXER  46042 non-null   category\n",
      " 40   ARTHEDU   46042 non-null   category\n",
      " 41   LMTJOIN3  46042 non-null   category\n",
      " 42   ARTHDIS2  46042 non-null   category\n",
      " 43   JOINPAI2  46042 non-null   category\n",
      " 44   MARITAL   151860 non-null  category\n",
      " 45   EDUCA     151861 non-null  category\n",
      " 46   RENTHOM1  151860 non-null  category\n",
      " 47   NUMHHOL3  37094 non-null   category\n",
      " 48   NUMPHON3  10735 non-null   category\n",
      " 49   CPDEMO1B  151753 non-null  category\n",
      " 50   VETERAN3  151238 non-null  category\n",
      " 51   EMPLOY1   150488 non-null  category\n",
      " 52   CHILDREN  149499 non-null  float64 \n",
      " 53   INCOME3   148430 non-null  category\n",
      " 54   PREGNANT  29813 non-null   category\n",
      " 55   WEIGHT2   147379 non-null  float64 \n",
      " 56   HEIGHT3   146934 non-null  float64 \n",
      " 57   DEAF      146333 non-null  category\n",
      " 58   BLIND     145873 non-null  category\n",
      " 59   DECIDE    145506 non-null  category\n",
      " 60   DIFFWALK  145086 non-null  category\n",
      " 61   DIFFDRES  144792 non-null  category\n",
      " 62   DIFFALON  144395 non-null  category\n",
      " 63   SMOKE100  143884 non-null  category\n",
      " 64   SMOKDAY2  54936 non-null   category\n",
      " 65   USENOW3   143597 non-null  category\n",
      " 66   ECIGNOW1  143167 non-null  category\n",
      " 67   ALCDAY5   142597 non-null  float64 \n",
      " 68   AVEDRNK3  76463 non-null   float64 \n",
      " 69   DRNK3GE5  76234 non-null   float64 \n",
      " 70   MAXDRNKS  76013 non-null   float64 \n",
      " 71   FLUSHOT7  141447 non-null  category\n",
      " 72   FLSHTMY3  74881 non-null   float64 \n",
      " 73   IMFVPLA2  73440 non-null   category\n",
      " 74   PNEUVAC4  140902 non-null  category\n",
      " 75   HIVTST7   140507 non-null  category\n",
      " 76   HIVTSTD3  48245 non-null   float64 \n",
      " 77   FRUIT2    138991 non-null  float64 \n",
      " 78   FRUITJU2  138378 non-null  float64 \n",
      " 79   FVGREEN1  137940 non-null  float64 \n",
      " 80   FRENCHF1  137525 non-null  float64 \n",
      " 81   POTATOE1  137102 non-null  float64 \n",
      " 82   VEGETAB2  136657 non-null  float64 \n",
      " 83   _STSTR    151861 non-null  float64 \n",
      " 84   _IMPSEX   151861 non-null  category\n",
      " 85   CAGEG     17691 non-null   category\n",
      " 86   _RFHLTH   151861 non-null  category\n",
      " 87   _PHYS14D  151861 non-null  category\n",
      " 88   _MENT14D  151861 non-null  category\n",
      " 89   _HLTHPLN  151861 non-null  category\n",
      " 90   _HCVU652  151861 non-null  category\n",
      " 91   _TOTINDA  151861 non-null  category\n",
      " 92   _RFHYPE6  151861 non-null  category\n",
      " 93   _CHOLCH3  151861 non-null  category\n",
      " 94   _RFCHOL3  131875 non-null  category\n",
      " 95   _MICHD    150297 non-null  category\n",
      " 96   _LTASTH1  151861 non-null  category\n",
      " 97   _CASTHM1  151861 non-null  category\n",
      " 98   _ASTHMS1  151861 non-null  category\n",
      " 99   _DRDXAR3  150908 non-null  category\n",
      " 100  _LMTACT3  150908 non-null  category\n",
      " 101  _LMTWRK3  150908 non-null  category\n",
      " 102  _PRACE1   151861 non-null  category\n",
      " 103  _MRACE1   151861 non-null  category\n",
      " 104  _HISPANC  151861 non-null  category\n",
      " 105  _RACE     151861 non-null  category\n",
      " 106  _RACEG21  151861 non-null  category\n",
      " 107  _RACEGR3  151861 non-null  category\n",
      " 108  _RACEPRV  151861 non-null  category\n",
      " 109  _SEX      151861 non-null  category\n",
      " 110  _AGEG5YR  151861 non-null  category\n",
      " 111  _AGE65YR  151861 non-null  category\n",
      " 112  _AGE80    151861 non-null  float64 \n",
      " 113  _AGE_G    151861 non-null  category\n",
      " 114  WTKG3     136693 non-null  float64 \n",
      " 115  _BMI5     134322 non-null  float64 \n",
      " 116  _BMI5CAT  134322 non-null  category\n",
      " 117  _RFBMI5   151861 non-null  category\n",
      " 118  _EDUCAG   151861 non-null  category\n",
      " 119  _INCOMG1  151861 non-null  category\n",
      " 120  _SMOKER3  151861 non-null  category\n",
      " 121  _RFSMOK3  151861 non-null  category\n",
      " 122  _CURECI1  151861 non-null  category\n",
      " 123  DRNKANY5  151861 non-null  category\n",
      " 124  _RFBING5  151861 non-null  category\n",
      " 125  _DRNKWK1  151861 non-null  float64 \n",
      " 126  _RFDRHV7  151861 non-null  category\n",
      " 127  _FLSHOT7  51972 non-null   category\n",
      " 128  _PNEUMO3  51972 non-null   category\n",
      " 129  _AIDTST4  140507 non-null  category\n",
      " 130  FTJUDA2_  135414 non-null  float64 \n",
      " 131  FRUTDA2_  135801 non-null  float64 \n",
      " 132  GRENDA1_  135552 non-null  float64 \n",
      " 133  FRNCHDA_  135224 non-null  float64 \n",
      " 134  POTADA1_  133965 non-null  float64 \n",
      " 135  VEGEDA2_  133962 non-null  float64 \n",
      " 136  _MISFRT1  151861 non-null  category\n",
      " 137  _MISVEG1  151861 non-null  category\n",
      " 138  _FRTRES1  151861 non-null  category\n",
      " 139  _VEGRES1  151861 non-null  category\n",
      " 140  _FRUTSU1  133297 non-null  float64 \n",
      " 141  _VEGESU1  130078 non-null  float64 \n",
      " 142  _FRTLT1A  151861 non-null  category\n",
      " 143  _VEGLT1A  151861 non-null  category\n",
      " 144  _FRT16A   151861 non-null  category\n",
      " 145  _VEG23A   151861 non-null  category\n",
      " 146  _FRUITE1  151861 non-null  category\n",
      " 147  _VEGETE1  151861 non-null  category\n",
      " 148  _MMSA     151861 non-null  float64 \n",
      " 149  _MMSAWT   151861 non-null  float64 \n",
      " 150  SEQNO     151861 non-null  float64 \n",
      " 151  MMSANAME  151861 non-null  object  \n",
      " 152  STATE     151861 non-null  object  \n",
      "dtypes: category(115), float64(36), object(2)\n",
      "memory usage: 60.7+ MB\n"
     ]
    }
   ],
   "source": [
    "model_build_df.info()"
   ]
  },
  {
   "cell_type": "markdown",
   "id": "5cbfd65f",
   "metadata": {},
   "source": [
    "### Handling Duplicate rows"
   ]
  },
  {
   "cell_type": "code",
   "execution_count": 14,
   "id": "44b77b56",
   "metadata": {},
   "outputs": [
    {
     "data": {
      "text/html": [
       "<div>\n",
       "<style scoped>\n",
       "    .dataframe tbody tr th:only-of-type {\n",
       "        vertical-align: middle;\n",
       "    }\n",
       "\n",
       "    .dataframe tbody tr th {\n",
       "        vertical-align: top;\n",
       "    }\n",
       "\n",
       "    .dataframe thead th {\n",
       "        text-align: right;\n",
       "    }\n",
       "</style>\n",
       "<table border=\"1\" class=\"dataframe\">\n",
       "  <thead>\n",
       "    <tr style=\"text-align: right;\">\n",
       "      <th></th>\n",
       "      <th>DISPCODE</th>\n",
       "      <th>STATERE1</th>\n",
       "      <th>CELPHON1</th>\n",
       "      <th>LADULT1</th>\n",
       "      <th>COLGSEX</th>\n",
       "      <th>LANDSEX</th>\n",
       "      <th>RESPSLCT</th>\n",
       "      <th>SAFETIME</th>\n",
       "      <th>CADULT1</th>\n",
       "      <th>CELLSEX</th>\n",
       "      <th>...</th>\n",
       "      <th>_VEGLT1A</th>\n",
       "      <th>_FRT16A</th>\n",
       "      <th>_VEG23A</th>\n",
       "      <th>_FRUITE1</th>\n",
       "      <th>_VEGETE1</th>\n",
       "      <th>_MMSA</th>\n",
       "      <th>_MMSAWT</th>\n",
       "      <th>SEQNO</th>\n",
       "      <th>MMSANAME</th>\n",
       "      <th>STATE</th>\n",
       "    </tr>\n",
       "  </thead>\n",
       "  <tbody>\n",
       "  </tbody>\n",
       "</table>\n",
       "<p>0 rows × 153 columns</p>\n",
       "</div>"
      ],
      "text/plain": [
       "Empty DataFrame\n",
       "Columns: [DISPCODE, STATERE1, CELPHON1, LADULT1, COLGSEX, LANDSEX, RESPSLCT, SAFETIME, CADULT1, CELLSEX, HHADULT, SEXVAR, GENHLTH, PHYSHLTH, MENTHLTH, POORHLTH, PRIMINSR, PERSDOC3, MEDCOST1, CHECKUP1, EXERANY2, BPHIGH6, BPMEDS, CHOLCHK3, TOLDHI3, CHOLMED3, CVDINFR4, CVDCRHD4, CVDSTRK3, ASTHMA3, ASTHNOW, CHCSCNCR, CHCOCNCR, CHCCOPD3, ADDEPEV3, CHCKDNY2, DIABETE4, DIABAGE3, HAVARTH5, ARTHEXER, ARTHEDU, LMTJOIN3, ARTHDIS2, JOINPAI2, MARITAL, EDUCA, RENTHOM1, NUMHHOL3, NUMPHON3, CPDEMO1B, VETERAN3, EMPLOY1, CHILDREN, INCOME3, PREGNANT, WEIGHT2, HEIGHT3, DEAF, BLIND, DECIDE, DIFFWALK, DIFFDRES, DIFFALON, SMOKE100, SMOKDAY2, USENOW3, ECIGNOW1, ALCDAY5, AVEDRNK3, DRNK3GE5, MAXDRNKS, FLUSHOT7, FLSHTMY3, IMFVPLA2, PNEUVAC4, HIVTST7, HIVTSTD3, FRUIT2, FRUITJU2, FVGREEN1, FRENCHF1, POTATOE1, VEGETAB2, _STSTR, _IMPSEX, CAGEG, _RFHLTH, _PHYS14D, _MENT14D, _HLTHPLN, _HCVU652, _TOTINDA, _RFHYPE6, _CHOLCH3, _RFCHOL3, _MICHD, _LTASTH1, _CASTHM1, _ASTHMS1, _DRDXAR3, ...]\n",
       "Index: []\n",
       "\n",
       "[0 rows x 153 columns]"
      ]
     },
     "execution_count": 14,
     "metadata": {},
     "output_type": "execute_result"
    }
   ],
   "source": [
    "duplicate_rows = model_build_df[model_build_df.duplicated()]\n",
    "duplicate_rows"
   ]
  },
  {
   "cell_type": "markdown",
   "id": "afa132dd",
   "metadata": {},
   "source": [
    "### Generate EDA Report with Original Dataset"
   ]
  },
  {
   "cell_type": "code",
   "execution_count": 15,
   "id": "a385f8c5",
   "metadata": {
    "scrolled": true
   },
   "outputs": [
    {
     "data": {
      "application/vnd.jupyter.widget-view+json": {
       "model_id": "efc993f1454841e29f6a4e446e911881",
       "version_major": 2,
       "version_minor": 0
      },
      "text/plain": [
       "Summarize dataset:   0%|          | 0/5 [00:00<?, ?it/s]"
      ]
     },
     "metadata": {},
     "output_type": "display_data"
    },
    {
     "data": {
      "application/vnd.jupyter.widget-view+json": {
       "model_id": "94a8b11121964115a5d846eb35434623",
       "version_major": 2,
       "version_minor": 0
      },
      "text/plain": [
       "Generate report structure:   0%|          | 0/1 [00:00<?, ?it/s]"
      ]
     },
     "metadata": {},
     "output_type": "display_data"
    },
    {
     "data": {
      "application/vnd.jupyter.widget-view+json": {
       "model_id": "70ccee0e9c1f4362ae317686fe805680",
       "version_major": 2,
       "version_minor": 0
      },
      "text/plain": [
       "Render HTML:   0%|          | 0/1 [00:00<?, ?it/s]"
      ]
     },
     "metadata": {},
     "output_type": "display_data"
    },
    {
     "data": {
      "application/vnd.jupyter.widget-view+json": {
       "model_id": "cc34e1d529f947048940d0fc412f2c6c",
       "version_major": 2,
       "version_minor": 0
      },
      "text/plain": [
       "Export report to file:   0%|          | 0/1 [00:00<?, ?it/s]"
      ]
     },
     "metadata": {},
     "output_type": "display_data"
    }
   ],
   "source": [
    "#profile = ProfileReport(model_build_df)\n",
    "#profile.to_file(output_file=\"EDA_Report.html\")"
   ]
  },
  {
   "cell_type": "markdown",
   "id": "bd0146df",
   "metadata": {},
   "source": [
    "### Handling Missing Data"
   ]
  },
  {
   "cell_type": "code",
   "execution_count": 16,
   "id": "c8d5117f",
   "metadata": {},
   "outputs": [
    {
     "name": "stdout",
     "output_type": "stream",
     "text": [
      "['COLGSEX', 'NUMPHON3', 'LANDSEX', 'CAGEG', 'DIABAGE3', 'RESPSLCT', 'ASTHNOW', 'PREGNANT', 'CELPHON1', 'LADULT1', 'NUMHHOL3', 'STATERE1', 'ARTHEXER', 'LMTJOIN3', 'ARTHEDU', 'ARTHDIS2', 'JOINPAI2', 'HIVTSTD3', '_FLSHOT7', '_PNEUMO3', 'SMOKDAY2', 'BPMEDS', 'IMFVPLA2', 'FLSHTMY3', 'MAXDRNKS', 'DRNK3GE5', 'AVEDRNK3', 'POORHLTH']\n"
     ]
    }
   ],
   "source": [
    "#Step1 Remove Columns that have more than 50% missing values\n",
    "\n",
    "def columns_with_high_null_percentage(df, threshold=0.9):\n",
    "    \"\"\"\n",
    "    Get the columns with null values exceeding the specified threshold in a DataFrame.\n",
    "    \n",
    "    Parameters:\n",
    "        df (pd.DataFrame): The input DataFrame.\n",
    "        threshold (float): The threshold for null values (default is 0.9, meaning 90%).\n",
    "\n",
    "    Returns:\n",
    "        List[str]: A list of column names with null values exceeding the threshold.\n",
    "    \"\"\"\n",
    "    null_percentages = (df.isnull().sum() / len(df)).sort_values(ascending=False)\n",
    "    high_null_columns = null_percentages[null_percentages > threshold].index.tolist()\n",
    "    return high_null_columns\n",
    "\n",
    "high_null_columns = columns_with_high_null_percentage(model_build_df, threshold=0.4)\n",
    "print(high_null_columns)\n"
   ]
  },
  {
   "cell_type": "code",
   "execution_count": 17,
   "id": "0d75069b",
   "metadata": {},
   "outputs": [
    {
     "name": "stdout",
     "output_type": "stream",
     "text": [
      "<class 'pandas.core.frame.DataFrame'>\n",
      "RangeIndex: 151861 entries, 0 to 151860\n",
      "Data columns (total 125 columns):\n",
      " #    Column    Non-Null Count   Dtype   \n",
      "---   ------    --------------   -----   \n",
      " 0    DISPCODE  151861 non-null  category\n",
      " 1    SAFETIME  114767 non-null  category\n",
      " 2    CADULT1   114767 non-null  category\n",
      " 3    CELLSEX   114766 non-null  category\n",
      " 4    HHADULT   114766 non-null  float64 \n",
      " 5    SEXVAR    151861 non-null  category\n",
      " 6    GENHLTH   151860 non-null  category\n",
      " 7    PHYSHLTH  151859 non-null  float64 \n",
      " 8    MENTHLTH  151861 non-null  float64 \n",
      " 9    PRIMINSR  151860 non-null  category\n",
      " 10   PERSDOC3  151861 non-null  category\n",
      " 11   MEDCOST1  151860 non-null  category\n",
      " 12   CHECKUP1  151861 non-null  category\n",
      " 13   EXERANY2  151861 non-null  category\n",
      " 14   BPHIGH6   151861 non-null  category\n",
      " 15   CHOLCHK3  151861 non-null  category\n",
      " 16   TOLDHI3   131964 non-null  category\n",
      " 17   CHOLMED3  131786 non-null  category\n",
      " 18   CVDINFR4  151861 non-null  category\n",
      " 19   CVDCRHD4  151861 non-null  category\n",
      " 20   CVDSTRK3  151861 non-null  category\n",
      " 21   ASTHMA3   151861 non-null  category\n",
      " 22   CHCSCNCR  151861 non-null  category\n",
      " 23   CHCOCNCR  151861 non-null  category\n",
      " 24   CHCCOPD3  151861 non-null  category\n",
      " 25   ADDEPEV3  151861 non-null  category\n",
      " 26   CHCKDNY2  151861 non-null  category\n",
      " 27   DIABETE4  151861 non-null  category\n",
      " 28   HAVARTH5  151861 non-null  category\n",
      " 29   MARITAL   151860 non-null  category\n",
      " 30   EDUCA     151861 non-null  category\n",
      " 31   RENTHOM1  151860 non-null  category\n",
      " 32   CPDEMO1B  151753 non-null  category\n",
      " 33   VETERAN3  151238 non-null  category\n",
      " 34   EMPLOY1   150488 non-null  category\n",
      " 35   CHILDREN  149499 non-null  float64 \n",
      " 36   INCOME3   148430 non-null  category\n",
      " 37   WEIGHT2   147379 non-null  float64 \n",
      " 38   HEIGHT3   146934 non-null  float64 \n",
      " 39   DEAF      146333 non-null  category\n",
      " 40   BLIND     145873 non-null  category\n",
      " 41   DECIDE    145506 non-null  category\n",
      " 42   DIFFWALK  145086 non-null  category\n",
      " 43   DIFFDRES  144792 non-null  category\n",
      " 44   DIFFALON  144395 non-null  category\n",
      " 45   SMOKE100  143884 non-null  category\n",
      " 46   USENOW3   143597 non-null  category\n",
      " 47   ECIGNOW1  143167 non-null  category\n",
      " 48   ALCDAY5   142597 non-null  float64 \n",
      " 49   FLUSHOT7  141447 non-null  category\n",
      " 50   PNEUVAC4  140902 non-null  category\n",
      " 51   HIVTST7   140507 non-null  category\n",
      " 52   FRUIT2    138991 non-null  float64 \n",
      " 53   FRUITJU2  138378 non-null  float64 \n",
      " 54   FVGREEN1  137940 non-null  float64 \n",
      " 55   FRENCHF1  137525 non-null  float64 \n",
      " 56   POTATOE1  137102 non-null  float64 \n",
      " 57   VEGETAB2  136657 non-null  float64 \n",
      " 58   _STSTR    151861 non-null  float64 \n",
      " 59   _IMPSEX   151861 non-null  category\n",
      " 60   _RFHLTH   151861 non-null  category\n",
      " 61   _PHYS14D  151861 non-null  category\n",
      " 62   _MENT14D  151861 non-null  category\n",
      " 63   _HLTHPLN  151861 non-null  category\n",
      " 64   _HCVU652  151861 non-null  category\n",
      " 65   _TOTINDA  151861 non-null  category\n",
      " 66   _RFHYPE6  151861 non-null  category\n",
      " 67   _CHOLCH3  151861 non-null  category\n",
      " 68   _RFCHOL3  131875 non-null  category\n",
      " 69   _MICHD    150297 non-null  category\n",
      " 70   _LTASTH1  151861 non-null  category\n",
      " 71   _CASTHM1  151861 non-null  category\n",
      " 72   _ASTHMS1  151861 non-null  category\n",
      " 73   _DRDXAR3  150908 non-null  category\n",
      " 74   _LMTACT3  150908 non-null  category\n",
      " 75   _LMTWRK3  150908 non-null  category\n",
      " 76   _PRACE1   151861 non-null  category\n",
      " 77   _MRACE1   151861 non-null  category\n",
      " 78   _HISPANC  151861 non-null  category\n",
      " 79   _RACE     151861 non-null  category\n",
      " 80   _RACEG21  151861 non-null  category\n",
      " 81   _RACEGR3  151861 non-null  category\n",
      " 82   _RACEPRV  151861 non-null  category\n",
      " 83   _SEX      151861 non-null  category\n",
      " 84   _AGEG5YR  151861 non-null  category\n",
      " 85   _AGE65YR  151861 non-null  category\n",
      " 86   _AGE80    151861 non-null  float64 \n",
      " 87   _AGE_G    151861 non-null  category\n",
      " 88   WTKG3     136693 non-null  float64 \n",
      " 89   _BMI5     134322 non-null  float64 \n",
      " 90   _BMI5CAT  134322 non-null  category\n",
      " 91   _RFBMI5   151861 non-null  category\n",
      " 92   _EDUCAG   151861 non-null  category\n",
      " 93   _INCOMG1  151861 non-null  category\n",
      " 94   _SMOKER3  151861 non-null  category\n",
      " 95   _RFSMOK3  151861 non-null  category\n",
      " 96   _CURECI1  151861 non-null  category\n",
      " 97   DRNKANY5  151861 non-null  category\n",
      " 98   _RFBING5  151861 non-null  category\n",
      " 99   _DRNKWK1  151861 non-null  float64 \n",
      " 100  _RFDRHV7  151861 non-null  category\n",
      " 101  _AIDTST4  140507 non-null  category\n",
      " 102  FTJUDA2_  135414 non-null  float64 \n",
      " 103  FRUTDA2_  135801 non-null  float64 \n",
      " 104  GRENDA1_  135552 non-null  float64 \n",
      " 105  FRNCHDA_  135224 non-null  float64 \n",
      " 106  POTADA1_  133965 non-null  float64 \n",
      " 107  VEGEDA2_  133962 non-null  float64 \n",
      " 108  _MISFRT1  151861 non-null  category\n",
      " 109  _MISVEG1  151861 non-null  category\n",
      " 110  _FRTRES1  151861 non-null  category\n",
      " 111  _VEGRES1  151861 non-null  category\n",
      " 112  _FRUTSU1  133297 non-null  float64 \n",
      " 113  _VEGESU1  130078 non-null  float64 \n",
      " 114  _FRTLT1A  151861 non-null  category\n",
      " 115  _VEGLT1A  151861 non-null  category\n",
      " 116  _FRT16A   151861 non-null  category\n",
      " 117  _VEG23A   151861 non-null  category\n",
      " 118  _FRUITE1  151861 non-null  category\n",
      " 119  _VEGETE1  151861 non-null  category\n",
      " 120  _MMSA     151861 non-null  float64 \n",
      " 121  _MMSAWT   151861 non-null  float64 \n",
      " 122  SEQNO     151861 non-null  float64 \n",
      " 123  MMSANAME  151861 non-null  object  \n",
      " 124  STATE     151861 non-null  object  \n",
      "dtypes: category(94), float64(29), object(2)\n",
      "memory usage: 49.5+ MB\n"
     ]
    }
   ],
   "source": [
    "model_build_df_1 = model_build_df.drop(columns=high_null_columns)\n",
    "model_build_df_1.info()"
   ]
  },
  {
   "cell_type": "code",
   "execution_count": null,
   "id": "4157969a",
   "metadata": {},
   "outputs": [],
   "source": []
  },
  {
   "cell_type": "code",
   "execution_count": null,
   "id": "fc85651c",
   "metadata": {},
   "outputs": [],
   "source": [
    "#Step2 Remove categorical columns with low variance using feature selection\n",
    "\n",
    "from sklearn.feature_selection import VarianceThreshold\n",
    "\n",
    "# Select only the numerical columns of type float\n",
    "numerical_df = model_build_df_1.select_dtypes(include='float')\n",
    "\n",
    "# Specify the threshold for variance (e.g., 0.01, 0.05, etc.)\n",
    "threshold = 0.01  # Adjust this threshold as needed\n",
    "\n",
    "# Initialize the VarianceThreshold object\n",
    "variance_selector = VarianceThreshold(threshold)\n",
    "\n",
    "# Fit the selector to the numerical data\n",
    "variance_selector.fit(numerical_df)\n",
    "\n",
    "# Get the indices of columns with variance above the threshold\n",
    "high_variance_indices = variance_selector.get_support(indices=True)\n",
    "\n",
    "# Filter the DataFrame to keep only the high-variance columns\n",
    "df_high_variance = numerical_df.iloc[:, high_variance_indices]\n",
    "\n",
    "df_high_variance.info()"
   ]
  },
  {
   "cell_type": "code",
   "execution_count": null,
   "id": "4792dbfe",
   "metadata": {},
   "outputs": [],
   "source": [
    "low_variance_columns = [x for x in numerical_df.columns if x not in df_high_variance.columns]\n",
    "low_variance_columns"
   ]
  },
  {
   "cell_type": "code",
   "execution_count": null,
   "id": "7682307d",
   "metadata": {},
   "outputs": [],
   "source": []
  },
  {
   "cell_type": "code",
   "execution_count": null,
   "id": "26caff20",
   "metadata": {},
   "outputs": [],
   "source": [
    "#Step3 Remove Highly correlated Columns "
   ]
  },
  {
   "cell_type": "code",
   "execution_count": null,
   "id": "f386570e",
   "metadata": {},
   "outputs": [],
   "source": [
    "#profile = ProfileReport(model_build_df)\n",
    "#profile.to_file(output_file=\"EDA_Report_No_NA.html\")"
   ]
  },
  {
   "cell_type": "markdown",
   "id": "55b9e11f",
   "metadata": {},
   "source": [
    "How do dietary habits and nutrition shape an individual's health outcome?\n",
    "- we know that studies have shown that high fiber intake is associated with lower mortality.\n",
    "as seen in this comparative study https://pubmed.ncbi.nlm.nih.gov/22648726/. \n",
    "- we would like to see how a high vegetable/fruit diet may be associated with a person percieved health. \n",
    "- the darker the vegetables the higher the fibre content"
   ]
  },
  {
   "cell_type": "code",
   "execution_count": null,
   "id": "397f106f",
   "metadata": {
    "scrolled": false
   },
   "outputs": [],
   "source": [
    "#Columns of interest would be nutrition and diet related columns:\n",
    "nutrition_cols = []\n",
    "for key, value in description_dict.items():\n",
    "    if any(sub in str(value).lower() for sub in ['fruit','vegetable','fruits','vegetables']):\n",
    "        nutrition_cols.append(key)"
   ]
  },
  {
   "cell_type": "code",
   "execution_count": null,
   "id": "61f7924c",
   "metadata": {},
   "outputs": [],
   "source": [
    "nutrition_cols"
   ]
  },
  {
   "cell_type": "code",
   "execution_count": null,
   "id": "2e1e8672",
   "metadata": {},
   "outputs": [],
   "source": [
    "#drop alcolhol related columns \n",
    "nutrition_cols = nutrition_cols[2:]\n",
    "for col in nutrition_cols:\n",
    "    print(description_dict[col])"
   ]
  },
  {
   "cell_type": "code",
   "execution_count": null,
   "id": "44509d0b",
   "metadata": {},
   "outputs": [],
   "source": [
    "pd.set_option('display.max_columns', None)"
   ]
  },
  {
   "cell_type": "code",
   "execution_count": null,
   "id": "9d06a4aa",
   "metadata": {},
   "outputs": [],
   "source": [
    "#make a dataframe by combining nutrition columns with health status, health days columns  \n",
    "nutrition_cols = nutrition_cols + ['GENHLTH','PHYSHLTH','POORHLTH','_RFHLTH','_PHYS14D','_MENT14D']\n",
    "df_nutrition = model_build_df[nutrition_cols]"
   ]
  },
  {
   "cell_type": "code",
   "execution_count": null,
   "id": "cabb3872",
   "metadata": {},
   "outputs": [],
   "source": [
    "df_nutrition.head()"
   ]
  },
  {
   "cell_type": "code",
   "execution_count": null,
   "id": "98c8a867",
   "metadata": {},
   "outputs": [],
   "source": [
    "plt.figure(figsize=(15,10))\n",
    "ax = sns.heatmap(df_nutrition.corr(),cmap='viridis',annot=True, annot_kws={\"size\": 8})"
   ]
  },
  {
   "cell_type": "markdown",
   "id": "d5c7cc31",
   "metadata": {},
   "source": [
    "### Looking at the data we could use the calculated Total calcualted variables per day for the fruits and vegetables to see its relation to general health "
   ]
  },
  {
   "cell_type": "code",
   "execution_count": null,
   "id": "d14fa67f",
   "metadata": {},
   "outputs": [],
   "source": [
    "#_FRUTSU1=(FTJUDA2_/100) + (FRUTDA2_/100); \n",
    "#_FRUTSU1=round((_FRUTSU1*100),1); \n",
    "\n",
    "#WE CAN MAKE A TOTAL FRUITS PER DAY COLUMN \n",
    "df_nutrition['Total_fruits_daily'] = df_nutrition['_FRUTSU1'].apply(lambda x: round(x/100,1) )\n",
    "df_nutrition.head()"
   ]
  },
  {
   "cell_type": "code",
   "execution_count": null,
   "id": "6370b08b",
   "metadata": {},
   "outputs": [],
   "source": [
    "df_nutrition['Total_fruits_daily'].value_counts().head(20)"
   ]
  },
  {
   "cell_type": "code",
   "execution_count": null,
   "id": "76b717ad",
   "metadata": {},
   "outputs": [],
   "source": [
    "#_VEGESU1=(GRENDA1_/100) + (FRNCHDA_/100) + (POTADA1_/100) + \n",
    "#(VEGEDA2_/100); \n",
    "#_VEGESU1=round((_VEGESU1*100),1); \n",
    "\n",
    "#WE CAN MAKE A TOTAL VEGETABLES PER DAY COLUMN \n",
    "df_nutrition['Total_vegetables_daily'] = df_nutrition['_VEGESU1'].apply(lambda x: round(x/100,1))\n",
    "df_nutrition.head()"
   ]
  },
  {
   "cell_type": "code",
   "execution_count": null,
   "id": "422df6f2",
   "metadata": {},
   "outputs": [],
   "source": [
    "df_nutrition['Total_vegetables_daily'].value_counts().head(20)"
   ]
  },
  {
   "cell_type": "code",
   "execution_count": null,
   "id": "329d9de0",
   "metadata": {},
   "outputs": [],
   "source": [
    "df_nutrition.describe([0.25,0.5,0.75,0.99]).T"
   ]
  },
  {
   "cell_type": "code",
   "execution_count": null,
   "id": "3f5324fb",
   "metadata": {},
   "outputs": [],
   "source": [
    "#lets filter data to remove outliers \n",
    "filtered_df = df_nutrition[(df_nutrition['Total_fruits_daily'] <= 9.0) & \n",
    "                           (df_nutrition['Total_vegetables_daily'] <= 26.6396)]"
   ]
  },
  {
   "cell_type": "code",
   "execution_count": null,
   "id": "86f6c414",
   "metadata": {},
   "outputs": [],
   "source": [
    "len(filtered_df)"
   ]
  },
  {
   "cell_type": "code",
   "execution_count": null,
   "id": "d8691d06",
   "metadata": {},
   "outputs": [],
   "source": [
    "#Distribution of Total_fruits_daily\n",
    "sns.histplot(x=filtered_df['Total_vegetables_daily'])"
   ]
  },
  {
   "cell_type": "code",
   "execution_count": null,
   "id": "3b636040",
   "metadata": {},
   "outputs": [],
   "source": [
    "#Distribution of Total_vegetables_daily\n",
    "sns.histplot(x=filtered_df['Total_fruits_daily'])"
   ]
  },
  {
   "cell_type": "code",
   "execution_count": null,
   "id": "900a5768",
   "metadata": {},
   "outputs": [],
   "source": [
    "#create a BOX PLOT FOR _RFHLTH Vs Total fruits \n",
    "plt.figure(figsize=(5,5))\n",
    "sns.set_style('darkgrid')\n",
    "sns.boxplot(data=filtered_df, x='Total_fruits_daily', y='_RFHLTH')"
   ]
  },
  {
   "cell_type": "code",
   "execution_count": null,
   "id": "15d979b7",
   "metadata": {},
   "outputs": [],
   "source": [
    "#CREATE A SCATTERPLOT FOR PHYSHLTH(Number of days of poor physical health) Vs Total fruits consued daily\n",
    "plt.figure(figsize=(5,5))\n",
    "sns.set_style('darkgrid')\n",
    "sns.boxplot(data=filtered_df, y='Total_fruits_daily', x='_PHYS14D')"
   ]
  },
  {
   "cell_type": "code",
   "execution_count": null,
   "id": "ec21e006",
   "metadata": {},
   "outputs": [],
   "source": []
  },
  {
   "cell_type": "code",
   "execution_count": null,
   "id": "dba07ec5",
   "metadata": {},
   "outputs": [],
   "source": [
    "#create a BOX PLOT FOR _RFHLTH Vs Total_vegetables_daily\n",
    "plt.figure(figsize=(5,5))\n",
    "sns.set_style('darkgrid')\n",
    "sns.boxplot(data=filtered_df, x='Total_vegetables_daily', y='_RFHLTH')"
   ]
  },
  {
   "cell_type": "code",
   "execution_count": null,
   "id": "aaff012f",
   "metadata": {},
   "outputs": [],
   "source": [
    "#Lets create a pivot table showing the mean fruits and vegetables consumed per day for each _RFHLTH group \n",
    "\n",
    "pivot_result = pd.pivot_table(filtered_df, values=['Total_fruits_daily','Total_vegetables_daily'],index='_RFHLTH', aggfunc='mean')\n",
    "\n",
    "#Only looking at those who reported Good health vs those that reported poor/bad health\n",
    "pivot_result[0:2]"
   ]
  },
  {
   "cell_type": "markdown",
   "id": "db1d9621",
   "metadata": {},
   "source": [
    "- This analysis shows that those who reported good or better health had a higher mean daily intake of fruits and vegetables. Not a significant difference."
   ]
  },
  {
   "cell_type": "markdown",
   "id": "b4982682",
   "metadata": {},
   "source": [
    "### Apply association rules between eating fruits and vegetables and good percieved health"
   ]
  },
  {
   "cell_type": "code",
   "execution_count": null,
   "id": "94026225",
   "metadata": {},
   "outputs": [],
   "source": [
    "#!pip install mlxtend"
   ]
  },
  {
   "cell_type": "code",
   "execution_count": null,
   "id": "c00d1779",
   "metadata": {},
   "outputs": [],
   "source": [
    "from mlxtend.frequent_patterns import apriori\n",
    "from mlxtend.frequent_patterns import association_rules\n",
    "\n",
    "# Assuming you already have a DataFrame called filtered_df with 'Total_fruits_daily', 'Total_vegetables_daily' and '_RFHLTH' columns\n",
    "\n",
    "# Binning Total_fruits_daily\n",
    "fruit_bins = [0, 2, 4, 10]  # Adjust bins as per your data distribution for fruits\n",
    "fruit_labels = ['Low_Fruit', 'Medium_Fruit', 'High_Fruit']\n",
    "filtered_df['Fruit_Intake_Binned'] = pd.cut(filtered_df['Total_fruits_daily'], bins=fruit_bins, labels=fruit_labels, include_lowest=True)\n",
    "\n",
    "# Binning Total_vegetables_daily\n",
    "veg_bins = [0, 8, 16, 26]  # Adjust bins as per your data distribution for vegetables\n",
    "veg_labels = ['Low_Veg', 'Medium_Veg', 'High_Veg']\n",
    "filtered_df['Veg_Intake_Binned'] = pd.cut(filtered_df['Total_vegetables_daily'], bins=veg_bins, labels=veg_labels, include_lowest=True)\n",
    "\n",
    "# Convert to the binary format\n",
    "filtered_df_binary = pd.get_dummies(filtered_df[['Fruit_Intake_Binned', 'Veg_Intake_Binned', '_RFHLTH']])\n",
    "\n",
    "# Apply Apriori to find frequent itemsets\n",
    "frequent_itemsets = apriori(filtered_df_binary, min_support=0.1, use_colnames=True)\n",
    "\n",
    "# Generate Association Rules\n",
    "rules = association_rules(frequent_itemsets, metric=\"lift\", min_threshold=1.0)\n",
    "print(rules[['antecedents', 'consequents', 'support', 'confidence', 'lift']])"
   ]
  },
  {
   "cell_type": "markdown",
   "id": "35000cb3",
   "metadata": {},
   "source": [
    "What is the role of access to healthcare,marriage status, Education and income in predicting health outcomes?"
   ]
  },
  {
   "cell_type": "code",
   "execution_count": null,
   "id": "a920e70b",
   "metadata": {},
   "outputs": [],
   "source": [
    "#Get the columns related to access to healthcare,"
   ]
  },
  {
   "cell_type": "code",
   "execution_count": null,
   "id": "47618268",
   "metadata": {},
   "outputs": [],
   "source": [
    "#make a dataframe by combining acess to healthcare columns with health status, health days columns  "
   ]
  },
  {
   "cell_type": "code",
   "execution_count": null,
   "id": "99acd981",
   "metadata": {},
   "outputs": [],
   "source": [
    "#Do some EDA analysis and correlation analysis to see if there are relationships btw acess to healthcare and percieved\n",
    "#health"
   ]
  },
  {
   "cell_type": "code",
   "execution_count": null,
   "id": "0c60a580",
   "metadata": {},
   "outputs": [],
   "source": [
    "#Apply association rules between acess to healthcare and good percieved health"
   ]
  },
  {
   "cell_type": "code",
   "execution_count": null,
   "id": "95e5023a",
   "metadata": {},
   "outputs": [],
   "source": []
  },
  {
   "cell_type": "markdown",
   "id": "b668b56d",
   "metadata": {},
   "source": [
    "Can lifestyle factors, including smoking and alcohol consumption, \n",
    "predict health risks and outcomes?"
   ]
  },
  {
   "cell_type": "code",
   "execution_count": null,
   "id": "c5334974",
   "metadata": {},
   "outputs": [],
   "source": [
    "#Get the columns related to alcohol consumption and smoking"
   ]
  },
  {
   "cell_type": "code",
   "execution_count": null,
   "id": "c6aac1b6",
   "metadata": {},
   "outputs": [],
   "source": [
    "#Get the columns related to exercise"
   ]
  },
  {
   "cell_type": "code",
   "execution_count": null,
   "id": "0e507cf8",
   "metadata": {},
   "outputs": [],
   "source": []
  },
  {
   "cell_type": "code",
   "execution_count": null,
   "id": "e2f592a4",
   "metadata": {},
   "outputs": [],
   "source": []
  },
  {
   "cell_type": "code",
   "execution_count": null,
   "id": "d42640b0",
   "metadata": {},
   "outputs": [],
   "source": []
  },
  {
   "cell_type": "code",
   "execution_count": null,
   "id": "436026df",
   "metadata": {},
   "outputs": [],
   "source": []
  },
  {
   "cell_type": "markdown",
   "id": "71b91a28",
   "metadata": {},
   "source": [
    "How predictable are chronic diseases, such as diabetes and hypertension, through a combined analysis of \n",
    "lifestyle factors and genetic predisposition?"
   ]
  },
  {
   "cell_type": "code",
   "execution_count": null,
   "id": "d654605b",
   "metadata": {},
   "outputs": [],
   "source": []
  },
  {
   "cell_type": "code",
   "execution_count": null,
   "id": "91132c27",
   "metadata": {},
   "outputs": [],
   "source": []
  },
  {
   "cell_type": "code",
   "execution_count": null,
   "id": "86b5f480",
   "metadata": {},
   "outputs": [],
   "source": []
  },
  {
   "cell_type": "code",
   "execution_count": null,
   "id": "b7b51761",
   "metadata": {},
   "outputs": [],
   "source": []
  },
  {
   "cell_type": "code",
   "execution_count": null,
   "id": "d67b5c09",
   "metadata": {},
   "outputs": [],
   "source": []
  },
  {
   "cell_type": "markdown",
   "id": "f494da9a",
   "metadata": {},
   "source": [
    "What is the significant contribution of mental health factors, such as stress, anxiety, \n",
    "and depression, to health outcomes, and what pathways influence overall well-being?"
   ]
  },
  {
   "cell_type": "code",
   "execution_count": null,
   "id": "ca6156d9",
   "metadata": {},
   "outputs": [],
   "source": []
  },
  {
   "cell_type": "code",
   "execution_count": null,
   "id": "75d6872c",
   "metadata": {},
   "outputs": [],
   "source": []
  },
  {
   "cell_type": "code",
   "execution_count": null,
   "id": "9052a8d2",
   "metadata": {},
   "outputs": [],
   "source": []
  },
  {
   "cell_type": "code",
   "execution_count": null,
   "id": "19bf4cff",
   "metadata": {},
   "outputs": [],
   "source": []
  },
  {
   "cell_type": "code",
   "execution_count": null,
   "id": "5601989a",
   "metadata": {
    "scrolled": false
   },
   "outputs": [],
   "source": []
  },
  {
   "cell_type": "code",
   "execution_count": null,
   "id": "f6ca1806",
   "metadata": {},
   "outputs": [],
   "source": []
  },
  {
   "cell_type": "code",
   "execution_count": null,
   "id": "015b6adb",
   "metadata": {},
   "outputs": [],
   "source": []
  },
  {
   "cell_type": "code",
   "execution_count": null,
   "id": "da15e3f8",
   "metadata": {},
   "outputs": [],
   "source": []
  },
  {
   "cell_type": "code",
   "execution_count": null,
   "id": "ebb1501e",
   "metadata": {},
   "outputs": [],
   "source": []
  },
  {
   "cell_type": "code",
   "execution_count": null,
   "id": "974ad6d4",
   "metadata": {},
   "outputs": [],
   "source": []
  },
  {
   "cell_type": "code",
   "execution_count": null,
   "id": "8adb5adc",
   "metadata": {},
   "outputs": [],
   "source": []
  }
 ],
 "metadata": {
  "kernelspec": {
   "display_name": "Python 3 (ipykernel)",
   "language": "python",
   "name": "python3"
  },
  "language_info": {
   "codemirror_mode": {
    "name": "ipython",
    "version": 3
   },
   "file_extension": ".py",
   "mimetype": "text/x-python",
   "name": "python",
   "nbconvert_exporter": "python",
   "pygments_lexer": "ipython3",
   "version": "3.11.3"
  }
 },
 "nbformat": 4,
 "nbformat_minor": 5
}

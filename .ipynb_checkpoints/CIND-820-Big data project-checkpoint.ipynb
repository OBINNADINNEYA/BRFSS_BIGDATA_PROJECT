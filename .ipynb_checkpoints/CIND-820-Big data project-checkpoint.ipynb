{
 "cells": [
  {
   "cell_type": "code",
   "execution_count": 2,
   "id": "35d465c9",
   "metadata": {},
   "outputs": [],
   "source": [
    "import warnings\n",
    "warnings.filterwarnings(\"ignore\")"
   ]
  },
  {
   "cell_type": "code",
   "execution_count": 3,
   "id": "bac36da0",
   "metadata": {},
   "outputs": [],
   "source": [
    "import pandas as pd \n",
    "import seaborn as sns \n",
    "import statistics\n",
    "import numpy as np\n",
    "import matplotlib.pyplot as plt\n",
    "from ydata_profiling import ProfileReport"
   ]
  },
  {
   "cell_type": "code",
   "execution_count": 4,
   "id": "bfb39a56",
   "metadata": {},
   "outputs": [],
   "source": [
    "%matplotlib inline"
   ]
  },
  {
   "cell_type": "code",
   "execution_count": 5,
   "id": "9d738c06",
   "metadata": {},
   "outputs": [],
   "source": [
    "modeldf2019 = pd.read_csv('mydata/MMSA2019_train.csv')\n",
    "modeldf2021 = pd.read_csv('mydata/MMSA2021_train.csv')"
   ]
  },
  {
   "cell_type": "code",
   "execution_count": 6,
   "id": "bca4d8f6",
   "metadata": {},
   "outputs": [],
   "source": [
    "#pd.set_option('display.max_columns', None)"
   ]
  },
  {
   "cell_type": "code",
   "execution_count": 7,
   "id": "31e66f7f",
   "metadata": {},
   "outputs": [],
   "source": [
    "pd.set_option('display.max_info_columns', 1000)\n",
    "pd.set_option('display.max_info_rows', 1000000)"
   ]
  },
  {
   "cell_type": "code",
   "execution_count": 8,
   "id": "fa194659",
   "metadata": {
    "scrolled": true
   },
   "outputs": [
    {
     "name": "stdout",
     "output_type": "stream",
     "text": [
      "<class 'pandas.core.frame.DataFrame'>\n",
      "RangeIndex: 140514 entries, 0 to 140513\n",
      "Data columns (total 180 columns):\n",
      " #    Column      Non-Null Count   Dtype  \n",
      "---   ------      --------------   -----  \n",
      " 0    Unnamed: 0  140514 non-null  int64  \n",
      " 1    DISPCODE    140514 non-null  int64  \n",
      " 2    STATERE1    47593 non-null   float64\n",
      " 3    CELPHONE    47593 non-null   float64\n",
      " 4    LADULT1     47593 non-null   float64\n",
      " 5    COLGSEX     11 non-null      float64\n",
      " 6    LANDSEX     20189 non-null   float64\n",
      " 7    RESPSLCT    24008 non-null   float64\n",
      " 8    SAFETIME    92921 non-null   float64\n",
      " 9    CADULT1     92921 non-null   float64\n",
      " 10   CELLSEX     92917 non-null   float64\n",
      " 11   HHADULT     92918 non-null   float64\n",
      " 12   SEXVAR      140514 non-null  int64  \n",
      " 13   GENHLTH     140501 non-null  float64\n",
      " 14   PHYSHLTH    140503 non-null  float64\n",
      " 15   MENTHLTH    140508 non-null  float64\n",
      " 16   POORHLTH    77558 non-null   float64\n",
      " 17   HLTHPLN1    140510 non-null  float64\n",
      " 18   PERSDOC2    140511 non-null  float64\n",
      " 19   MEDCOST     140511 non-null  float64\n",
      " 20   CHECKUP1    140509 non-null  float64\n",
      " 21   BPHIGH4     140512 non-null  float64\n",
      " 22   BPMEDS      54210 non-null   float64\n",
      " 23   CHOLCHK2    140503 non-null  float64\n",
      " 24   TOLDHI2     132724 non-null  float64\n",
      " 25   CHOLMED2    47419 non-null   float64\n",
      " 26   CVDINFR4    140510 non-null  float64\n",
      " 27   CVDCRHD4    140510 non-null  float64\n",
      " 28   CVDSTRK3    140509 non-null  float64\n",
      " 29   ASTHMA3     140510 non-null  float64\n",
      " 30   ASTHNOW     20074 non-null   float64\n",
      " 31   CHCSCNCR    140510 non-null  float64\n",
      " 32   CHCOCNCR    140510 non-null  float64\n",
      " 33   CHCCOPD2    140510 non-null  float64\n",
      " 34   ADDEPEV3    140509 non-null  float64\n",
      " 35   CHCKDNY2    140510 non-null  float64\n",
      " 36   DIABETE4    140510 non-null  float64\n",
      " 37   DIABAGE3    18062 non-null   float64\n",
      " 38   HAVARTH4    140510 non-null  float64\n",
      " 39   ARTHEXER    43986 non-null   float64\n",
      " 40   ARTHEDU     43985 non-null   float64\n",
      " 41   LMTJOIN3    43984 non-null   float64\n",
      " 42   ARTHDIS2    43982 non-null   float64\n",
      " 43   JOINPAI2    43985 non-null   float64\n",
      " 44   MARITAL     140493 non-null  float64\n",
      " 45   EDUCA       140501 non-null  float64\n",
      " 46   RENTHOM1    140501 non-null  float64\n",
      " 47   NUMHHOL3    47218 non-null   float64\n",
      " 48   NUMPHON3    12032 non-null   float64\n",
      " 49   CPDEMO1B    140035 non-null  float64\n",
      " 50   VETERAN3    140012 non-null  float64\n",
      " 51   EMPLOY1     139493 non-null  float64\n",
      " 52   CHILDREN    138827 non-null  float64\n",
      " 53   INCOME2     138051 non-null  float64\n",
      " 54   WEIGHT2     137364 non-null  float64\n",
      " 55   HEIGHT3     137072 non-null  float64\n",
      " 56   PREGNANT    26259 non-null   float64\n",
      " 57   DEAF        136486 non-null  float64\n",
      " 58   BLIND       136192 non-null  float64\n",
      " 59   DECIDE      135887 non-null  float64\n",
      " 60   DIFFWALK    135587 non-null  float64\n",
      " 61   DIFFDRES    135380 non-null  float64\n",
      " 62   DIFFALON    135119 non-null  float64\n",
      " 63   SMOKE100    134746 non-null  float64\n",
      " 64   SMOKDAY2    53397 non-null   float64\n",
      " 65   STOPSMK2    16857 non-null   float64\n",
      " 66   LASTSMK2    36391 non-null   float64\n",
      " 67   USENOW3     134480 non-null  float64\n",
      " 68   ALCDAY5     133887 non-null  float64\n",
      " 69   AVEDRNK3    70280 non-null   float64\n",
      " 70   DRNK3GE5    70022 non-null   float64\n",
      " 71   MAXDRNKS    69946 non-null   float64\n",
      " 72   EXERANY2    132963 non-null  float64\n",
      " 73   EXRACT11    98679 non-null   float64\n",
      " 74   EXEROFT1    97357 non-null   float64\n",
      " 75   EXERHMM1    97138 non-null   float64\n",
      " 76   EXRACT21    97238 non-null   float64\n",
      " 77   EXEROFT2    63739 non-null   float64\n",
      " 78   EXERHMM2    63615 non-null   float64\n",
      " 79   STRENGTH    130787 non-null  float64\n",
      " 80   FRUIT2      129426 non-null  float64\n",
      " 81   FRUITJU2    129127 non-null  float64\n",
      " 82   FVGREEN1    128733 non-null  float64\n",
      " 83   FRENCHF1    128572 non-null  float64\n",
      " 84   POTATOE1    128231 non-null  float64\n",
      " 85   VEGETAB2    127596 non-null  float64\n",
      " 86   FLUSHOT7    127583 non-null  float64\n",
      " 87   FLSHTMY3    64624 non-null   float64\n",
      " 88   TETANUS1    123435 non-null  float64\n",
      " 89   PNEUVAC4    127209 non-null  float64\n",
      " 90   HIVTST7     126329 non-null  float64\n",
      " 91   HIVTSTD3    45576 non-null   float64\n",
      " 92   HIVRISK5    125879 non-null  float64\n",
      " 93   _STSTR      140514 non-null  int64  \n",
      " 94   _IMPSEX     140514 non-null  int64  \n",
      " 95   CAGEG       16830 non-null   float64\n",
      " 96   _RFHLTH     140514 non-null  int64  \n",
      " 97   _PHYS14D    140514 non-null  int64  \n",
      " 98   _MENT14D    140514 non-null  int64  \n",
      " 99   _HCVU651    140514 non-null  int64  \n",
      " 100  _RFHYPE5    140514 non-null  int64  \n",
      " 101  _CHOLCH2    140514 non-null  int64  \n",
      " 102  _RFCHOL2    124456 non-null  float64\n",
      " 103  _MICHD      139188 non-null  float64\n",
      " 104  _LTASTH1    140514 non-null  int64  \n",
      " 105  _CASTHM1    140514 non-null  int64  \n",
      " 106  _ASTHMS1    140514 non-null  int64  \n",
      " 107  _DRDXAR2    139666 non-null  float64\n",
      " 108  _LMTACT2    139666 non-null  float64\n",
      " 109  _LMTWRK2    139666 non-null  float64\n",
      " 110  _PRACE1     140502 non-null  float64\n",
      " 111  _MRACE1     140502 non-null  float64\n",
      " 112  _HISPANC    140514 non-null  int64  \n",
      " 113  _RACE       140512 non-null  float64\n",
      " 114  _RACEG21    140512 non-null  float64\n",
      " 115  _RACEGR3    140512 non-null  float64\n",
      " 116  _SEX        140514 non-null  int64  \n",
      " 117  _AGEG5YR    140514 non-null  int64  \n",
      " 118  _AGE65YR    140514 non-null  int64  \n",
      " 119  _AGE80      140514 non-null  int64  \n",
      " 120  _AGE_G      140514 non-null  int64  \n",
      " 121  WTKG3       129984 non-null  float64\n",
      " 122  _BMI5       127540 non-null  float64\n",
      " 123  _BMI5CAT    127540 non-null  float64\n",
      " 124  _RFBMI5     140514 non-null  int64  \n",
      " 125  _EDUCAG     140514 non-null  int64  \n",
      " 126  _INCOMG     140514 non-null  int64  \n",
      " 127  _SMOKER3    140514 non-null  int64  \n",
      " 128  _RFSMOK3    140514 non-null  int64  \n",
      " 129  DRNKANY5    140514 non-null  int64  \n",
      " 130  _RFBING5    140514 non-null  int64  \n",
      " 131  _DRNKWK1    140514 non-null  int64  \n",
      " 132  _RFDRHV7    140514 non-null  int64  \n",
      " 133  _TOTINDA    140514 non-null  int64  \n",
      " 134  MAXVO21_    140514 non-null  int64  \n",
      " 135  FC601_      140514 non-null  int64  \n",
      " 136  ACTIN12_    96655 non-null   float64\n",
      " 137  ACTIN22_    94102 non-null   float64\n",
      " 138  _MINAC11    93795 non-null   float64\n",
      " 139  _MINAC21    92980 non-null   float64\n",
      " 140  PAMISS2_    140514 non-null  int64  \n",
      " 141  PAMIN12_    92418 non-null   float64\n",
      " 142  PAMIN22_    91608 non-null   float64\n",
      " 143  PA2MIN_     95290 non-null   float64\n",
      " 144  PAVIG12_    94939 non-null   float64\n",
      " 145  PAVIG22_    92838 non-null   float64\n",
      " 146  PA2VIGM_    96152 non-null   float64\n",
      " 147  _PACAT2     140514 non-null  int64  \n",
      " 148  _PAINDX2    140514 non-null  int64  \n",
      " 149  _PA150R3    140514 non-null  int64  \n",
      " 150  _PA300R3    140514 non-null  int64  \n",
      " 151  _PA30022    140514 non-null  int64  \n",
      " 152  _PASTRNG    140514 non-null  int64  \n",
      " 153  _PAREC2     140514 non-null  int64  \n",
      " 154  _PASTAE2    140514 non-null  int64  \n",
      " 155  FTJUDA2_    126976 non-null  float64\n",
      " 156  FRUTDA2_    126904 non-null  float64\n",
      " 157  GRENDA1_    126866 non-null  float64\n",
      " 158  FRNCHDA_    126874 non-null  float64\n",
      " 159  POTADA1_    125767 non-null  float64\n",
      " 160  VEGEDA2_    125290 non-null  float64\n",
      " 161  _MISFRT1    140514 non-null  int64  \n",
      " 162  _MISVEG1    140514 non-null  int64  \n",
      " 163  _FRTRES1    140514 non-null  int64  \n",
      " 164  _VEGRES1    140514 non-null  int64  \n",
      " 165  _FRUTSU1    125023 non-null  float64\n",
      " 166  _VEGESU1    122140 non-null  float64\n",
      " 167  _FRTLT1A    140514 non-null  int64  \n",
      " 168  _VEGLT1A    140514 non-null  int64  \n",
      " 169  _FRT16A     140514 non-null  int64  \n",
      " 170  _VEG23A     140514 non-null  int64  \n",
      " 171  _FRUITE1    140514 non-null  int64  \n",
      " 172  _VEGETE1    140514 non-null  int64  \n",
      " 173  _FLSHOT7    50585 non-null   float64\n",
      " 174  _PNEUMO3    50585 non-null   float64\n",
      " 175  _AIDTST4    126329 non-null  float64\n",
      " 176  _MMSA       140514 non-null  int64  \n",
      " 177  _MMSAWT     140514 non-null  float64\n",
      " 178  SEQNO       140514 non-null  int64  \n",
      " 179  MMSANAME    140514 non-null  object \n",
      "dtypes: float64(126), int64(53), object(1)\n",
      "memory usage: 193.0+ MB\n",
      "\n"
     ]
    }
   ],
   "source": [
    "import io\n",
    "buffer = io.StringIO()\n",
    "modeldf2019.info(buf=buffer)\n",
    "info_str = buffer.getvalue()\n",
    "print(info_str)"
   ]
  },
  {
   "cell_type": "code",
   "execution_count": 25,
   "id": "d8100374",
   "metadata": {
    "scrolled": true
   },
   "outputs": [
    {
     "name": "stdout",
     "output_type": "stream",
     "text": [
      "<class 'pandas.core.frame.DataFrame'>\n",
      "RangeIndex: 151861 entries, 0 to 151860\n",
      "Data columns (total 153 columns):\n",
      " #    Column    Non-Null Count   Dtype   \n",
      "---   ------    --------------   -----   \n",
      " 0    DISPCODE  151861 non-null  category\n",
      " 1    STATERE1  37094 non-null   category\n",
      " 2    CELPHON1  37094 non-null   category\n",
      " 3    LADULT1   37094 non-null   category\n",
      " 4    COLGSEX   13 non-null      category\n",
      " 5    LANDSEX   15568 non-null   category\n",
      " 6    RESPSLCT  20603 non-null   category\n",
      " 7    SAFETIME  114767 non-null  category\n",
      " 8    CADULT1   114767 non-null  category\n",
      " 9    CELLSEX   114766 non-null  category\n",
      " 10   HHADULT   114766 non-null  float64 \n",
      " 11   SEXVAR    151861 non-null  category\n",
      " 12   GENHLTH   151860 non-null  category\n",
      " 13   PHYSHLTH  151859 non-null  float64 \n",
      " 14   MENTHLTH  151861 non-null  float64 \n",
      " 15   POORHLTH  81991 non-null   float64 \n",
      " 16   PRIMINSR  151860 non-null  category\n",
      " 17   PERSDOC3  151861 non-null  category\n",
      " 18   MEDCOST1  151860 non-null  category\n",
      " 19   CHECKUP1  151861 non-null  category\n",
      " 20   EXERANY2  151861 non-null  category\n",
      " 21   BPHIGH6   151861 non-null  category\n",
      " 22   BPMEDS    56562 non-null   category\n",
      " 23   CHOLCHK3  151861 non-null  category\n",
      " 24   TOLDHI3   131964 non-null  category\n",
      " 25   CHOLMED3  131786 non-null  category\n",
      " 26   CVDINFR4  151861 non-null  category\n",
      " 27   CVDCRHD4  151861 non-null  category\n",
      " 28   CVDSTRK3  151861 non-null  category\n",
      " 29   ASTHMA3   151861 non-null  category\n",
      " 30   ASTHNOW   21562 non-null   category\n",
      " 31   CHCSCNCR  151861 non-null  category\n",
      " 32   CHCOCNCR  151861 non-null  category\n",
      " 33   CHCCOPD3  151861 non-null  category\n",
      " 34   ADDEPEV3  151861 non-null  category\n",
      " 35   CHCKDNY2  151861 non-null  category\n",
      " 36   DIABETE4  151861 non-null  category\n",
      " 37   DIABAGE3  18689 non-null   float64 \n",
      " 38   HAVARTH5  151861 non-null  category\n",
      " 39   ARTHEXER  46042 non-null   category\n",
      " 40   ARTHEDU   46042 non-null   category\n",
      " 41   LMTJOIN3  46042 non-null   category\n",
      " 42   ARTHDIS2  46042 non-null   category\n",
      " 43   JOINPAI2  46042 non-null   category\n",
      " 44   MARITAL   151860 non-null  category\n",
      " 45   EDUCA     151861 non-null  category\n",
      " 46   RENTHOM1  151860 non-null  category\n",
      " 47   NUMHHOL3  37094 non-null   category\n",
      " 48   NUMPHON3  10735 non-null   category\n",
      " 49   CPDEMO1B  151753 non-null  category\n",
      " 50   VETERAN3  151238 non-null  category\n",
      " 51   EMPLOY1   150488 non-null  category\n",
      " 52   CHILDREN  149499 non-null  float64 \n",
      " 53   INCOME3   148430 non-null  category\n",
      " 54   PREGNANT  29813 non-null   category\n",
      " 55   WEIGHT2   147379 non-null  float64 \n",
      " 56   HEIGHT3   146934 non-null  float64 \n",
      " 57   DEAF      146333 non-null  category\n",
      " 58   BLIND     145873 non-null  category\n",
      " 59   DECIDE    145506 non-null  category\n",
      " 60   DIFFWALK  145086 non-null  category\n",
      " 61   DIFFDRES  144792 non-null  category\n",
      " 62   DIFFALON  144395 non-null  category\n",
      " 63   SMOKE100  143884 non-null  category\n",
      " 64   SMOKDAY2  54936 non-null   category\n",
      " 65   USENOW3   143597 non-null  category\n",
      " 66   ECIGNOW1  143167 non-null  category\n",
      " 67   ALCDAY5   142597 non-null  float64 \n",
      " 68   AVEDRNK3  76463 non-null   float64 \n",
      " 69   DRNK3GE5  76234 non-null   float64 \n",
      " 70   MAXDRNKS  76013 non-null   float64 \n",
      " 71   FLUSHOT7  141447 non-null  category\n",
      " 72   FLSHTMY3  74881 non-null   float64 \n",
      " 73   IMFVPLA2  73440 non-null   category\n",
      " 74   PNEUVAC4  140902 non-null  category\n",
      " 75   HIVTST7   140507 non-null  category\n",
      " 76   HIVTSTD3  48245 non-null   float64 \n",
      " 77   FRUIT2    138991 non-null  float64 \n",
      " 78   FRUITJU2  138378 non-null  float64 \n",
      " 79   FVGREEN1  137940 non-null  float64 \n",
      " 80   FRENCHF1  137525 non-null  float64 \n",
      " 81   POTATOE1  137102 non-null  float64 \n",
      " 82   VEGETAB2  136657 non-null  float64 \n",
      " 83   _STSTR    151861 non-null  float64 \n",
      " 84   _IMPSEX   151861 non-null  category\n",
      " 85   CAGEG     17691 non-null   category\n",
      " 86   _RFHLTH   151861 non-null  category\n",
      " 87   _PHYS14D  151861 non-null  category\n",
      " 88   _MENT14D  151861 non-null  category\n",
      " 89   _HLTHPLN  151861 non-null  category\n",
      " 90   _HCVU652  151861 non-null  category\n",
      " 91   _TOTINDA  151861 non-null  category\n",
      " 92   _RFHYPE6  151861 non-null  category\n",
      " 93   _CHOLCH3  151861 non-null  category\n",
      " 94   _RFCHOL3  131875 non-null  category\n",
      " 95   _MICHD    150297 non-null  category\n",
      " 96   _LTASTH1  151861 non-null  category\n",
      " 97   _CASTHM1  151861 non-null  category\n",
      " 98   _ASTHMS1  151861 non-null  category\n",
      " 99   _DRDXAR3  150908 non-null  category\n",
      " 100  _LMTACT3  150908 non-null  category\n",
      " 101  _LMTWRK3  150908 non-null  category\n",
      " 102  _PRACE1   151861 non-null  category\n",
      " 103  _MRACE1   151861 non-null  category\n",
      " 104  _HISPANC  151861 non-null  category\n",
      " 105  _RACE     151861 non-null  category\n",
      " 106  _RACEG21  151861 non-null  category\n",
      " 107  _RACEGR3  151861 non-null  category\n",
      " 108  _RACEPRV  151861 non-null  category\n",
      " 109  _SEX      151861 non-null  category\n",
      " 110  _AGEG5YR  151861 non-null  category\n",
      " 111  _AGE65YR  151861 non-null  category\n",
      " 112  _AGE80    151861 non-null  float64 \n",
      " 113  _AGE_G    151861 non-null  category\n",
      " 114  WTKG3     136693 non-null  float64 \n",
      " 115  _BMI5     134322 non-null  float64 \n",
      " 116  _BMI5CAT  134322 non-null  category\n",
      " 117  _RFBMI5   151861 non-null  category\n",
      " 118  _EDUCAG   151861 non-null  category\n",
      " 119  _INCOMG1  151861 non-null  category\n",
      " 120  _SMOKER3  151861 non-null  category\n",
      " 121  _RFSMOK3  151861 non-null  category\n",
      " 122  _CURECI1  151861 non-null  category\n",
      " 123  DRNKANY5  151861 non-null  category\n",
      " 124  _RFBING5  151861 non-null  category\n",
      " 125  _DRNKWK1  151861 non-null  float64 \n",
      " 126  _RFDRHV7  151861 non-null  category\n",
      " 127  _FLSHOT7  51972 non-null   category\n",
      " 128  _PNEUMO3  51972 non-null   category\n",
      " 129  _AIDTST4  140507 non-null  category\n",
      " 130  FTJUDA2_  135414 non-null  float64 \n",
      " 131  FRUTDA2_  135801 non-null  float64 \n",
      " 132  GRENDA1_  135552 non-null  float64 \n",
      " 133  FRNCHDA_  135224 non-null  float64 \n",
      " 134  POTADA1_  133965 non-null  float64 \n",
      " 135  VEGEDA2_  133962 non-null  float64 \n",
      " 136  _MISFRT1  151861 non-null  category\n",
      " 137  _MISVEG1  151861 non-null  category\n",
      " 138  _FRTRES1  151861 non-null  category\n",
      " 139  _VEGRES1  151861 non-null  category\n",
      " 140  _FRUTSU1  133297 non-null  float64 \n",
      " 141  _VEGESU1  130078 non-null  float64 \n",
      " 142  _FRTLT1A  151861 non-null  category\n",
      " 143  _VEGLT1A  151861 non-null  category\n",
      " 144  _FRT16A   151861 non-null  category\n",
      " 145  _VEG23A   151861 non-null  category\n",
      " 146  _FRUITE1  151861 non-null  category\n",
      " 147  _VEGETE1  151861 non-null  category\n",
      " 148  _MMSA     151861 non-null  float64 \n",
      " 149  _MMSAWT   151861 non-null  float64 \n",
      " 150  SEQNO     151861 non-null  float64 \n",
      " 151  MMSANAME  151861 non-null  object  \n",
      " 152  STATE     151861 non-null  object  \n",
      "dtypes: category(115), float64(36), object(2)\n",
      "memory usage: 60.7+ MB\n",
      "\n"
     ]
    }
   ],
   "source": [
    "buffer = io.StringIO()\n",
    "modeldf2021.info(buf=buffer)\n",
    "info_str = buffer.getvalue()\n",
    "print(info_str)"
   ]
  },
  {
   "cell_type": "code",
   "execution_count": 26,
   "id": "7d3abd87",
   "metadata": {},
   "outputs": [
    {
     "data": {
      "text/plain": [
       "Index(['DISPCODE', 'STATERE1', 'CELPHON1', 'LADULT1', 'COLGSEX', 'LANDSEX',\n",
       "       'RESPSLCT', 'SAFETIME', 'CADULT1', 'CELLSEX',\n",
       "       ...\n",
       "       '_VEGLT1A', '_FRT16A', '_VEG23A', '_FRUITE1', '_VEGETE1', '_MMSA',\n",
       "       '_MMSAWT', 'SEQNO', 'MMSANAME', 'STATE'],\n",
       "      dtype='object', length=153)"
      ]
     },
     "execution_count": 26,
     "metadata": {},
     "output_type": "execute_result"
    }
   ],
   "source": [
    "modeldf2021.columns"
   ]
  },
  {
   "cell_type": "markdown",
   "id": "65fadf75",
   "metadata": {},
   "source": [
    "### Data Cleaning and Merging "
   ]
  },
  {
   "cell_type": "code",
   "execution_count": 11,
   "id": "9d3275a9",
   "metadata": {},
   "outputs": [],
   "source": [
    "#Any variable with value counts below 14 with be turned to a categorical nominal datatype:\n",
    "# Convert 'col1' from float to categorical\n",
    "for col in modeldf2019.columns:\n",
    "    if len(modeldf2019[col].value_counts()) < 15:\n",
    "        modeldf2019[col] = modeldf2019[col].astype('category')\n",
    "        \n",
    "for col in modeldf2021.columns:\n",
    "    if len(modeldf2021[col].value_counts()) < 15:\n",
    "        modeldf2021[col] = modeldf2021[col].astype('category')\n",
    "               \n"
   ]
  },
  {
   "cell_type": "code",
   "execution_count": 12,
   "id": "c0719453",
   "metadata": {},
   "outputs": [],
   "source": [
    "#modeldf2019.info()"
   ]
  },
  {
   "cell_type": "code",
   "execution_count": 13,
   "id": "f73e2106",
   "metadata": {},
   "outputs": [],
   "source": [
    "#modeldf2021.info()"
   ]
  },
  {
   "cell_type": "code",
   "execution_count": 14,
   "id": "c1d88286",
   "metadata": {},
   "outputs": [],
   "source": [
    "##Extract state from MMSANAME\n",
    "\n",
    "def get_state(col):\n",
    "    return col.split(',')[1]\n",
    "\n",
    "modeldf2019['STATE'] = modeldf2019['MMSANAME'].apply(get_state)\n",
    "\n",
    "modeldf2021['STATE'] = modeldf2021['MMSANAME'].apply(get_state)"
   ]
  },
  {
   "cell_type": "code",
   "execution_count": 92,
   "id": "f804b8a3",
   "metadata": {},
   "outputs": [
    {
     "data": {
      "text/plain": [
       "41"
      ]
     },
     "execution_count": 92,
     "metadata": {},
     "output_type": "execute_result"
    }
   ],
   "source": [
    "columns = ['FRNCHDA_','POTADA1_', 'FRUTDA2_', 'FTJUDA2_', 'VEGEDA2_', 'GRENDA1_', \n",
    "                '_FRUTSU1', '_VEGESU1', '_HLTHPLN','PRIMINSR', '_RACE', 'MEDCOST1', 'MARITAL', '_EDUCAG', \n",
    "                'RENTHOM1', 'EMPLOY1', 'CHILDREN', '_INCOMG1', '_TOTINDA', 'CHCOCNCR', 'SMOKE100', \n",
    "                'SMOKDAY2', 'USENOW3','_SMOKER3', '_RFSMOK3','_RFBING5', 'DIABETE4', \n",
    "                'CHCOCNCR', '_MICHD', '_RFHYPE6', '_RFCHOL3', 'ADDEPEV3', 'DECIDE', '_TOTINDA', '_AGEG5YR', \n",
    "                'WTKG3', '_BMI5', '_BMI5CAT', '_SEX','STATE','SEQNO']\n",
    "len(columns)"
   ]
  },
  {
   "cell_type": "code",
   "execution_count": 93,
   "id": "247fa99b",
   "metadata": {},
   "outputs": [],
   "source": [
    "#RENAME COLUMNS:\n",
    "modeldf2019.rename(columns={'_INCOMG':'_INCOMG1','_RFHYPE5':'_RFHYPE6','HLTHPLN1': 'PRIMINSR','MEDCOST':'MEDCOST1',\n",
    "                  '_RFCHOL2':'_RFCHOL3'},inplace=True)\n"
   ]
  },
  {
   "cell_type": "code",
   "execution_count": 94,
   "id": "b58d7201",
   "metadata": {},
   "outputs": [],
   "source": [
    "#Create a _HLTHPLN from PRIMINSR IN 2019 df (- '_HLTHPLN' - Categorical variable for healthcare plan )\n",
    "\n",
    "modeldf2019['_HLTHPLN'] = modeldf2019['PRIMINSR'].apply(lambda x: 1 if x in [1,2,3,4,5,6,7,8,9] else 2 if x == 88 else 'NA')\n",
    "\n",
    "modeldf2019['_TOTINDA'] = modeldf2019['_TOTINDA'].astype(float)\n",
    "\n",
    "#Create a DROCDY3_ from ALCDAY5 by dividing the ALCDAY5 variable by 7 days per week or 30 days per month\n",
    "\n",
    "def compute_drocdy3_(x):\n",
    "    # Handle NaN values\n",
    "    if pd.isna(x):\n",
    "        return np.nan\n",
    "    \n",
    "    x_int = int(str(x).split(\".\")[0])\n",
    "    \n",
    "    if x_int == 888:\n",
    "        return 0.0\n",
    "    elif x_int // 100 == 1:\n",
    "        return (x_int % 100) / 7.0\n",
    "    elif x_int // 100 == 2:\n",
    "        return (x_int % 100) / 30.0\n",
    "    elif x_int in [777, 999]:\n",
    "        return np.nan\n",
    "    else:\n",
    "        return float(x_int)\n",
    "\n",
    "modeldf2021['DROCDY3_'] = modeldf2019['ALCDAY5'].apply(compute_drocdy3_)"
   ]
  },
  {
   "cell_type": "code",
   "execution_count": 98,
   "id": "35ca08f5",
   "metadata": {},
   "outputs": [],
   "source": [
    "modeldf2019_2 = modeldf2019[columns]\n",
    "modeldf2021_2 = modeldf2021[columns]"
   ]
  },
  {
   "cell_type": "code",
   "execution_count": 99,
   "id": "9341e33f",
   "metadata": {},
   "outputs": [],
   "source": [
    "model_df = pd.concat([modeldf2019_2,modeldf2021_2])"
   ]
  },
  {
   "cell_type": "code",
   "execution_count": 100,
   "id": "e8b540c8",
   "metadata": {},
   "outputs": [
    {
     "data": {
      "text/html": [
       "<div>\n",
       "<style scoped>\n",
       "    .dataframe tbody tr th:only-of-type {\n",
       "        vertical-align: middle;\n",
       "    }\n",
       "\n",
       "    .dataframe tbody tr th {\n",
       "        vertical-align: top;\n",
       "    }\n",
       "\n",
       "    .dataframe thead th {\n",
       "        text-align: right;\n",
       "    }\n",
       "</style>\n",
       "<table border=\"1\" class=\"dataframe\">\n",
       "  <thead>\n",
       "    <tr style=\"text-align: right;\">\n",
       "      <th></th>\n",
       "      <th>FRNCHDA_</th>\n",
       "      <th>POTADA1_</th>\n",
       "      <th>FRUTDA2_</th>\n",
       "      <th>FTJUDA2_</th>\n",
       "      <th>VEGEDA2_</th>\n",
       "      <th>GRENDA1_</th>\n",
       "      <th>_FRUTSU1</th>\n",
       "      <th>_VEGESU1</th>\n",
       "      <th>_HLTHPLN</th>\n",
       "      <th>PRIMINSR</th>\n",
       "      <th>...</th>\n",
       "      <th>ADDEPEV3</th>\n",
       "      <th>DECIDE</th>\n",
       "      <th>_TOTINDA</th>\n",
       "      <th>_AGEG5YR</th>\n",
       "      <th>WTKG3</th>\n",
       "      <th>_BMI5</th>\n",
       "      <th>_BMI5CAT</th>\n",
       "      <th>_SEX</th>\n",
       "      <th>STATE</th>\n",
       "      <th>SEQNO</th>\n",
       "    </tr>\n",
       "  </thead>\n",
       "  <tbody>\n",
       "    <tr>\n",
       "      <th>0</th>\n",
       "      <td>0.0</td>\n",
       "      <td>0.0</td>\n",
       "      <td>100.0</td>\n",
       "      <td>33.0</td>\n",
       "      <td>50.0</td>\n",
       "      <td>50.0</td>\n",
       "      <td>133.0</td>\n",
       "      <td>100.0</td>\n",
       "      <td>1.0</td>\n",
       "      <td>1.0</td>\n",
       "      <td>...</td>\n",
       "      <td>1.0</td>\n",
       "      <td>2.0</td>\n",
       "      <td>1.0</td>\n",
       "      <td>7.0</td>\n",
       "      <td>11294.0</td>\n",
       "      <td>3786.0</td>\n",
       "      <td>4.0</td>\n",
       "      <td>1.0</td>\n",
       "      <td>WI</td>\n",
       "      <td>2.019001e+09</td>\n",
       "    </tr>\n",
       "    <tr>\n",
       "      <th>1</th>\n",
       "      <td>0.0</td>\n",
       "      <td>10.0</td>\n",
       "      <td>200.0</td>\n",
       "      <td>0.0</td>\n",
       "      <td>14.0</td>\n",
       "      <td>29.0</td>\n",
       "      <td>200.0</td>\n",
       "      <td>53.0</td>\n",
       "      <td>1.0</td>\n",
       "      <td>1.0</td>\n",
       "      <td>...</td>\n",
       "      <td>2.0</td>\n",
       "      <td>2.0</td>\n",
       "      <td>1.0</td>\n",
       "      <td>13.0</td>\n",
       "      <td>11113.0</td>\n",
       "      <td>3232.0</td>\n",
       "      <td>4.0</td>\n",
       "      <td>1.0</td>\n",
       "      <td>IA-NE-SD</td>\n",
       "      <td>2.019000e+09</td>\n",
       "    </tr>\n",
       "    <tr>\n",
       "      <th>2</th>\n",
       "      <td>0.0</td>\n",
       "      <td>14.0</td>\n",
       "      <td>200.0</td>\n",
       "      <td>0.0</td>\n",
       "      <td>100.0</td>\n",
       "      <td>100.0</td>\n",
       "      <td>200.0</td>\n",
       "      <td>214.0</td>\n",
       "      <td>1.0</td>\n",
       "      <td>1.0</td>\n",
       "      <td>...</td>\n",
       "      <td>2.0</td>\n",
       "      <td>2.0</td>\n",
       "      <td>2.0</td>\n",
       "      <td>11.0</td>\n",
       "      <td>13154.0</td>\n",
       "      <td>3723.0</td>\n",
       "      <td>4.0</td>\n",
       "      <td>1.0</td>\n",
       "      <td>FL</td>\n",
       "      <td>2.019000e+09</td>\n",
       "    </tr>\n",
       "    <tr>\n",
       "      <th>3</th>\n",
       "      <td>10.0</td>\n",
       "      <td>10.0</td>\n",
       "      <td>0.0</td>\n",
       "      <td>0.0</td>\n",
       "      <td>100.0</td>\n",
       "      <td>13.0</td>\n",
       "      <td>0.0</td>\n",
       "      <td>133.0</td>\n",
       "      <td>1.0</td>\n",
       "      <td>1.0</td>\n",
       "      <td>...</td>\n",
       "      <td>2.0</td>\n",
       "      <td>2.0</td>\n",
       "      <td>2.0</td>\n",
       "      <td>9.0</td>\n",
       "      <td>6895.0</td>\n",
       "      <td>2969.0</td>\n",
       "      <td>3.0</td>\n",
       "      <td>2.0</td>\n",
       "      <td>RI-MA</td>\n",
       "      <td>2.019003e+09</td>\n",
       "    </tr>\n",
       "    <tr>\n",
       "      <th>4</th>\n",
       "      <td>43.0</td>\n",
       "      <td>29.0</td>\n",
       "      <td>14.0</td>\n",
       "      <td>0.0</td>\n",
       "      <td>29.0</td>\n",
       "      <td>0.0</td>\n",
       "      <td>14.0</td>\n",
       "      <td>101.0</td>\n",
       "      <td>1.0</td>\n",
       "      <td>1.0</td>\n",
       "      <td>...</td>\n",
       "      <td>2.0</td>\n",
       "      <td>2.0</td>\n",
       "      <td>1.0</td>\n",
       "      <td>6.0</td>\n",
       "      <td>9072.0</td>\n",
       "      <td>3132.0</td>\n",
       "      <td>4.0</td>\n",
       "      <td>2.0</td>\n",
       "      <td>KS</td>\n",
       "      <td>2.019002e+09</td>\n",
       "    </tr>\n",
       "  </tbody>\n",
       "</table>\n",
       "<p>5 rows × 41 columns</p>\n",
       "</div>"
      ],
      "text/plain": [
       "   FRNCHDA_  POTADA1_  FRUTDA2_  FTJUDA2_  VEGEDA2_  GRENDA1_  _FRUTSU1  \\\n",
       "0       0.0       0.0     100.0      33.0      50.0      50.0     133.0   \n",
       "1       0.0      10.0     200.0       0.0      14.0      29.0     200.0   \n",
       "2       0.0      14.0     200.0       0.0     100.0     100.0     200.0   \n",
       "3      10.0      10.0       0.0       0.0     100.0      13.0       0.0   \n",
       "4      43.0      29.0      14.0       0.0      29.0       0.0      14.0   \n",
       "\n",
       "   _VEGESU1  _HLTHPLN  PRIMINSR  ... ADDEPEV3 DECIDE _TOTINDA  _AGEG5YR  \\\n",
       "0     100.0       1.0       1.0  ...      1.0    2.0      1.0       7.0   \n",
       "1      53.0       1.0       1.0  ...      2.0    2.0      1.0      13.0   \n",
       "2     214.0       1.0       1.0  ...      2.0    2.0      2.0      11.0   \n",
       "3     133.0       1.0       1.0  ...      2.0    2.0      2.0       9.0   \n",
       "4     101.0       1.0       1.0  ...      2.0    2.0      1.0       6.0   \n",
       "\n",
       "     WTKG3   _BMI5  _BMI5CAT  _SEX      STATE         SEQNO  \n",
       "0  11294.0  3786.0       4.0   1.0         WI  2.019001e+09  \n",
       "1  11113.0  3232.0       4.0   1.0   IA-NE-SD  2.019000e+09  \n",
       "2  13154.0  3723.0       4.0   1.0         FL  2.019000e+09  \n",
       "3   6895.0  2969.0       3.0   2.0      RI-MA  2.019003e+09  \n",
       "4   9072.0  3132.0       4.0   2.0         KS  2.019002e+09  \n",
       "\n",
       "[5 rows x 41 columns]"
      ]
     },
     "execution_count": 100,
     "metadata": {},
     "output_type": "execute_result"
    }
   ],
   "source": [
    "model_df.head()"
   ]
  },
  {
   "cell_type": "code",
   "execution_count": 102,
   "id": "a1303620",
   "metadata": {},
   "outputs": [
    {
     "name": "stdout",
     "output_type": "stream",
     "text": [
      "<class 'pandas.core.frame.DataFrame'>\n",
      "Int64Index: 292375 entries, 0 to 151860\n",
      "Data columns (total 41 columns):\n",
      " #   Column    Non-Null Count   Dtype   \n",
      "---  ------    --------------   -----   \n",
      " 0   FRNCHDA_  262098 non-null  float64 \n",
      " 1   POTADA1_  259732 non-null  float64 \n",
      " 2   FRUTDA2_  262705 non-null  float64 \n",
      " 3   FTJUDA2_  262390 non-null  float64 \n",
      " 4   VEGEDA2_  259252 non-null  float64 \n",
      " 5   GRENDA1_  262418 non-null  float64 \n",
      " 6   _FRUTSU1  258320 non-null  float64 \n",
      " 7   _VEGESU1  252218 non-null  float64 \n",
      " 8   _HLTHPLN  292371 non-null  float64 \n",
      " 9   PRIMINSR  292370 non-null  float64 \n",
      " 10  _RACE     292373 non-null  category\n",
      " 11  MEDCOST1  292371 non-null  category\n",
      " 12  MARITAL   292353 non-null  category\n",
      " 13  _EDUCAG   292375 non-null  float64 \n",
      " 14  RENTHOM1  292361 non-null  category\n",
      " 15  EMPLOY1   289981 non-null  category\n",
      " 16  CHILDREN  288326 non-null  float64 \n",
      " 17  _INCOMG1  292375 non-null  float64 \n",
      " 18  _TOTINDA  292375 non-null  float64 \n",
      " 19  CHCOCNCR  292371 non-null  category\n",
      " 20  SMOKE100  278630 non-null  category\n",
      " 21  SMOKDAY2  108333 non-null  category\n",
      " 22  USENOW3   278077 non-null  category\n",
      " 23  _SMOKER3  292375 non-null  float64 \n",
      " 24  _RFSMOK3  292375 non-null  float64 \n",
      " 25  _RFBING5  292375 non-null  float64 \n",
      " 26  DIABETE4  292371 non-null  category\n",
      " 27  CHCOCNCR  292371 non-null  category\n",
      " 28  _MICHD    289485 non-null  category\n",
      " 29  _RFHYPE6  292375 non-null  float64 \n",
      " 30  _RFCHOL3  256331 non-null  category\n",
      " 31  ADDEPEV3  292370 non-null  category\n",
      " 32  DECIDE    281393 non-null  category\n",
      " 33  _TOTINDA  292375 non-null  float64 \n",
      " 34  _AGEG5YR  292375 non-null  float64 \n",
      " 35  WTKG3     266677 non-null  float64 \n",
      " 36  _BMI5     261862 non-null  float64 \n",
      " 37  _BMI5CAT  261862 non-null  category\n",
      " 38  _SEX      292375 non-null  float64 \n",
      " 39  STATE     292375 non-null  object  \n",
      " 40  SEQNO     292375 non-null  float64 \n",
      "dtypes: category(16), float64(24), object(1)\n",
      "memory usage: 62.5+ MB\n"
     ]
    }
   ],
   "source": [
    "model_df.info()"
   ]
  },
  {
   "cell_type": "code",
   "execution_count": null,
   "id": "de4f2fe5",
   "metadata": {},
   "outputs": [],
   "source": []
  },
  {
   "cell_type": "code",
   "execution_count": null,
   "id": "5d42039a",
   "metadata": {},
   "outputs": [],
   "source": []
  },
  {
   "cell_type": "code",
   "execution_count": null,
   "id": "cc5f2d70",
   "metadata": {},
   "outputs": [],
   "source": []
  },
  {
   "cell_type": "code",
   "execution_count": null,
   "id": "32860b93",
   "metadata": {},
   "outputs": [],
   "source": []
  },
  {
   "cell_type": "code",
   "execution_count": null,
   "id": "2850e5b0",
   "metadata": {},
   "outputs": [],
   "source": []
  },
  {
   "cell_type": "code",
   "execution_count": null,
   "id": "fd4f96fa",
   "metadata": {},
   "outputs": [],
   "source": []
  },
  {
   "cell_type": "code",
   "execution_count": null,
   "id": "d6517783",
   "metadata": {},
   "outputs": [],
   "source": []
  },
  {
   "cell_type": "code",
   "execution_count": null,
   "id": "152974b4",
   "metadata": {},
   "outputs": [],
   "source": []
  },
  {
   "cell_type": "code",
   "execution_count": null,
   "id": "aaa0edac",
   "metadata": {},
   "outputs": [],
   "source": []
  },
  {
   "cell_type": "code",
   "execution_count": null,
   "id": "0cbbe8bc",
   "metadata": {},
   "outputs": [],
   "source": []
  },
  {
   "cell_type": "code",
   "execution_count": null,
   "id": "1604acd9",
   "metadata": {},
   "outputs": [],
   "source": []
  },
  {
   "cell_type": "markdown",
   "id": "afa132dd",
   "metadata": {},
   "source": [
    "### Generate EDA Report with Original Dataset"
   ]
  },
  {
   "cell_type": "code",
   "execution_count": null,
   "id": "a385f8c5",
   "metadata": {
    "scrolled": true
   },
   "outputs": [],
   "source": [
    "profile = ProfileReport(modeldf2019)\n",
    "profile.to_file(output_file=\"mydata/EDA_Report_2019.html\")\n",
    "\n",
    "profile = ProfileReport(modeldf2021)\n",
    "profile.to_file(output_file=\"mydata/EDA_Report_2021.html\")"
   ]
  },
  {
   "cell_type": "markdown",
   "id": "bd0146df",
   "metadata": {},
   "source": [
    "### Handling Missing Data"
   ]
  },
  {
   "cell_type": "code",
   "execution_count": null,
   "id": "c8d5117f",
   "metadata": {},
   "outputs": [],
   "source": [
    "#Step1 Remove Columns that have more than 50% missing values\n",
    "\n",
    "def columns_with_high_null_percentage(df, threshold=0.9):\n",
    "    \"\"\"\n",
    "    Get the columns with null values exceeding the specified threshold in a DataFrame.\n",
    "    \n",
    "    Parameters:\n",
    "        df (pd.DataFrame): The input DataFrame.\n",
    "        threshold (float): The threshold for null values (default is 0.9, meaning 90%).\n",
    "\n",
    "    Returns:\n",
    "        List[str]: A list of column names with null values exceeding the threshold.\n",
    "    \"\"\"\n",
    "    null_percentages = (df.isnull().sum() / len(df)).sort_values(ascending=False)\n",
    "    high_null_columns = null_percentages[null_percentages > threshold].index.tolist()\n",
    "    return high_null_columns\n",
    "\n",
    "high_null_columns = columns_with_high_null_percentage(model_build_df, threshold=0.4)\n",
    "print(high_null_columns)\n"
   ]
  },
  {
   "cell_type": "code",
   "execution_count": null,
   "id": "0d75069b",
   "metadata": {},
   "outputs": [],
   "source": [
    "model_build_df_1 = model_build_df.drop(columns=high_null_columns)\n",
    "model_build_df_1.info()"
   ]
  },
  {
   "cell_type": "code",
   "execution_count": null,
   "id": "75fce644",
   "metadata": {},
   "outputs": [],
   "source": [
    "sns.countplot(x=model_build_df_1['_RFHLTH'])"
   ]
  },
  {
   "cell_type": "code",
   "execution_count": null,
   "id": "085c597e",
   "metadata": {},
   "outputs": [],
   "source": [
    "#number with any chronic illness saying they are in good health \n",
    "\n",
    "#cancer CHCOCNCR 1\n",
    "#diabetes  DIABETE4 1\n",
    "#heart disease _MICHD 1\n",
    "#high bp _RFHYPE6 2\n",
    "\n",
    "df_goodhealth = model_build_df_1[model_build_df_1['_RFHLTH'] == 1]\n",
    "\n",
    "x = len(df_goodhealth)\n",
    "\n",
    "print (\"number of those that say they are in good health\", x)\n",
    "\n",
    "df_chronic_GH = df_goodhealth[(df_goodhealth['CHCOCNCR'] == 1) | \n",
    "              (df_goodhealth['DIABETE4'] == 1) | \n",
    "              (df_goodhealth['_MICHD'] == 1) |\n",
    "              (df_goodhealth['_RFHYPE6']==2)]\n",
    "\n",
    "print('% of those that say they are in good health and have at least 1 chronic disease',len(df_chronic_GH)/x)"
   ]
  },
  {
   "cell_type": "code",
   "execution_count": null,
   "id": "bc61af02",
   "metadata": {},
   "outputs": [],
   "source": []
  },
  {
   "cell_type": "code",
   "execution_count": null,
   "id": "b2a51792",
   "metadata": {},
   "outputs": [],
   "source": []
  },
  {
   "cell_type": "code",
   "execution_count": null,
   "id": "7682307d",
   "metadata": {},
   "outputs": [],
   "source": [
    "#Select columns of interest for each research question and for prediction of ones percieved GENHLTH"
   ]
  },
  {
   "cell_type": "code",
   "execution_count": null,
   "id": "26caff20",
   "metadata": {
    "scrolled": false
   },
   "outputs": [],
   "source": [
    "#Step4 Remove Highly correlated Columns \n",
    "plt.figure(figsize=(20,15))\n",
    "num_cols = model_build_df_1.select_dtypes(exclude='category').columns\n",
    "sns.heatmap(model_build_df_1[num_cols].corr(),cmap='viridis',annot=True)"
   ]
  },
  {
   "cell_type": "code",
   "execution_count": null,
   "id": "b1390e8f",
   "metadata": {},
   "outputs": [],
   "source": [
    "#COLUMNS WITH HIGH CORRELATION\n",
    "\n",
    "_FRUTSU1(TOTAL FRUITS CONSUMED PER DAY) AND FRUTDA2"
   ]
  },
  {
   "cell_type": "code",
   "execution_count": null,
   "id": "f66ec6c3",
   "metadata": {},
   "outputs": [],
   "source": []
  },
  {
   "cell_type": "code",
   "execution_count": null,
   "id": "261d2dbe",
   "metadata": {},
   "outputs": [],
   "source": []
  },
  {
   "cell_type": "code",
   "execution_count": null,
   "id": "d83516d5",
   "metadata": {},
   "outputs": [],
   "source": []
  },
  {
   "cell_type": "code",
   "execution_count": null,
   "id": "d0f00d65",
   "metadata": {},
   "outputs": [],
   "source": []
  },
  {
   "cell_type": "code",
   "execution_count": null,
   "id": "e48cf143",
   "metadata": {},
   "outputs": [],
   "source": []
  },
  {
   "cell_type": "code",
   "execution_count": null,
   "id": "35d35660",
   "metadata": {},
   "outputs": [],
   "source": []
  },
  {
   "cell_type": "code",
   "execution_count": null,
   "id": "f386570e",
   "metadata": {},
   "outputs": [],
   "source": [
    "#profile = ProfileReport(model_build_df)\n",
    "#profile.to_file(output_file=\"mydata/EDA_Report_No_NA.html\")"
   ]
  },
  {
   "cell_type": "markdown",
   "id": "5b389786",
   "metadata": {},
   "source": [
    "## ANSWERING THE RESEARCH QUESTIONS "
   ]
  },
  {
   "cell_type": "markdown",
   "id": "55b9e11f",
   "metadata": {},
   "source": [
    "How do dietary habits and nutrition shape an individual's health outcome?\n",
    "- we know that studies have shown that high fiber intake is associated with lower mortality.\n",
    "as seen in this comparative study https://pubmed.ncbi.nlm.nih.gov/22648726/. \n",
    "- we would like to see how a high vegetable/fruit diet may be associated with a person percieved health. \n",
    "- the darker the vegetables the higher the fibre content"
   ]
  },
  {
   "cell_type": "code",
   "execution_count": null,
   "id": "397f106f",
   "metadata": {
    "scrolled": false
   },
   "outputs": [],
   "source": [
    "#Columns of interest would be nutrition and diet related columns:\n",
    "nutrition_cols = []\n",
    "for key, value in description_dict.items():\n",
    "    if any(sub in str(value).lower() for sub in ['fruit','vegetable','fruits','vegetables']):\n",
    "        nutrition_cols.append(key)"
   ]
  },
  {
   "cell_type": "code",
   "execution_count": null,
   "id": "61f7924c",
   "metadata": {},
   "outputs": [],
   "source": [
    "nutrition_cols"
   ]
  },
  {
   "cell_type": "code",
   "execution_count": null,
   "id": "2e1e8672",
   "metadata": {},
   "outputs": [],
   "source": [
    "#drop alcolhol related columns \n",
    "nutrition_cols = nutrition_cols[2:]\n",
    "for col in nutrition_cols:\n",
    "    print(description_dict[col])"
   ]
  },
  {
   "cell_type": "code",
   "execution_count": null,
   "id": "44509d0b",
   "metadata": {},
   "outputs": [],
   "source": [
    "pd.set_option('display.max_columns', None)"
   ]
  },
  {
   "cell_type": "code",
   "execution_count": null,
   "id": "9d06a4aa",
   "metadata": {},
   "outputs": [],
   "source": [
    "#make a dataframe by combining nutrition columns with health status, health days columns  \n",
    "nutrition_cols = nutrition_cols + ['GENHLTH','PHYSHLTH','POORHLTH','_RFHLTH','_PHYS14D','_MENT14D']\n",
    "df_nutrition = model_build_df[nutrition_cols]"
   ]
  },
  {
   "cell_type": "code",
   "execution_count": null,
   "id": "cabb3872",
   "metadata": {},
   "outputs": [],
   "source": [
    "df_nutrition.head()"
   ]
  },
  {
   "cell_type": "code",
   "execution_count": null,
   "id": "98c8a867",
   "metadata": {},
   "outputs": [],
   "source": [
    "plt.figure(figsize=(15,10))\n",
    "ax = sns.heatmap(df_nutrition.corr(),cmap='viridis',annot=True, annot_kws={\"size\": 8})"
   ]
  },
  {
   "cell_type": "markdown",
   "id": "d5c7cc31",
   "metadata": {},
   "source": [
    "### Looking at the data we could use the calculated Total calcualted variables per day for the fruits and vegetables to see its relation to general health "
   ]
  },
  {
   "cell_type": "code",
   "execution_count": null,
   "id": "d14fa67f",
   "metadata": {},
   "outputs": [],
   "source": [
    "#_FRUTSU1=(FTJUDA2_/100) + (FRUTDA2_/100); \n",
    "#_FRUTSU1=round((_FRUTSU1*100),1); \n",
    "\n",
    "#WE CAN MAKE A TOTAL FRUITS PER DAY COLUMN \n",
    "df_nutrition['Total_fruits_daily'] = df_nutrition['_FRUTSU1'].apply(lambda x: round(x/100,1) )\n",
    "df_nutrition.head()"
   ]
  },
  {
   "cell_type": "code",
   "execution_count": null,
   "id": "6370b08b",
   "metadata": {},
   "outputs": [],
   "source": [
    "df_nutrition['Total_fruits_daily'].value_counts().head(20)"
   ]
  },
  {
   "cell_type": "code",
   "execution_count": null,
   "id": "76b717ad",
   "metadata": {},
   "outputs": [],
   "source": [
    "#_VEGESU1=(GRENDA1_/100) + (FRNCHDA_/100) + (POTADA1_/100) + \n",
    "#(VEGEDA2_/100); \n",
    "#_VEGESU1=round((_VEGESU1*100),1); \n",
    "\n",
    "#WE CAN MAKE A TOTAL VEGETABLES PER DAY COLUMN \n",
    "df_nutrition['Total_vegetables_daily'] = df_nutrition['_VEGESU1'].apply(lambda x: round(x/100,1))\n",
    "df_nutrition.head()"
   ]
  },
  {
   "cell_type": "code",
   "execution_count": null,
   "id": "422df6f2",
   "metadata": {},
   "outputs": [],
   "source": [
    "df_nutrition['Total_vegetables_daily'].value_counts().head(20)"
   ]
  },
  {
   "cell_type": "code",
   "execution_count": null,
   "id": "329d9de0",
   "metadata": {},
   "outputs": [],
   "source": [
    "df_nutrition.describe([0.25,0.5,0.75,0.99]).T"
   ]
  },
  {
   "cell_type": "code",
   "execution_count": null,
   "id": "3f5324fb",
   "metadata": {},
   "outputs": [],
   "source": [
    "#lets filter data to remove outliers \n",
    "filtered_df = df_nutrition[(df_nutrition['Total_fruits_daily'] <= 9.0) & \n",
    "                           (df_nutrition['Total_vegetables_daily'] <= 26.6396)]"
   ]
  },
  {
   "cell_type": "code",
   "execution_count": null,
   "id": "86f6c414",
   "metadata": {},
   "outputs": [],
   "source": [
    "len(filtered_df)"
   ]
  },
  {
   "cell_type": "code",
   "execution_count": null,
   "id": "d8691d06",
   "metadata": {},
   "outputs": [],
   "source": [
    "#Distribution of Total_fruits_daily\n",
    "sns.histplot(x=filtered_df['Total_vegetables_daily'])"
   ]
  },
  {
   "cell_type": "code",
   "execution_count": null,
   "id": "3b636040",
   "metadata": {},
   "outputs": [],
   "source": [
    "#Distribution of Total_vegetables_daily\n",
    "sns.histplot(x=filtered_df['Total_fruits_daily'])"
   ]
  },
  {
   "cell_type": "code",
   "execution_count": null,
   "id": "900a5768",
   "metadata": {},
   "outputs": [],
   "source": [
    "#create a BOX PLOT FOR _RFHLTH Vs Total fruits \n",
    "plt.figure(figsize=(5,5))\n",
    "sns.set_style('darkgrid')\n",
    "sns.boxplot(data=filtered_df, x='Total_fruits_daily', y='_RFHLTH')"
   ]
  },
  {
   "cell_type": "code",
   "execution_count": null,
   "id": "15d979b7",
   "metadata": {},
   "outputs": [],
   "source": [
    "#CREATE A SCATTERPLOT FOR PHYSHLTH(Number of days of poor physical health) Vs Total fruits consued daily\n",
    "plt.figure(figsize=(5,5))\n",
    "sns.set_style('darkgrid')\n",
    "sns.boxplot(data=filtered_df, y='Total_fruits_daily', x='_PHYS14D')"
   ]
  },
  {
   "cell_type": "code",
   "execution_count": null,
   "id": "ec21e006",
   "metadata": {},
   "outputs": [],
   "source": []
  },
  {
   "cell_type": "code",
   "execution_count": null,
   "id": "dba07ec5",
   "metadata": {},
   "outputs": [],
   "source": [
    "#create a BOX PLOT FOR _RFHLTH Vs Total_vegetables_daily\n",
    "plt.figure(figsize=(5,5))\n",
    "sns.set_style('darkgrid')\n",
    "sns.boxplot(data=filtered_df, x='Total_vegetables_daily', y='_RFHLTH')"
   ]
  },
  {
   "cell_type": "code",
   "execution_count": null,
   "id": "aaff012f",
   "metadata": {},
   "outputs": [],
   "source": [
    "#Lets create a pivot table showing the mean fruits and vegetables consumed per day for each _RFHLTH group \n",
    "\n",
    "pivot_result = pd.pivot_table(filtered_df, values=['Total_fruits_daily','Total_vegetables_daily'],index='_RFHLTH', aggfunc='mean')\n",
    "\n",
    "#Only looking at those who reported Good health vs those that reported poor/bad health\n",
    "pivot_result[0:2]"
   ]
  },
  {
   "cell_type": "markdown",
   "id": "db1d9621",
   "metadata": {},
   "source": [
    "- This analysis shows that those who reported good or better health had a higher mean daily intake of fruits and vegetables. Not a significant difference."
   ]
  },
  {
   "cell_type": "markdown",
   "id": "b4982682",
   "metadata": {},
   "source": [
    "### Apply association rules between eating fruits and vegetables and good percieved health"
   ]
  },
  {
   "cell_type": "code",
   "execution_count": null,
   "id": "94026225",
   "metadata": {},
   "outputs": [],
   "source": [
    "#!pip install mlxtend"
   ]
  },
  {
   "cell_type": "code",
   "execution_count": null,
   "id": "c00d1779",
   "metadata": {},
   "outputs": [],
   "source": [
    "from mlxtend.frequent_patterns import apriori\n",
    "from mlxtend.frequent_patterns import association_rules\n",
    "\n",
    "# Assuming you already have a DataFrame called filtered_df with 'Total_fruits_daily', 'Total_vegetables_daily' and '_RFHLTH' columns\n",
    "\n",
    "# Binning Total_fruits_daily\n",
    "fruit_bins = [0, 2, 4, 10]  # Adjust bins as per your data distribution for fruits\n",
    "fruit_labels = ['Low_Fruit', 'Medium_Fruit', 'High_Fruit']\n",
    "filtered_df['Fruit_Intake_Binned'] = pd.cut(filtered_df['Total_fruits_daily'], bins=fruit_bins, labels=fruit_labels, include_lowest=True)\n",
    "\n",
    "# Binning Total_vegetables_daily\n",
    "veg_bins = [0, 8, 16, 26]  # Adjust bins as per your data distribution for vegetables\n",
    "veg_labels = ['Low_Veg', 'Medium_Veg', 'High_Veg']\n",
    "filtered_df['Veg_Intake_Binned'] = pd.cut(filtered_df['Total_vegetables_daily'], bins=veg_bins, labels=veg_labels, include_lowest=True)\n",
    "\n",
    "# Convert to the binary format\n",
    "filtered_df_binary = pd.get_dummies(filtered_df[['Fruit_Intake_Binned', 'Veg_Intake_Binned', '_RFHLTH']])\n",
    "\n",
    "# Apply Apriori to find frequent itemsets\n",
    "frequent_itemsets = apriori(filtered_df_binary, min_support=0.1, use_colnames=True)\n",
    "\n",
    "# Generate Association Rules\n",
    "rules = association_rules(frequent_itemsets, metric=\"lift\", min_threshold=1.0)\n",
    "print(rules[['antecedents', 'consequents', 'support', 'confidence', 'lift']])"
   ]
  },
  {
   "cell_type": "markdown",
   "id": "35000cb3",
   "metadata": {},
   "source": [
    "What is the role of access to healthcare,marriage status, Education and income in predicting health outcomes?"
   ]
  },
  {
   "cell_type": "code",
   "execution_count": null,
   "id": "a920e70b",
   "metadata": {},
   "outputs": [],
   "source": [
    "#Get the columns related to access to healthcare,"
   ]
  },
  {
   "cell_type": "code",
   "execution_count": null,
   "id": "47618268",
   "metadata": {},
   "outputs": [],
   "source": [
    "#make a dataframe by combining acess to healthcare columns with health status, health days columns  "
   ]
  },
  {
   "cell_type": "code",
   "execution_count": null,
   "id": "99acd981",
   "metadata": {},
   "outputs": [],
   "source": [
    "#Do some EDA analysis and correlation analysis to see if there are relationships btw acess to healthcare and percieved\n",
    "#health"
   ]
  },
  {
   "cell_type": "code",
   "execution_count": null,
   "id": "0c60a580",
   "metadata": {},
   "outputs": [],
   "source": [
    "#Apply association rules between acess to healthcare and good percieved health"
   ]
  },
  {
   "cell_type": "code",
   "execution_count": null,
   "id": "95e5023a",
   "metadata": {},
   "outputs": [],
   "source": []
  },
  {
   "cell_type": "markdown",
   "id": "b668b56d",
   "metadata": {},
   "source": [
    "Can lifestyle factors, including smoking and alcohol consumption, \n",
    "predict health risks and outcomes?"
   ]
  },
  {
   "cell_type": "code",
   "execution_count": null,
   "id": "c5334974",
   "metadata": {},
   "outputs": [],
   "source": [
    "#Get the columns related to alcohol consumption and smoking"
   ]
  },
  {
   "cell_type": "code",
   "execution_count": null,
   "id": "c6aac1b6",
   "metadata": {},
   "outputs": [],
   "source": [
    "#Get the columns related to exercise"
   ]
  },
  {
   "cell_type": "code",
   "execution_count": null,
   "id": "0e507cf8",
   "metadata": {},
   "outputs": [],
   "source": []
  },
  {
   "cell_type": "code",
   "execution_count": null,
   "id": "e2f592a4",
   "metadata": {},
   "outputs": [],
   "source": []
  },
  {
   "cell_type": "code",
   "execution_count": null,
   "id": "d42640b0",
   "metadata": {},
   "outputs": [],
   "source": []
  },
  {
   "cell_type": "code",
   "execution_count": null,
   "id": "436026df",
   "metadata": {},
   "outputs": [],
   "source": []
  },
  {
   "cell_type": "markdown",
   "id": "71b91a28",
   "metadata": {},
   "source": [
    "How predictable are chronic diseases, such as diabetes and hypertension, through a combined analysis of \n",
    "lifestyle factors and genetic predisposition?"
   ]
  },
  {
   "cell_type": "code",
   "execution_count": null,
   "id": "d654605b",
   "metadata": {},
   "outputs": [],
   "source": []
  },
  {
   "cell_type": "code",
   "execution_count": null,
   "id": "91132c27",
   "metadata": {},
   "outputs": [],
   "source": []
  },
  {
   "cell_type": "code",
   "execution_count": null,
   "id": "86b5f480",
   "metadata": {},
   "outputs": [],
   "source": []
  },
  {
   "cell_type": "code",
   "execution_count": null,
   "id": "b7b51761",
   "metadata": {},
   "outputs": [],
   "source": []
  },
  {
   "cell_type": "code",
   "execution_count": null,
   "id": "d67b5c09",
   "metadata": {},
   "outputs": [],
   "source": []
  },
  {
   "cell_type": "markdown",
   "id": "f494da9a",
   "metadata": {},
   "source": [
    "What is the significant contribution of mental health factors, such as stress, anxiety, \n",
    "and depression, to health outcomes, and what pathways influence overall well-being?"
   ]
  },
  {
   "cell_type": "code",
   "execution_count": null,
   "id": "ca6156d9",
   "metadata": {},
   "outputs": [],
   "source": []
  },
  {
   "cell_type": "code",
   "execution_count": null,
   "id": "75d6872c",
   "metadata": {},
   "outputs": [],
   "source": []
  },
  {
   "cell_type": "code",
   "execution_count": null,
   "id": "9052a8d2",
   "metadata": {},
   "outputs": [],
   "source": []
  },
  {
   "cell_type": "code",
   "execution_count": null,
   "id": "19bf4cff",
   "metadata": {},
   "outputs": [],
   "source": []
  },
  {
   "cell_type": "code",
   "execution_count": null,
   "id": "5601989a",
   "metadata": {
    "scrolled": false
   },
   "outputs": [],
   "source": []
  },
  {
   "cell_type": "code",
   "execution_count": null,
   "id": "f6ca1806",
   "metadata": {},
   "outputs": [],
   "source": []
  },
  {
   "cell_type": "code",
   "execution_count": null,
   "id": "015b6adb",
   "metadata": {},
   "outputs": [],
   "source": []
  },
  {
   "cell_type": "code",
   "execution_count": null,
   "id": "da15e3f8",
   "metadata": {},
   "outputs": [],
   "source": []
  },
  {
   "cell_type": "code",
   "execution_count": null,
   "id": "ebb1501e",
   "metadata": {},
   "outputs": [],
   "source": []
  },
  {
   "cell_type": "code",
   "execution_count": null,
   "id": "974ad6d4",
   "metadata": {},
   "outputs": [],
   "source": []
  },
  {
   "cell_type": "code",
   "execution_count": null,
   "id": "8adb5adc",
   "metadata": {},
   "outputs": [],
   "source": []
  }
 ],
 "metadata": {
  "kernelspec": {
   "display_name": "Python 3 (ipykernel)",
   "language": "python",
   "name": "python3"
  },
  "language_info": {
   "codemirror_mode": {
    "name": "ipython",
    "version": 3
   },
   "file_extension": ".py",
   "mimetype": "text/x-python",
   "name": "python",
   "nbconvert_exporter": "python",
   "pygments_lexer": "ipython3",
   "version": "3.11.3"
  }
 },
 "nbformat": 4,
 "nbformat_minor": 5
}

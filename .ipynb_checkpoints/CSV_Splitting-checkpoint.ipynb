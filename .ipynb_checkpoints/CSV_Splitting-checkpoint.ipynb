{
 "cells": [
  {
   "cell_type": "markdown",
   "id": "274e4304",
   "metadata": {},
   "source": [
    "#### PYTHON SCRIPT FOR SPLITING MY DATA RANDOMNLY INTO SEVEN CSV'S FIVE FOR TRAIN-TEST AND TWO FOR EVALUATION"
   ]
  },
  {
   "cell_type": "code",
   "execution_count": 1,
   "id": "d4f21fcd",
   "metadata": {},
   "outputs": [
    {
     "name": "stderr",
     "output_type": "stream",
     "text": [
      "/Users/obinnadinneya/anaconda3/lib/python3.11/site-packages/pandas/io/sas/sas_xport.py:475: PerformanceWarning: DataFrame is highly fragmented.  This is usually the result of calling `frame.insert` many times, which has poor performance.  Consider joining all columns at once using pd.concat(axis=1) instead.  To get a de-fragmented frame, use `newframe = frame.copy()`\n",
      "  df[x] = v\n"
     ]
    }
   ],
   "source": [
    "import pandas as pd\n",
    "import numpy as np\n",
    "\n",
    "# Load the CSV file into a DataFrame\n",
    "df = pd.read_sas('/Users/obinnadinneya/Desktop/MY_BIGDATA_PROJECT/mydata/MMSA2021.csv')\n",
    "\n",
    "# Set a seed for reproducibility\n",
    "seed = 42\n",
    "\n",
    "# Shuffle the rows of the DataFrame using the seed\n",
    "df = df.sample(frac=1, random_state=seed).reset_index(drop=True)\n",
    "\n",
    "# Calculate the split indices\n",
    "split_index = int(2/3 * len(df))\n",
    "\n",
    "# Split the DataFrame into train (2/3) and validation (1/3)\n",
    "train_df = df[:split_index]\n",
    "validation_df = df[split_index:]\n",
    "\n",
    "# Save the train and validation DataFrames to separate CSV files\n",
    "train_df.to_csv('mydata/MMSA2021_train.csv', index=False)\n",
    "validation_df.to_csv('mydata/MMSA2021_validation.csv', index=False)"
   ]
  },
  {
   "cell_type": "code",
   "execution_count": null,
   "id": "1a68ec76",
   "metadata": {},
   "outputs": [],
   "source": []
  }
 ],
 "metadata": {
  "kernelspec": {
   "display_name": "Python 3 (ipykernel)",
   "language": "python",
   "name": "python3"
  },
  "language_info": {
   "codemirror_mode": {
    "name": "ipython",
    "version": 3
   },
   "file_extension": ".py",
   "mimetype": "text/x-python",
   "name": "python",
   "nbconvert_exporter": "python",
   "pygments_lexer": "ipython3",
   "version": "3.11.3"
  }
 },
 "nbformat": 4,
 "nbformat_minor": 5
}

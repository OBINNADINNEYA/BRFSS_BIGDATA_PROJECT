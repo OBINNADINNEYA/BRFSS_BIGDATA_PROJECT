{
 "cells": [
  {
   "cell_type": "code",
   "execution_count": 1,
   "id": "35d465c9",
   "metadata": {},
   "outputs": [],
   "source": [
    "import warnings\n",
    "warnings.filterwarnings(\"ignore\")"
   ]
  },
  {
   "cell_type": "code",
   "execution_count": 2,
   "id": "bac36da0",
   "metadata": {},
   "outputs": [],
   "source": [
    "import pandas as pd \n",
    "import seaborn as sns \n",
    "import statistics\n",
    "import numpy as np\n",
    "import matplotlib.pyplot as plt"
   ]
  },
  {
   "cell_type": "code",
   "execution_count": 3,
   "id": "c26078cc",
   "metadata": {},
   "outputs": [],
   "source": [
    "from ydata_profiling import ProfileReport"
   ]
  },
  {
   "cell_type": "code",
   "execution_count": 4,
   "id": "bfb39a56",
   "metadata": {},
   "outputs": [],
   "source": [
    "%matplotlib inline"
   ]
  },
  {
   "cell_type": "code",
   "execution_count": 5,
   "id": "9d738c06",
   "metadata": {},
   "outputs": [],
   "source": [
    "modeldf2019 = pd.read_csv('mydata/MMSA2019.csv',encoding='latin-1',index_col=[0])\n",
    "modeldf2021 = pd.read_csv('mydata/MMSA2021.csv',encoding='latin-1',index_col=[0])"
   ]
  },
  {
   "cell_type": "code",
   "execution_count": 6,
   "id": "bca4d8f6",
   "metadata": {},
   "outputs": [],
   "source": [
    "#pd.set_option('display.max_columns', None)"
   ]
  },
  {
   "cell_type": "code",
   "execution_count": 7,
   "id": "31e66f7f",
   "metadata": {},
   "outputs": [],
   "source": [
    "pd.set_option('display.max_info_columns', 1000)\n",
    "pd.set_option('display.max_info_rows', 1000000)"
   ]
  },
  {
   "cell_type": "code",
   "execution_count": 8,
   "id": "fa194659",
   "metadata": {
    "scrolled": true
   },
   "outputs": [
    {
     "name": "stdout",
     "output_type": "stream",
     "text": [
      "<class 'pandas.core.frame.DataFrame'>\n",
      "Int64Index: 210771 entries, 1 to 210771\n",
      "Data columns (total 179 columns):\n",
      " #    Column    Non-Null Count   Dtype  \n",
      "---   ------    --------------   -----  \n",
      " 0    DISPCODE  210771 non-null  int64  \n",
      " 1    STATERE1  71738 non-null   float64\n",
      " 2    CELPHONE  71738 non-null   float64\n",
      " 3    LADULT1   71738 non-null   float64\n",
      " 4    COLGSEX   21 non-null      float64\n",
      " 5    LANDSEX   30365 non-null   float64\n",
      " 6    RESPSLCT  36285 non-null   float64\n",
      " 7    SAFETIME  139033 non-null  float64\n",
      " 8    CADULT1   139033 non-null  float64\n",
      " 9    CELLSEX   139026 non-null  float64\n",
      " 10   HHADULT   139028 non-null  float64\n",
      " 11   SEXVAR    210771 non-null  int64  \n",
      " 12   GENHLTH   210753 non-null  float64\n",
      " 13   PHYSHLTH  210750 non-null  float64\n",
      " 14   MENTHLTH  210761 non-null  float64\n",
      " 15   POORHLTH  116171 non-null  float64\n",
      " 16   HLTHPLN1  210764 non-null  float64\n",
      " 17   PERSDOC2  210765 non-null  float64\n",
      " 18   MEDCOST   210765 non-null  float64\n",
      " 19   CHECKUP1  210763 non-null  float64\n",
      " 20   BPHIGH4   210767 non-null  float64\n",
      " 21   BPMEDS    81278 non-null   float64\n",
      " 22   CHOLCHK2  210756 non-null  float64\n",
      " 23   TOLDHI2   199248 non-null  float64\n",
      " 24   CHOLMED2  71318 non-null   float64\n",
      " 25   CVDINFR4  210763 non-null  float64\n",
      " 26   CVDCRHD4  210764 non-null  float64\n",
      " 27   CVDSTRK3  210762 non-null  float64\n",
      " 28   ASTHMA3   210764 non-null  float64\n",
      " 29   ASTHNOW   30079 non-null   float64\n",
      " 30   CHCSCNCR  210764 non-null  float64\n",
      " 31   CHCOCNCR  210763 non-null  float64\n",
      " 32   CHCCOPD2  210764 non-null  float64\n",
      " 33   ADDEPEV3  210763 non-null  float64\n",
      " 34   CHCKDNY2  210763 non-null  float64\n",
      " 35   DIABETE4  210764 non-null  float64\n",
      " 36   DIABAGE3  27005 non-null   float64\n",
      " 37   HAVARTH4  210763 non-null  float64\n",
      " 38   ARTHEXER  65862 non-null   float64\n",
      " 39   ARTHEDU   65861 non-null   float64\n",
      " 40   LMTJOIN3  65860 non-null   float64\n",
      " 41   ARTHDIS2  65858 non-null   float64\n",
      " 42   JOINPAI2  65861 non-null   float64\n",
      " 43   MARITAL   210738 non-null  float64\n",
      " 44   EDUCA     210751 non-null  float64\n",
      " 45   RENTHOM1  210752 non-null  float64\n",
      " 46   NUMHHOL3  71164 non-null   float64\n",
      " 47   NUMPHON3  18087 non-null   float64\n",
      " 48   CPDEMO1B  210050 non-null  float64\n",
      " 49   VETERAN3  210048 non-null  float64\n",
      " 50   EMPLOY1   209237 non-null  float64\n",
      " 51   CHILDREN  208217 non-null  float64\n",
      " 52   INCOME2   207109 non-null  float64\n",
      " 53   WEIGHT2   206101 non-null  float64\n",
      " 54   HEIGHT3   205664 non-null  float64\n",
      " 55   PREGNANT  39341 non-null   float64\n",
      " 56   DEAF      204806 non-null  float64\n",
      " 57   BLIND     204389 non-null  float64\n",
      " 58   DECIDE    203929 non-null  float64\n",
      " 59   DIFFWALK  203483 non-null  float64\n",
      " 60   DIFFDRES  203174 non-null  float64\n",
      " 61   DIFFALON  202764 non-null  float64\n",
      " 62   SMOKE100  202219 non-null  float64\n",
      " 63   SMOKDAY2  80400 non-null   float64\n",
      " 64   STOPSMK2  25363 non-null   float64\n",
      " 65   LASTSMK2  54821 non-null   float64\n",
      " 66   USENOW3   201827 non-null  float64\n",
      " 67   ALCDAY5   200943 non-null  float64\n",
      " 68   AVEDRNK3  105524 non-null  float64\n",
      " 69   DRNK3GE5  105156 non-null  float64\n",
      " 70   MAXDRNKS  105041 non-null  float64\n",
      " 71   EXERANY2  199577 non-null  float64\n",
      " 72   EXRACT11  148337 non-null  float64\n",
      " 73   EXEROFT1  146365 non-null  float64\n",
      " 74   EXERHMM1  146023 non-null  float64\n",
      " 75   EXRACT21  146141 non-null  float64\n",
      " 76   EXEROFT2  95731 non-null   float64\n",
      " 77   EXERHMM2  95548 non-null   float64\n",
      " 78   STRENGTH  196295 non-null  float64\n",
      " 79   FRUIT2    194221 non-null  float64\n",
      " 80   FRUITJU2  193763 non-null  float64\n",
      " 81   FVGREEN1  193179 non-null  float64\n",
      " 82   FRENCHF1  192939 non-null  float64\n",
      " 83   POTATOE1  192422 non-null  float64\n",
      " 84   VEGETAB2  191454 non-null  float64\n",
      " 85   FLUSHOT7  191457 non-null  float64\n",
      " 86   FLSHTMY3  97045 non-null   float64\n",
      " 87   TETANUS1  185254 non-null  float64\n",
      " 88   PNEUVAC4  190850 non-null  float64\n",
      " 89   HIVTST7   189470 non-null  float64\n",
      " 90   HIVTSTD3  68376 non-null   float64\n",
      " 91   HIVRISK5  188826 non-null  float64\n",
      " 92   _STSTR    210771 non-null  int64  \n",
      " 93   _IMPSEX   210771 non-null  int64  \n",
      " 94   CAGEG     25097 non-null   float64\n",
      " 95   _RFHLTH   210771 non-null  int64  \n",
      " 96   _PHYS14D  210771 non-null  int64  \n",
      " 97   _MENT14D  210771 non-null  int64  \n",
      " 98   _HCVU651  210771 non-null  int64  \n",
      " 99   _RFHYPE5  210771 non-null  int64  \n",
      " 100  _CHOLCH2  210771 non-null  int64  \n",
      " 101  _RFCHOL2  186935 non-null  float64\n",
      " 102  _MICHD    208796 non-null  float64\n",
      " 103  _LTASTH1  210771 non-null  int64  \n",
      " 104  _CASTHM1  210771 non-null  int64  \n",
      " 105  _ASTHMS1  210771 non-null  int64  \n",
      " 106  _DRDXAR2  209497 non-null  float64\n",
      " 107  _LMTACT2  209497 non-null  float64\n",
      " 108  _LMTWRK2  209497 non-null  float64\n",
      " 109  _PRACE1   210753 non-null  float64\n",
      " 110  _MRACE1   210753 non-null  float64\n",
      " 111  _HISPANC  210771 non-null  int64  \n",
      " 112  _RACE     210769 non-null  float64\n",
      " 113  _RACEG21  210769 non-null  float64\n",
      " 114  _RACEGR3  210769 non-null  float64\n",
      " 115  _SEX      210771 non-null  int64  \n",
      " 116  _AGEG5YR  210771 non-null  int64  \n",
      " 117  _AGE65YR  210771 non-null  int64  \n",
      " 118  _AGE80    210771 non-null  int64  \n",
      " 119  _AGE_G    210771 non-null  int64  \n",
      " 120  WTKG3     194942 non-null  float64\n",
      " 121  _BMI5     191325 non-null  float64\n",
      " 122  _BMI5CAT  191325 non-null  float64\n",
      " 123  _RFBMI5   210771 non-null  int64  \n",
      " 124  _EDUCAG   210771 non-null  int64  \n",
      " 125  _INCOMG   210771 non-null  int64  \n",
      " 126  _SMOKER3  210771 non-null  int64  \n",
      " 127  _RFSMOK3  210771 non-null  int64  \n",
      " 128  DRNKANY5  210771 non-null  int64  \n",
      " 129  _RFBING5  210771 non-null  int64  \n",
      " 130  _DRNKWK1  210771 non-null  int64  \n",
      " 131  _RFDRHV7  210771 non-null  int64  \n",
      " 132  _TOTINDA  210771 non-null  int64  \n",
      " 133  MAXVO21_  210771 non-null  int64  \n",
      " 134  FC601_    210771 non-null  int64  \n",
      " 135  ACTIN12_  145198 non-null  float64\n",
      " 136  ACTIN22_  141403 non-null  float64\n",
      " 137  _MINAC11  141064 non-null  float64\n",
      " 138  _MINAC21  139789 non-null  float64\n",
      " 139  PAMISS2_  210771 non-null  int64  \n",
      " 140  PAMIN12_  138927 non-null  float64\n",
      " 141  PAMIN22_  137682 non-null  float64\n",
      " 142  PA2MIN_   143178 non-null  float64\n",
      " 143  PAVIG12_  142630 non-null  float64\n",
      " 144  PAVIG22_  139485 non-null  float64\n",
      " 145  PA2VIGM_  144446 non-null  float64\n",
      " 146  _PACAT2   210771 non-null  int64  \n",
      " 147  _PAINDX2  210771 non-null  int64  \n",
      " 148  _PA150R3  210771 non-null  int64  \n",
      " 149  _PA300R3  210771 non-null  int64  \n",
      " 150  _PA30022  210771 non-null  int64  \n",
      " 151  _PASTRNG  210771 non-null  int64  \n",
      " 152  _PAREC2   210771 non-null  int64  \n",
      " 153  _PASTAE2  210771 non-null  int64  \n",
      " 154  FTJUDA2_  190541 non-null  float64\n",
      " 155  FRUTDA2_  190466 non-null  float64\n",
      " 156  GRENDA1_  190418 non-null  float64\n",
      " 157  FRNCHDA_  190371 non-null  float64\n",
      " 158  POTADA1_  188706 non-null  float64\n",
      " 159  VEGEDA2_  187997 non-null  float64\n",
      " 160  _MISFRT1  210771 non-null  int64  \n",
      " 161  _MISVEG1  210771 non-null  int64  \n",
      " 162  _FRTRES1  210771 non-null  int64  \n",
      " 163  _VEGRES1  210771 non-null  int64  \n",
      " 164  _FRUTSU1  187652 non-null  float64\n",
      " 165  _VEGESU1  183250 non-null  float64\n",
      " 166  _FRTLT1A  210771 non-null  int64  \n",
      " 167  _VEGLT1A  210771 non-null  int64  \n",
      " 168  _FRT16A   210771 non-null  int64  \n",
      " 169  _VEG23A   210771 non-null  int64  \n",
      " 170  _FRUITE1  210771 non-null  int64  \n",
      " 171  _VEGETE1  210771 non-null  int64  \n",
      " 172  _FLSHOT7  76127 non-null   float64\n",
      " 173  _PNEUMO3  76127 non-null   float64\n",
      " 174  _AIDTST4  189470 non-null  float64\n",
      " 175  _MMSA     210771 non-null  int64  \n",
      " 176  _MMSAWT   210771 non-null  float64\n",
      " 177  SEQNO     210771 non-null  int64  \n",
      " 178  MMSANAME  210771 non-null  object \n",
      "dtypes: float64(126), int64(52), object(1)\n",
      "memory usage: 289.4+ MB\n",
      "\n"
     ]
    }
   ],
   "source": [
    "import io\n",
    "buffer = io.StringIO()\n",
    "modeldf2019.info(buf=buffer)\n",
    "info_str = buffer.getvalue()\n",
    "print(info_str)"
   ]
  },
  {
   "cell_type": "code",
   "execution_count": 9,
   "id": "d8100374",
   "metadata": {
    "scrolled": true
   },
   "outputs": [
    {
     "name": "stdout",
     "output_type": "stream",
     "text": [
      "<class 'pandas.core.frame.DataFrame'>\n",
      "Int64Index: 227792 entries, 1 to 227792\n",
      "Data columns (total 152 columns):\n",
      " #    Column    Non-Null Count   Dtype  \n",
      "---   ------    --------------   -----  \n",
      " 0    DISPCODE  227792 non-null  int64  \n",
      " 1    STATERE1  55524 non-null   float64\n",
      " 2    CELPHON1  55524 non-null   float64\n",
      " 3    LADULT1   55524 non-null   float64\n",
      " 4    COLGSEX   18 non-null      float64\n",
      " 5    LANDSEX   23345 non-null   float64\n",
      " 6    RESPSLCT  30824 non-null   float64\n",
      " 7    SAFETIME  172268 non-null  float64\n",
      " 8    CADULT1   172268 non-null  float64\n",
      " 9    CELLSEX   172267 non-null  float64\n",
      " 10   HHADULT   172267 non-null  float64\n",
      " 11   SEXVAR    227792 non-null  int64  \n",
      " 12   GENHLTH   227790 non-null  float64\n",
      " 13   PHYSHLTH  227790 non-null  float64\n",
      " 14   MENTHLTH  227792 non-null  int64  \n",
      " 15   POORHLTH  122851 non-null  float64\n",
      " 16   PRIMINSR  227791 non-null  float64\n",
      " 17   PERSDOC3  227792 non-null  int64  \n",
      " 18   MEDCOST1  227791 non-null  float64\n",
      " 19   CHECKUP1  227792 non-null  int64  \n",
      " 20   EXERANY2  227792 non-null  int64  \n",
      " 21   BPHIGH6   227792 non-null  int64  \n",
      " 22   BPMEDS    84782 non-null   float64\n",
      " 23   CHOLCHK3  227792 non-null  int64  \n",
      " 24   TOLDHI3   197943 non-null  float64\n",
      " 25   CHOLMED3  197662 non-null  float64\n",
      " 26   CVDINFR4  227792 non-null  int64  \n",
      " 27   CVDCRHD4  227792 non-null  int64  \n",
      " 28   CVDSTRK3  227792 non-null  int64  \n",
      " 29   ASTHMA3   227792 non-null  int64  \n",
      " 30   ASTHNOW   32211 non-null   float64\n",
      " 31   CHCSCNCR  227792 non-null  int64  \n",
      " 32   CHCOCNCR  227792 non-null  int64  \n",
      " 33   CHCCOPD3  227792 non-null  int64  \n",
      " 34   ADDEPEV3  227792 non-null  int64  \n",
      " 35   CHCKDNY2  227792 non-null  int64  \n",
      " 36   DIABETE4  227792 non-null  int64  \n",
      " 37   DIABAGE3  27971 non-null   float64\n",
      " 38   HAVARTH5  227792 non-null  int64  \n",
      " 39   ARTHEXER  68979 non-null   float64\n",
      " 40   ARTHEDU   68979 non-null   float64\n",
      " 41   LMTJOIN3  68979 non-null   float64\n",
      " 42   ARTHDIS2  68979 non-null   float64\n",
      " 43   JOINPAI2  68979 non-null   float64\n",
      " 44   MARITAL   227791 non-null  float64\n",
      " 45   EDUCA     227792 non-null  int64  \n",
      " 46   RENTHOM1  227791 non-null  float64\n",
      " 47   NUMHHOL3  55523 non-null   float64\n",
      " 48   NUMPHON3  16085 non-null   float64\n",
      " 49   CPDEMO1B  227622 non-null  float64\n",
      " 50   VETERAN3  226843 non-null  float64\n",
      " 51   EMPLOY1   225745 non-null  float64\n",
      " 52   CHILDREN  224252 non-null  float64\n",
      " 53   INCOME3   222638 non-null  float64\n",
      " 54   PREGNANT  44909 non-null   float64\n",
      " 55   WEIGHT2   221045 non-null  float64\n",
      " 56   HEIGHT3   220384 non-null  float64\n",
      " 57   DEAF      219476 non-null  float64\n",
      " 58   BLIND     218819 non-null  float64\n",
      " 59   DECIDE    218245 non-null  float64\n",
      " 60   DIFFWALK  217591 non-null  float64\n",
      " 61   DIFFDRES  217146 non-null  float64\n",
      " 62   DIFFALON  216570 non-null  float64\n",
      " 63   SMOKE100  215791 non-null  float64\n",
      " 64   SMOKDAY2  82334 non-null   float64\n",
      " 65   USENOW3   215384 non-null  float64\n",
      " 66   ECIGNOW1  214779 non-null  float64\n",
      " 67   ALCDAY5   213924 non-null  float64\n",
      " 68   AVEDRNK3  114735 non-null  float64\n",
      " 69   DRNK3GE5  114367 non-null  float64\n",
      " 70   MAXDRNKS  114037 non-null  float64\n",
      " 71   FLUSHOT7  212143 non-null  float64\n",
      " 72   FLSHTMY3  112406 non-null  float64\n",
      " 73   IMFVPLA2  110265 non-null  float64\n",
      " 74   PNEUVAC4  211315 non-null  float64\n",
      " 75   HIVTST7   210700 non-null  float64\n",
      " 76   HIVTSTD3  72387 non-null   float64\n",
      " 77   FRUIT2    208483 non-null  float64\n",
      " 78   FRUITJU2  207601 non-null  float64\n",
      " 79   FVGREEN1  206942 non-null  float64\n",
      " 80   FRENCHF1  206339 non-null  float64\n",
      " 81   POTATOE1  205712 non-null  float64\n",
      " 82   VEGETAB2  205014 non-null  float64\n",
      " 83   _STSTR    227792 non-null  int64  \n",
      " 84   _IMPSEX   227792 non-null  int64  \n",
      " 85   CAGEG     26664 non-null   float64\n",
      " 86   _RFHLTH   227792 non-null  int64  \n",
      " 87   _PHYS14D  227792 non-null  int64  \n",
      " 88   _MENT14D  227792 non-null  int64  \n",
      " 89   _HLTHPLN  227792 non-null  int64  \n",
      " 90   _HCVU652  227792 non-null  int64  \n",
      " 91   _TOTINDA  227792 non-null  int64  \n",
      " 92   _RFHYPE6  227792 non-null  int64  \n",
      " 93   _CHOLCH3  227792 non-null  int64  \n",
      " 94   _RFCHOL3  197811 non-null  float64\n",
      " 95   _MICHD    225484 non-null  float64\n",
      " 96   _LTASTH1  227792 non-null  int64  \n",
      " 97   _CASTHM1  227792 non-null  int64  \n",
      " 98   _ASTHMS1  227792 non-null  int64  \n",
      " 99   _DRDXAR3  226312 non-null  float64\n",
      " 100  _LMTACT3  226312 non-null  float64\n",
      " 101  _LMTWRK3  226312 non-null  float64\n",
      " 102  _PRACE1   227792 non-null  int64  \n",
      " 103  _MRACE1   227792 non-null  int64  \n",
      " 104  _HISPANC  227792 non-null  int64  \n",
      " 105  _RACE     227792 non-null  int64  \n",
      " 106  _RACEG21  227792 non-null  int64  \n",
      " 107  _RACEGR3  227792 non-null  int64  \n",
      " 108  _RACEPRV  227792 non-null  int64  \n",
      " 109  _SEX      227792 non-null  int64  \n",
      " 110  _AGEG5YR  227792 non-null  int64  \n",
      " 111  _AGE65YR  227792 non-null  int64  \n",
      " 112  _AGE80    227792 non-null  int64  \n",
      " 113  _AGE_G    227792 non-null  int64  \n",
      " 114  WTKG3     205081 non-null  float64\n",
      " 115  _BMI5     201451 non-null  float64\n",
      " 116  _BMI5CAT  201451 non-null  float64\n",
      " 117  _RFBMI5   227792 non-null  int64  \n",
      " 118  _EDUCAG   227792 non-null  int64  \n",
      " 119  _INCOMG1  227792 non-null  int64  \n",
      " 120  _SMOKER3  227792 non-null  int64  \n",
      " 121  _RFSMOK3  227792 non-null  int64  \n",
      " 122  _CURECI1  227792 non-null  int64  \n",
      " 123  DRNKANY5  227792 non-null  int64  \n",
      " 124  _RFBING5  227792 non-null  int64  \n",
      " 125  _DRNKWK1  227792 non-null  int64  \n",
      " 126  _RFDRHV7  227792 non-null  int64  \n",
      " 127  _FLSHOT7  78268 non-null   float64\n",
      " 128  _PNEUMO3  78268 non-null   float64\n",
      " 129  _AIDTST4  210700 non-null  float64\n",
      " 130  FTJUDA2_  203138 non-null  float64\n",
      " 131  FRUTDA2_  203695 non-null  float64\n",
      " 132  GRENDA1_  203343 non-null  float64\n",
      " 133  FRNCHDA_  202906 non-null  float64\n",
      " 134  POTADA1_  201036 non-null  float64\n",
      " 135  VEGEDA2_  200975 non-null  float64\n",
      " 136  _MISFRT1  227792 non-null  int64  \n",
      " 137  _MISVEG1  227792 non-null  int64  \n",
      " 138  _FRTRES1  227792 non-null  int64  \n",
      " 139  _VEGRES1  227792 non-null  int64  \n",
      " 140  _FRUTSU1  199933 non-null  float64\n",
      " 141  _VEGESU1  195179 non-null  float64\n",
      " 142  _FRTLT1A  227792 non-null  int64  \n",
      " 143  _VEGLT1A  227792 non-null  int64  \n",
      " 144  _FRT16A   227792 non-null  int64  \n",
      " 145  _VEG23A   227792 non-null  int64  \n",
      " 146  _FRUITE1  227792 non-null  int64  \n",
      " 147  _VEGETE1  227792 non-null  int64  \n",
      " 148  _MMSA     227792 non-null  int64  \n",
      " 149  _MMSAWT   227792 non-null  float64\n",
      " 150  SEQNO     227792 non-null  int64  \n",
      " 151  MMSANAME  227792 non-null  object \n",
      "dtypes: float64(84), int64(67), object(1)\n",
      "memory usage: 265.9+ MB\n",
      "\n"
     ]
    }
   ],
   "source": [
    "buffer = io.StringIO()\n",
    "modeldf2021.info(buf=buffer)\n",
    "info_str = buffer.getvalue()\n",
    "print(info_str)"
   ]
  },
  {
   "cell_type": "markdown",
   "id": "65fadf75",
   "metadata": {},
   "source": [
    "### Converting 2019 BRFSS Dataframe Columns to appropriate datatype"
   ]
  },
  {
   "cell_type": "code",
   "execution_count": 10,
   "id": "9d3275a9",
   "metadata": {},
   "outputs": [],
   "source": [
    "#Any variable with value counts below 14 with be turned to a categorical nominal datatype:\n",
    "# Convert 'col1' from float to categorical\n",
    "for col in modeldf2019.columns:\n",
    "    if len(modeldf2019[col].value_counts()) < 15:\n",
    "        modeldf2019[col] = modeldf2019[col].astype('category')\n",
    "        \n",
    "for col in modeldf2021.columns:\n",
    "    if len(modeldf2021[col].value_counts()) < 15:\n",
    "        modeldf2021[col] = modeldf2021[col].astype('category')\n",
    "               "
   ]
  },
  {
   "cell_type": "code",
   "execution_count": 11,
   "id": "c1d88286",
   "metadata": {},
   "outputs": [],
   "source": [
    "##Extract state from MMSANAME\n",
    "def get_state(col):\n",
    "    return col.split(',')[1]\n",
    "\n",
    "modeldf2019['STATE'] = modeldf2019['MMSANAME'].apply(get_state)\n",
    "modeldf2021['STATE'] = modeldf2021['MMSANAME'].apply(get_state)"
   ]
  },
  {
   "cell_type": "code",
   "execution_count": 12,
   "id": "d18c56b8",
   "metadata": {},
   "outputs": [
    {
     "data": {
      "text/plain": [
       "42"
      ]
     },
     "execution_count": 12,
     "metadata": {},
     "output_type": "execute_result"
    }
   ],
   "source": [
    "columns = ['FRNCHDA_','POTADA1_', 'FRUTDA2_', 'FTJUDA2_', 'VEGEDA2_', 'GRENDA1_', \n",
    "                '_FRUTSU1', '_VEGESU1', '_HLTHPLN','PRIMINSR', '_RACE', 'MEDCOST1', 'MARITAL', '_EDUCAG', \n",
    "                'RENTHOM1', 'EMPLOY1', 'CHILDREN', '_INCOMG1', '_TOTINDA', 'CHCOCNCR', 'SMOKE100', \n",
    "                'SMOKDAY2', 'USENOW3','_SMOKER3', '_RFSMOK3','_RFBING5', 'DIABETE4','EXERANY2', \n",
    "                'CHCOCNCR', '_MICHD', '_RFHYPE6', '_RFCHOL3', 'ADDEPEV3', 'DECIDE','_AGE65YR', \n",
    "                'WTKG3', '_BMI5', '_BMI5CAT', '_SEX','STATE','SEQNO','_RFHLTH']\n",
    "len(columns)"
   ]
  },
  {
   "cell_type": "code",
   "execution_count": 13,
   "id": "f902a676",
   "metadata": {},
   "outputs": [],
   "source": [
    "#RENAME COLUMNS in 2019 dataset to match 2021:\n",
    "modeldf2019.rename(columns={'_INCOMG':'_INCOMG1','_RFHYPE5':'_RFHYPE6','HLTHPLN1': 'PRIMINSR','MEDCOST':'MEDCOST1',\n",
    "                  '_RFCHOL2':'_RFCHOL3'},inplace=True)"
   ]
  },
  {
   "cell_type": "code",
   "execution_count": 14,
   "id": "b102d6bd",
   "metadata": {},
   "outputs": [],
   "source": [
    "#Create a _HLTHPLN from PRIMINSR IN 2019 df (- '_HLTHPLN' - Categorical variable for healthcare plan )\n",
    "\n",
    "modeldf2019['_HLTHPLN'] = modeldf2019['PRIMINSR'].apply(lambda x: 1 if x in [1,2,3,4,5,6,7,8,9] \n",
    "                                                        else 2 if x == 88 else 'NA')\n",
    "\n",
    "modeldf2019['_TOTINDA'] = modeldf2019['_TOTINDA'].astype(float)\n",
    "\n",
    "#Create a DROCDY3_ from ALCDAY5 by dividing the ALCDAY5 variable by 7 days per week or 30 days per month\n",
    "def compute_drocdy3_(x):\n",
    "    # Handle NaN values\n",
    "    if pd.isna(x):\n",
    "        return np.nan\n",
    "    \n",
    "    x_int = int(str(x).split(\".\")[0])\n",
    "    \n",
    "    if x_int == 888:\n",
    "        return 0.0\n",
    "    elif x_int // 100 == 1:\n",
    "        return (x_int % 100) / 7.0\n",
    "    elif x_int // 100 == 2:\n",
    "        return (x_int % 100) / 30.0\n",
    "    elif x_int in [777, 999]:\n",
    "        return np.nan\n",
    "    else:\n",
    "        return float(x_int)\n",
    "\n",
    "modeldf2019['DROCDY3_'] = modeldf2019['ALCDAY5'].apply(compute_drocdy3_)\n",
    "modeldf2021['DROCDY3_'] = modeldf2021['ALCDAY5'].apply(compute_drocdy3_)"
   ]
  },
  {
   "cell_type": "code",
   "execution_count": 15,
   "id": "c33ba07e",
   "metadata": {
    "scrolled": true
   },
   "outputs": [],
   "source": [
    "# Get common columns\n",
    "common_columns = modeldf2019.columns.intersection(modeldf2021.columns)\n",
    "\n",
    "# 2021 index with common columns\n",
    "brfss_df = modeldf2021[common_columns]"
   ]
  },
  {
   "cell_type": "code",
   "execution_count": 16,
   "id": "b94c8bbc",
   "metadata": {},
   "outputs": [],
   "source": [
    "#Lets clean up 2021 and keep as our validation dataset"
   ]
  },
  {
   "cell_type": "code",
   "execution_count": 17,
   "id": "1deeed6f",
   "metadata": {},
   "outputs": [],
   "source": [
    "#Convert appropriate columns into categories\n",
    "# List of columns to convert\n",
    "columns_list = ['_AGE65YR', '_INCOMG1', '_TOTINDA', '_HLTHPLN', '_RFBING5', \n",
    "                'PRIMINSR', '_EDUCAG', '_SMOKER3','_RFSMOK3','_SEX', '_RFHYPE6','PHYSHLTH',\n",
    "                '_RFHLTH','MENTHLTH','_AGEG5YR','_ASTHMS1','_HISPANC','ALCDAY5',\n",
    "                \"CHECKUP1\",\"CVDSTRK3\",\"CHCSCNCR\",\"CHCOCNCR\",\"ADDEPEV3\",\"CHCKDNY2\", \"DIABETE4\",'_RACE']\n",
    "\n",
    "# Convert each column to category data type in place\n",
    "for col in columns_list:\n",
    "    brfss_df[col] = brfss_df[col].astype('category')\n",
    "\n",
    "#convert height to height in meters\n",
    "def calculate_htinm(height3):\n",
    "    if 300 <= height3 <= 311:\n",
    "        htinm = ((height3 - 300) + 36)*0.0254\n",
    "    elif 400 <= height3 <= 411:\n",
    "        htinm = ((height3 - 400) + 48)*0.0254\n",
    "    elif 500 <= height3 <= 511:\n",
    "        htinm = ((height3 - 500) + 60)*0.0254\n",
    "    elif 600 <= height3 <= 611:\n",
    "        htinm = ((height3 - 600) + 72)*0.0254\n",
    "    elif 700 <= height3 <= 711:\n",
    "        htinm = ((height3 - 700) + 84)*0.0254\n",
    "    else:\n",
    "        htinm = None  # Handle cases that don't match any condition\n",
    "    \n",
    "    return htinm\n",
    "\n",
    "brfss_df['HEIGHT3'] = brfss_df['HEIGHT3'].apply(calculate_htinm)\n"
   ]
  },
  {
   "cell_type": "code",
   "execution_count": 18,
   "id": "58028b03",
   "metadata": {
    "scrolled": true
   },
   "outputs": [
    {
     "name": "stdout",
     "output_type": "stream",
     "text": [
      "<class 'pandas.core.frame.DataFrame'>\n",
      "Int64Index: 227792 entries, 1 to 227792\n",
      "Data columns (total 136 columns):\n",
      " #    Column    Non-Null Count   Dtype   \n",
      "---   ------    --------------   -----   \n",
      " 0    DISPCODE  227792 non-null  category\n",
      " 1    STATERE1  55524 non-null   category\n",
      " 2    LADULT1   55524 non-null   category\n",
      " 3    COLGSEX   18 non-null      category\n",
      " 4    LANDSEX   23345 non-null   category\n",
      " 5    RESPSLCT  30824 non-null   category\n",
      " 6    SAFETIME  172268 non-null  category\n",
      " 7    CADULT1   172268 non-null  category\n",
      " 8    CELLSEX   172267 non-null  category\n",
      " 9    HHADULT   172267 non-null  float64 \n",
      " 10   SEXVAR    227792 non-null  category\n",
      " 11   GENHLTH   227790 non-null  category\n",
      " 12   PHYSHLTH  227790 non-null  category\n",
      " 13   MENTHLTH  227792 non-null  category\n",
      " 14   POORHLTH  122851 non-null  float64 \n",
      " 15   PRIMINSR  227791 non-null  category\n",
      " 16   MEDCOST1  227791 non-null  category\n",
      " 17   CHECKUP1  227792 non-null  category\n",
      " 18   BPMEDS    84782 non-null   category\n",
      " 19   CVDINFR4  227792 non-null  category\n",
      " 20   CVDCRHD4  227792 non-null  category\n",
      " 21   CVDSTRK3  227792 non-null  category\n",
      " 22   ASTHMA3   227792 non-null  category\n",
      " 23   ASTHNOW   32211 non-null   category\n",
      " 24   CHCSCNCR  227792 non-null  category\n",
      " 25   CHCOCNCR  227792 non-null  category\n",
      " 26   ADDEPEV3  227792 non-null  category\n",
      " 27   CHCKDNY2  227792 non-null  category\n",
      " 28   DIABETE4  227792 non-null  category\n",
      " 29   DIABAGE3  27971 non-null   float64 \n",
      " 30   ARTHEXER  68979 non-null   category\n",
      " 31   ARTHEDU   68979 non-null   category\n",
      " 32   LMTJOIN3  68979 non-null   category\n",
      " 33   ARTHDIS2  68979 non-null   category\n",
      " 34   JOINPAI2  68979 non-null   category\n",
      " 35   MARITAL   227791 non-null  category\n",
      " 36   EDUCA     227792 non-null  category\n",
      " 37   RENTHOM1  227791 non-null  category\n",
      " 38   NUMHHOL3  55523 non-null   category\n",
      " 39   NUMPHON3  16085 non-null   category\n",
      " 40   CPDEMO1B  227622 non-null  category\n",
      " 41   VETERAN3  226843 non-null  category\n",
      " 42   EMPLOY1   225745 non-null  category\n",
      " 43   CHILDREN  224252 non-null  float64 \n",
      " 44   WEIGHT2   221045 non-null  float64 \n",
      " 45   HEIGHT3   211904 non-null  float64 \n",
      " 46   PREGNANT  44909 non-null   category\n",
      " 47   DEAF      219476 non-null  category\n",
      " 48   BLIND     218819 non-null  category\n",
      " 49   DECIDE    218245 non-null  category\n",
      " 50   DIFFWALK  217591 non-null  category\n",
      " 51   DIFFDRES  217146 non-null  category\n",
      " 52   DIFFALON  216570 non-null  category\n",
      " 53   SMOKE100  215791 non-null  category\n",
      " 54   SMOKDAY2  82334 non-null   category\n",
      " 55   USENOW3   215384 non-null  category\n",
      " 56   ALCDAY5   213924 non-null  category\n",
      " 57   AVEDRNK3  114735 non-null  float64 \n",
      " 58   DRNK3GE5  114367 non-null  float64 \n",
      " 59   MAXDRNKS  114037 non-null  float64 \n",
      " 60   EXERANY2  227792 non-null  category\n",
      " 61   FRUIT2    208483 non-null  float64 \n",
      " 62   FRUITJU2  207601 non-null  float64 \n",
      " 63   FVGREEN1  206942 non-null  float64 \n",
      " 64   FRENCHF1  206339 non-null  float64 \n",
      " 65   POTATOE1  205712 non-null  float64 \n",
      " 66   VEGETAB2  205014 non-null  float64 \n",
      " 67   FLUSHOT7  212143 non-null  category\n",
      " 68   FLSHTMY3  112406 non-null  float64 \n",
      " 69   PNEUVAC4  211315 non-null  category\n",
      " 70   HIVTST7   210700 non-null  category\n",
      " 71   HIVTSTD3  72387 non-null   float64 \n",
      " 72   _STSTR    227792 non-null  int64   \n",
      " 73   _IMPSEX   227792 non-null  category\n",
      " 74   CAGEG     26664 non-null   category\n",
      " 75   _RFHLTH   227792 non-null  category\n",
      " 76   _PHYS14D  227792 non-null  category\n",
      " 77   _MENT14D  227792 non-null  category\n",
      " 78   _RFHYPE6  227792 non-null  category\n",
      " 79   _RFCHOL3  197811 non-null  category\n",
      " 80   _MICHD    225484 non-null  category\n",
      " 81   _LTASTH1  227792 non-null  category\n",
      " 82   _CASTHM1  227792 non-null  category\n",
      " 83   _ASTHMS1  227792 non-null  category\n",
      " 84   _PRACE1   227792 non-null  category\n",
      " 85   _MRACE1   227792 non-null  category\n",
      " 86   _HISPANC  227792 non-null  category\n",
      " 87   _RACE     227792 non-null  category\n",
      " 88   _RACEG21  227792 non-null  category\n",
      " 89   _RACEGR3  227792 non-null  category\n",
      " 90   _SEX      227792 non-null  category\n",
      " 91   _AGEG5YR  227792 non-null  category\n",
      " 92   _AGE65YR  227792 non-null  category\n",
      " 93   _AGE80    227792 non-null  int64   \n",
      " 94   _AGE_G    227792 non-null  category\n",
      " 95   WTKG3     205081 non-null  float64 \n",
      " 96   _BMI5     201451 non-null  float64 \n",
      " 97   _BMI5CAT  201451 non-null  category\n",
      " 98   _RFBMI5   227792 non-null  category\n",
      " 99   _EDUCAG   227792 non-null  category\n",
      " 100  _INCOMG1  227792 non-null  category\n",
      " 101  _SMOKER3  227792 non-null  category\n",
      " 102  _RFSMOK3  227792 non-null  category\n",
      " 103  DRNKANY5  227792 non-null  category\n",
      " 104  _RFBING5  227792 non-null  category\n",
      " 105  _DRNKWK1  227792 non-null  int64   \n",
      " 106  _RFDRHV7  227792 non-null  category\n",
      " 107  _TOTINDA  227792 non-null  category\n",
      " 108  FTJUDA2_  203138 non-null  float64 \n",
      " 109  FRUTDA2_  203695 non-null  float64 \n",
      " 110  GRENDA1_  203343 non-null  float64 \n",
      " 111  FRNCHDA_  202906 non-null  float64 \n",
      " 112  POTADA1_  201036 non-null  float64 \n",
      " 113  VEGEDA2_  200975 non-null  float64 \n",
      " 114  _MISFRT1  227792 non-null  category\n",
      " 115  _MISVEG1  227792 non-null  category\n",
      " 116  _FRTRES1  227792 non-null  category\n",
      " 117  _VEGRES1  227792 non-null  category\n",
      " 118  _FRUTSU1  199933 non-null  float64 \n",
      " 119  _VEGESU1  195179 non-null  float64 \n",
      " 120  _FRTLT1A  227792 non-null  category\n",
      " 121  _VEGLT1A  227792 non-null  category\n",
      " 122  _FRT16A   227792 non-null  category\n",
      " 123  _VEG23A   227792 non-null  category\n",
      " 124  _FRUITE1  227792 non-null  category\n",
      " 125  _VEGETE1  227792 non-null  category\n",
      " 126  _FLSHOT7  78268 non-null   category\n",
      " 127  _PNEUMO3  78268 non-null   category\n",
      " 128  _AIDTST4  210700 non-null  category\n",
      " 129  _MMSA     227792 non-null  int64   \n",
      " 130  _MMSAWT   227792 non-null  float64 \n",
      " 131  SEQNO     227792 non-null  int64   \n",
      " 132  MMSANAME  227792 non-null  object  \n",
      " 133  STATE     227792 non-null  object  \n",
      " 134  _HLTHPLN  227792 non-null  category\n",
      " 135  DROCDY3_  210761 non-null  float64 \n",
      "dtypes: category(100), float64(29), int64(5), object(2)\n",
      "memory usage: 86.0+ MB\n"
     ]
    }
   ],
   "source": [
    "brfss_df.info()"
   ]
  },
  {
   "cell_type": "code",
   "execution_count": 19,
   "id": "96213530",
   "metadata": {},
   "outputs": [],
   "source": [
    "#Lets make a copy of the merged dataframe\n",
    "processed_features_df = brfss_df.copy()\n",
    "\n",
    "#Place decimal place in fruit and vegetable columns (as it was implied)\n",
    "def convert_decimal(x):\n",
    "    if pd.isna(x):\n",
    "        return np.nan\n",
    "    else:\n",
    "        return x/100\n",
    "    \n",
    "cols = ['FRNCHDA_','POTADA1_', 'FRUTDA2_', 'FTJUDA2_', 'VEGEDA2_', 'GRENDA1_', \n",
    "                '_FRUTSU1', '_VEGESU1','WTKG3','_BMI5']\n",
    "\n",
    "#Convert features to appropriate values by placing the decimal place \n",
    "for col in cols:\n",
    "    processed_features_df[col] = processed_features_df[col].apply(convert_decimal)\n",
    "    \n",
    "#Convert STATE column to US state\n",
    "from States import states\n",
    "processed_features_df['STATE'] = processed_features_df['STATE'].apply(lambda x: states[(x[-2:])] \n",
    "                                                                      if (x[-2:]) in states else x)"
   ]
  },
  {
   "cell_type": "markdown",
   "id": "afa132dd",
   "metadata": {},
   "source": [
    "### Generate EDA Report with Original Dataset"
   ]
  },
  {
   "cell_type": "code",
   "execution_count": null,
   "id": "a385f8c5",
   "metadata": {
    "scrolled": true
   },
   "outputs": [
    {
     "data": {
      "application/vnd.jupyter.widget-view+json": {
       "model_id": "159a7622b9f7475e9481006270ce4c25",
       "version_major": 2,
       "version_minor": 0
      },
      "text/plain": [
       "Summarize dataset:   0%|          | 0/5 [00:00<?, ?it/s]"
      ]
     },
     "metadata": {},
     "output_type": "display_data"
    },
    {
     "data": {
      "application/vnd.jupyter.widget-view+json": {
       "model_id": "7b9b7b5838ff48c38fd80a9bd592feb0",
       "version_major": 2,
       "version_minor": 0
      },
      "text/plain": [
       "Generate report structure:   0%|          | 0/1 [00:00<?, ?it/s]"
      ]
     },
     "metadata": {},
     "output_type": "display_data"
    },
    {
     "data": {
      "application/vnd.jupyter.widget-view+json": {
       "model_id": "409aa2ff1d9445a1b2fc257ac443c415",
       "version_major": 2,
       "version_minor": 0
      },
      "text/plain": [
       "Render HTML:   0%|          | 0/1 [00:00<?, ?it/s]"
      ]
     },
     "metadata": {},
     "output_type": "display_data"
    }
   ],
   "source": [
    "profile = ProfileReport(modeldf2021)\n",
    "profile.to_file(output_file=\"mydata/EDA_Report_2021.html\")"
   ]
  },
  {
   "cell_type": "markdown",
   "id": "7cffaabf",
   "metadata": {},
   "source": [
    "### Handle Missing data"
   ]
  },
  {
   "cell_type": "code",
   "execution_count": null,
   "id": "57eb3804",
   "metadata": {},
   "outputs": [],
   "source": [
    "pd.reset_option('display.max_rows',None)"
   ]
  },
  {
   "cell_type": "code",
   "execution_count": null,
   "id": "927a5fa2",
   "metadata": {
    "scrolled": true
   },
   "outputs": [],
   "source": [
    "#check missing values in train dataset\n",
    "total = processed_features_df.isnull().sum().sort_values(ascending=False)\n",
    "percent = (processed_features_df.isnull().sum()/processed_features_df.isnull().count()).sort_values(ascending=False)\n",
    "missing_data = pd.concat([total, percent], axis=1, keys=['Total', 'Percent'])\n",
    "print(missing_data.to_string())"
   ]
  },
  {
   "cell_type": "code",
   "execution_count": null,
   "id": "ca3b4f54",
   "metadata": {
    "scrolled": true
   },
   "outputs": [],
   "source": [
    "#Drop columns with more that 45% missing values \n",
    "col_more45 = list(missing_data.index[missing_data['Percent'] > 0.45])\n",
    "col_more45\n",
    "processed_features_df.drop(columns=col_more45,inplace=True)\n",
    "\n",
    "#Drop columns that are of very low variance and have high unque vales and may be of no importance to ones health\n",
    "\n",
    "processed_features_df.drop(columns=['SAFETIME','CELLSEX','DISPCODE','_MMSA','_MMSAWT'],inplace=True)\n",
    "processed_features_df.info()"
   ]
  },
  {
   "cell_type": "markdown",
   "id": "7484e4b2",
   "metadata": {},
   "source": [
    "##### Vegetable and fruit columns calculated from other veg_fruit columns (So we will keep only these ones)\n",
    "     'FRNCHDA_'- french fry intake in time per day 2\n",
    "     'POTADA1_' - computed potatoe servings per day \n",
    "     'FRUTDA2_',- number of fruits consunmed per day \n",
    "     'FTJUDA2_'- computed fruit juice intake in times per day \n",
    "     'VEGEDA2_', - COMPUTED NUMBER OF OTHER VEGIES eaten per day - not lettuce or potatoe \n",
    "     'GRENDA1_'- Number of dark green vegetables per day Times per day  \n",
    "     'FRUTSU1', Number of Fruits consumed per day \n",
    "     'VEGESU1', Number of Vegetables consumed per day \n"
   ]
  },
  {
   "cell_type": "code",
   "execution_count": null,
   "id": "9a11c67a",
   "metadata": {},
   "outputs": [],
   "source": [
    "#Drop redundant Columns and irreleveant columns\n",
    "processed_features_df.drop(columns=['SEQNO','_AGE80','_AGE65YR','_AGE_G','SEXVAR',\n",
    "                                    'WEIGHT2','_CASTHM1','_LTASTH1','PRIMINSR','EXERANY2','CHILDREN','EDUCA',\n",
    "                                    'ASTHMA3','SMOKE100','CPDEMO1B','_STSTR','CVDINFR4','CVDCRHD4','_RACEG21'\n",
    "                                   ,'_RACEGR3','_PRACE1','_MRACE1','_IMPSEX','CADULT1','GENHLTH',\n",
    "                                    'HHADULT','_RFBMI5','VEGETAB2','POTATOE1','FRENCHF1',\n",
    "                                    'FVGREEN1','FRUITJU2','FRUIT2','HIVTST7'],inplace=True)"
   ]
  },
  {
   "cell_type": "code",
   "execution_count": null,
   "id": "c3162a9b",
   "metadata": {},
   "outputs": [],
   "source": [
    "#vizualize misisng values using a heatmap\n",
    "plt.figure(figsize=(20,10))\n",
    "sns.heatmap(processed_features_df.isnull(),yticklabels=False,cmap='viridis',cbar=False)"
   ]
  },
  {
   "cell_type": "code",
   "execution_count": null,
   "id": "48314920",
   "metadata": {},
   "outputs": [],
   "source": [
    "#Drop the rows where columns have less than 5% missing values \n",
    "#list of columns with less than 5% missing data \n",
    "\n",
    "#check missing values in train dataset\n",
    "total = processed_features_df.isnull().sum().sort_values(ascending=False)\n",
    "percent = (processed_features_df.isnull().sum()/processed_features_df.isnull().count()).sort_values(ascending=False)\n",
    "missing_data = pd.concat([total, percent], axis=1, keys=['Total', 'Percent'])\n",
    "\n",
    "col_less5miss = list(missing_data.index[missing_data['Percent'] < 0.05])\n",
    "processed_features_df.dropna(subset=col_less5miss,inplace=True)"
   ]
  },
  {
   "cell_type": "code",
   "execution_count": null,
   "id": "193bd45d",
   "metadata": {
    "scrolled": true
   },
   "outputs": [],
   "source": [
    "print(missing_data.to_string())"
   ]
  },
  {
   "cell_type": "code",
   "execution_count": null,
   "id": "d054a3ca",
   "metadata": {},
   "outputs": [],
   "source": [
    "#replace the missing values in height with the mean for males and mean for females as it is normally distributed \n",
    "\n",
    "# Calculate mean height values for men and women separately\n",
    "mean_height_men = processed_features_df[processed_features_df['_SEX'] == 1]['HEIGHT3'].mean()\n",
    "mean_height_women = processed_features_df[processed_features_df['_SEX'] == 2]['HEIGHT3'].mean()\n",
    "\n",
    "# Replace missing values with the corresponding mean height value\n",
    "processed_features_df.loc[(processed_features_df['_SEX'] == 1) & (processed_features_df['HEIGHT3'].isnull()), 'HEIGHT3'] = mean_height_men\n",
    "processed_features_df.loc[(processed_features_df['_SEX'] == 2) & (processed_features_df['HEIGHT3'].isnull()), 'HEIGHT3'] = mean_height_women"
   ]
  },
  {
   "cell_type": "code",
   "execution_count": null,
   "id": "c360dfc6",
   "metadata": {},
   "outputs": [],
   "source": [
    "#replace the missing values in weight with the mean for males and mean for females as it is normally distributed \n",
    "#'WTKG3' - Weight in KG\n",
    "\n",
    "# Calculate mean weight values for men and women separately\n",
    "mean_height_men = processed_features_df[processed_features_df['_SEX'] == 1]['WTKG3'].mean()\n",
    "mean_height_women = processed_features_df[processed_features_df['_SEX'] == 2]['WTKG3'].mean()\n",
    "\n",
    "# Replace missing values with the corresponding mean weight value\n",
    "processed_features_df.loc[(processed_features_df['_SEX'] == 1) & (processed_features_df['WTKG3'].isnull()), 'WTKG3'] = mean_height_men\n",
    "processed_features_df.loc[(processed_features_df['_SEX'] == 2) & (processed_features_df['WTKG3'].isnull()), 'WTKG3'] = mean_height_women"
   ]
  },
  {
   "cell_type": "code",
   "execution_count": null,
   "id": "eb50d773",
   "metadata": {},
   "outputs": [],
   "source": [
    "#Fill in the missing _BMI5 values with the calculated value from weight and height \n",
    "\n",
    "# Replace missing values with the Calculated BMI value\n",
    "processed_features_df['_BMI5'].fillna(processed_features_df['WTKG3'] / processed_features_df['HEIGHT3']**2, inplace=True)\n",
    "\n",
    "#fill in the missing _BMICAT5 categories with the alotted categories based on _BMI5\n",
    "def categorize_bmi(_BMI5):\n",
    "    if 0.00 <= _BMI5 < 18.50:\n",
    "        return 1\n",
    "    elif 18.50 <= _BMI5 < 25.00:\n",
    "        return 2\n",
    "    elif 25.00 <= _BMI5 < 30.00:\n",
    "        return 3\n",
    "    elif _BMI5 >= 30.00:\n",
    "        return 4\n",
    "    else:\n",
    "        return None  # Handle other possible cases (e.g. negative BMI or None)\n",
    "\n",
    "processed_features_df['_BMI5CAT']= processed_features_df['_BMI5'].apply(categorize_bmi)\n",
    "processed_features_df['_BMI5CAT'] = processed_features_df['_BMI5CAT'].astype('category')\n",
    "processed_features_df.drop(columns='_BMI5',inplace=True)"
   ]
  },
  {
   "cell_type": "code",
   "execution_count": null,
   "id": "8f2ef21e",
   "metadata": {},
   "outputs": [],
   "source": [
    "#Drop rows where these columns are null\n",
    "column_names = [\n",
    "    \"MENTHLTH\",\n",
    "    \"ADDEPEV3\",\n",
    "    \"CHECKUP1\",\n",
    "    \"CVDSTRK3\",\n",
    "    \"DIABETE4\",\n",
    "    \"_HLTHPLN\",\n",
    "    \"MEDCOST1\",\n",
    "    \"CHCSCNCR\",\n",
    "    \"CHCOCNCR\",\n",
    "    \"CHCKDNY2\",\n",
    "    \"_RACE\"\n",
    "]\n",
    "processed_features_df.dropna(subset=column_names,inplace=True)"
   ]
  },
  {
   "cell_type": "code",
   "execution_count": null,
   "id": "b29068d8",
   "metadata": {
    "scrolled": false
   },
   "outputs": [],
   "source": [
    "#check missing values in train dataset\n",
    "total = processed_features_df.isnull().sum().sort_values(ascending=False)\n",
    "percent = (processed_features_df.isnull().sum()/processed_features_df.isnull().count()).sort_values(ascending=False)\n",
    "missing_data = pd.concat([total, percent], axis=1, keys=['Total', 'Percent'])\n",
    "#print(missing_data.to_string())"
   ]
  },
  {
   "cell_type": "code",
   "execution_count": null,
   "id": "cb18a39f",
   "metadata": {
    "scrolled": true
   },
   "outputs": [],
   "source": [
    "#Replace missing fruit and vegetable column values with the median value for each race & Age category assuming that\n",
    "#different races and ages tend to have different diets\n",
    "fruit_veg_columns = [\n",
    "    '_VEGESU1',\n",
    "    '_FRUTSU1',\n",
    "    'VEGEDA2_',\n",
    "    'POTADA1_',\n",
    "    'FRNCHDA_',\n",
    "    'FTJUDA2_',\n",
    "    'GRENDA1_',\n",
    "    'FRUTDA2_']\n",
    "\n",
    "for col in fruit_veg_columns:\n",
    "    medians = processed_features_df.groupby(['_RACE', '_AGEG5YR'])[col].transform('median')\n",
    "    processed_features_df[col].fillna(medians, inplace=True)\n"
   ]
  },
  {
   "cell_type": "code",
   "execution_count": null,
   "id": "5a805ef0",
   "metadata": {},
   "outputs": [],
   "source": [
    "#The missing values in _RFCHOL3 are filled in a way that preserves the ratio of its subcategories. \n",
    "#This can be useful if you believe that the observed distribution is representative and want \n",
    "#the filled values to reflect that same distribution.\n",
    "\n",
    "# Find distribution of non-missing values\n",
    "value_counts = processed_features_df['_RFCHOL3'].value_counts(normalize=True)\n",
    "\n",
    "# Fill missing values by sampling based on this distribution\n",
    "missing_count = processed_features_df['_RFCHOL3'].isna().sum()\n",
    "if missing_count > 0:\n",
    "    imputed_values = np.random.choice(value_counts.index, \n",
    "                                      p=value_counts.values, \n",
    "                                      size=missing_count)\n",
    "    processed_features_df.loc[processed_features_df['_RFCHOL3'].isna(), '_RFCHOL3'] = imputed_values"
   ]
  },
  {
   "cell_type": "code",
   "execution_count": null,
   "id": "a9ffa0c2",
   "metadata": {},
   "outputs": [],
   "source": [
    "#Drop all rows with any NA values \n",
    "processed_features_df.dropna(inplace=True)\n",
    "#processed_features_df.info()"
   ]
  },
  {
   "cell_type": "code",
   "execution_count": null,
   "id": "c8d5117f",
   "metadata": {},
   "outputs": [],
   "source": [
    "#vizualize misisng values using a heatmap\n",
    "plt.figure(figsize=(20,10))\n",
    "sns.heatmap(processed_features_df.isnull(),yticklabels=False,cmap='viridis',cbar=False)"
   ]
  },
  {
   "cell_type": "code",
   "execution_count": null,
   "id": "f0670121",
   "metadata": {
    "scrolled": false
   },
   "outputs": [],
   "source": [
    "#Lets Generate A profile report of the cleaned data\n",
    "profile = ProfileReport(processed_features_df,minimal=True,dark_mode=True)\n",
    "#profile.to_file(output_file=\"EDA_Report_Cleaned.html\")\n",
    "profile"
   ]
  },
  {
   "cell_type": "code",
   "execution_count": null,
   "id": "72c228bf",
   "metadata": {
    "scrolled": true
   },
   "outputs": [],
   "source": [
    "processed_features_df.info()"
   ]
  },
  {
   "cell_type": "code",
   "execution_count": null,
   "id": "d9d4bc6d",
   "metadata": {
    "scrolled": false
   },
   "outputs": [],
   "source": [
    "processed_features_df.describe([0.25,0.50,0.75,0.99]).T"
   ]
  },
  {
   "cell_type": "code",
   "execution_count": null,
   "id": "ba841de4",
   "metadata": {},
   "outputs": [],
   "source": [
    "# Replace outliers with the 99 percentile value except weight column\n",
    "\n",
    "num_cols = ['HEIGHT3','_DRNKWK1','FTJUDA2_','FRUTDA2_','GRENDA1_','FRNCHDA_',\n",
    "            'POTADA1_','VEGEDA2_','_FRUTSU1','_VEGESU1','DROCDY3_']\n",
    "\n",
    "for i in num_cols:\n",
    "    percentile_99 = np.percentile(processed_features_df[i], 99)\n",
    "    processed_features_df.loc[processed_features_df[i] > percentile_99, i] = percentile_99\n"
   ]
  },
  {
   "cell_type": "code",
   "execution_count": null,
   "id": "e8837f19",
   "metadata": {},
   "outputs": [],
   "source": [
    "processed_features_df.describe([0.25,0.50,0.75,0.99]).T"
   ]
  },
  {
   "cell_type": "markdown",
   "id": "2b4ba3bc",
   "metadata": {},
   "source": [
    "- We can see the presence of significant multicolinearity between the fruits and vegetable columns, which we will\n",
    "look to remove further down the line "
   ]
  },
  {
   "cell_type": "markdown",
   "id": "c9c23484",
   "metadata": {},
   "source": [
    "#### Export the processed df out to be split into training and validation data"
   ]
  },
  {
   "cell_type": "code",
   "execution_count": null,
   "id": "9bb1223d",
   "metadata": {},
   "outputs": [],
   "source": [
    "processed_features_df.to_csv('mydata/MMSA2021_Cleaned.csv', index=False)"
   ]
  },
  {
   "cell_type": "markdown",
   "id": "7e87922b",
   "metadata": {},
   "source": [
    "### EXPLORATORY DATA ANALYSIS"
   ]
  },
  {
   "cell_type": "code",
   "execution_count": null,
   "id": "a9a87aff",
   "metadata": {},
   "outputs": [],
   "source": [
    "#Chesk for correlation between the numeric vairbales \n",
    "plt.figure(figsize=(12,8))\n",
    "plt.figure(figsize=(22,22))\n",
    "sns.heatmap(processed_features_df[num_cols].corr(),cmap='seismic',annot=True)"
   ]
  }
 ],
 "metadata": {
  "kernelspec": {
   "display_name": "Python 3 (ipykernel)",
   "language": "python",
   "name": "python3"
  },
  "language_info": {
   "codemirror_mode": {
    "name": "ipython",
    "version": 3
   },
   "file_extension": ".py",
   "mimetype": "text/x-python",
   "name": "python",
   "nbconvert_exporter": "python",
   "pygments_lexer": "ipython3",
   "version": "3.11.3"
  }
 },
 "nbformat": 4,
 "nbformat_minor": 5
}
